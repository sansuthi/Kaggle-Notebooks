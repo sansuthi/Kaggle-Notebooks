{
 "cells": [
  {
   "cell_type": "markdown",
   "id": "northern-munich",
   "metadata": {
    "papermill": {
     "duration": 0.018564,
     "end_time": "2021-06-06T14:10:30.783316",
     "exception": false,
     "start_time": "2021-06-06T14:10:30.764752",
     "status": "completed"
    },
    "tags": []
   },
   "source": [
    "# SIMPLE LINEAR REGRESSION"
   ]
  },
  {
   "cell_type": "markdown",
   "id": "unnecessary-queens",
   "metadata": {
    "papermill": {
     "duration": 0.016973,
     "end_time": "2021-06-06T14:10:30.818428",
     "exception": false,
     "start_time": "2021-06-06T14:10:30.801455",
     "status": "completed"
    },
    "tags": []
   },
   "source": [
    "# Importing Libraries"
   ]
  },
  {
   "cell_type": "code",
   "execution_count": 1,
   "id": "earned-metropolitan",
   "metadata": {
    "_cell_guid": "b1076dfc-b9ad-4769-8c92-a6c4dae69d19",
    "_uuid": "8f2839f25d086af736a60e9eeb907d3b93b6e0e5",
    "execution": {
     "iopub.execute_input": "2021-06-06T14:10:30.859640Z",
     "iopub.status.busy": "2021-06-06T14:10:30.858950Z",
     "iopub.status.idle": "2021-06-06T14:10:30.862215Z",
     "shell.execute_reply": "2021-06-06T14:10:30.861592Z",
     "shell.execute_reply.started": "2021-06-06T14:10:05.454805Z"
    },
    "papermill": {
     "duration": 0.026648,
     "end_time": "2021-06-06T14:10:30.862371",
     "exception": false,
     "start_time": "2021-06-06T14:10:30.835723",
     "status": "completed"
    },
    "tags": []
   },
   "outputs": [],
   "source": [
    "import numpy as np\n",
    "import pandas as pd\n",
    "import matplotlib.pyplot as plt\n",
    "import warnings\n",
    "warnings.filterwarnings('ignore')\n",
    "plt.style.use('ggplot')"
   ]
  },
  {
   "cell_type": "markdown",
   "id": "empirical-guarantee",
   "metadata": {
    "papermill": {
     "duration": 0.017062,
     "end_time": "2021-06-06T14:10:30.897252",
     "exception": false,
     "start_time": "2021-06-06T14:10:30.880190",
     "status": "completed"
    },
    "tags": []
   },
   "source": [
    "# Loading Data"
   ]
  },
  {
   "cell_type": "code",
   "execution_count": 2,
   "id": "presidential-retro",
   "metadata": {
    "execution": {
     "iopub.execute_input": "2021-06-06T14:10:30.937107Z",
     "iopub.status.busy": "2021-06-06T14:10:30.936476Z",
     "iopub.status.idle": "2021-06-06T14:10:30.980536Z",
     "shell.execute_reply": "2021-06-06T14:10:30.981065Z",
     "shell.execute_reply.started": "2021-06-06T14:10:05.461843Z"
    },
    "papermill": {
     "duration": 0.066314,
     "end_time": "2021-06-06T14:10:30.981234",
     "exception": false,
     "start_time": "2021-06-06T14:10:30.914920",
     "status": "completed"
    },
    "tags": []
   },
   "outputs": [
    {
     "data": {
      "text/html": [
       "<div>\n",
       "<style scoped>\n",
       "    .dataframe tbody tr th:only-of-type {\n",
       "        vertical-align: middle;\n",
       "    }\n",
       "\n",
       "    .dataframe tbody tr th {\n",
       "        vertical-align: top;\n",
       "    }\n",
       "\n",
       "    .dataframe thead th {\n",
       "        text-align: right;\n",
       "    }\n",
       "</style>\n",
       "<table border=\"1\" class=\"dataframe\">\n",
       "  <thead>\n",
       "    <tr style=\"text-align: right;\">\n",
       "      <th></th>\n",
       "      <th>YearsExperience</th>\n",
       "      <th>Salary</th>\n",
       "    </tr>\n",
       "  </thead>\n",
       "  <tbody>\n",
       "    <tr>\n",
       "      <th>0</th>\n",
       "      <td>1.1</td>\n",
       "      <td>39343.0</td>\n",
       "    </tr>\n",
       "    <tr>\n",
       "      <th>1</th>\n",
       "      <td>1.3</td>\n",
       "      <td>46205.0</td>\n",
       "    </tr>\n",
       "    <tr>\n",
       "      <th>2</th>\n",
       "      <td>1.5</td>\n",
       "      <td>37731.0</td>\n",
       "    </tr>\n",
       "    <tr>\n",
       "      <th>3</th>\n",
       "      <td>2.0</td>\n",
       "      <td>43525.0</td>\n",
       "    </tr>\n",
       "    <tr>\n",
       "      <th>4</th>\n",
       "      <td>2.2</td>\n",
       "      <td>39891.0</td>\n",
       "    </tr>\n",
       "    <tr>\n",
       "      <th>5</th>\n",
       "      <td>2.9</td>\n",
       "      <td>56642.0</td>\n",
       "    </tr>\n",
       "    <tr>\n",
       "      <th>6</th>\n",
       "      <td>3.0</td>\n",
       "      <td>60150.0</td>\n",
       "    </tr>\n",
       "    <tr>\n",
       "      <th>7</th>\n",
       "      <td>3.2</td>\n",
       "      <td>54445.0</td>\n",
       "    </tr>\n",
       "    <tr>\n",
       "      <th>8</th>\n",
       "      <td>3.2</td>\n",
       "      <td>64445.0</td>\n",
       "    </tr>\n",
       "    <tr>\n",
       "      <th>9</th>\n",
       "      <td>3.7</td>\n",
       "      <td>57189.0</td>\n",
       "    </tr>\n",
       "    <tr>\n",
       "      <th>10</th>\n",
       "      <td>3.9</td>\n",
       "      <td>63218.0</td>\n",
       "    </tr>\n",
       "    <tr>\n",
       "      <th>11</th>\n",
       "      <td>4.0</td>\n",
       "      <td>55794.0</td>\n",
       "    </tr>\n",
       "    <tr>\n",
       "      <th>12</th>\n",
       "      <td>4.0</td>\n",
       "      <td>56957.0</td>\n",
       "    </tr>\n",
       "    <tr>\n",
       "      <th>13</th>\n",
       "      <td>4.1</td>\n",
       "      <td>57081.0</td>\n",
       "    </tr>\n",
       "    <tr>\n",
       "      <th>14</th>\n",
       "      <td>4.5</td>\n",
       "      <td>61111.0</td>\n",
       "    </tr>\n",
       "    <tr>\n",
       "      <th>15</th>\n",
       "      <td>4.9</td>\n",
       "      <td>67938.0</td>\n",
       "    </tr>\n",
       "    <tr>\n",
       "      <th>16</th>\n",
       "      <td>5.1</td>\n",
       "      <td>66029.0</td>\n",
       "    </tr>\n",
       "    <tr>\n",
       "      <th>17</th>\n",
       "      <td>5.3</td>\n",
       "      <td>83088.0</td>\n",
       "    </tr>\n",
       "    <tr>\n",
       "      <th>18</th>\n",
       "      <td>5.9</td>\n",
       "      <td>81363.0</td>\n",
       "    </tr>\n",
       "    <tr>\n",
       "      <th>19</th>\n",
       "      <td>6.0</td>\n",
       "      <td>93940.0</td>\n",
       "    </tr>\n",
       "    <tr>\n",
       "      <th>20</th>\n",
       "      <td>6.8</td>\n",
       "      <td>91738.0</td>\n",
       "    </tr>\n",
       "    <tr>\n",
       "      <th>21</th>\n",
       "      <td>7.1</td>\n",
       "      <td>98273.0</td>\n",
       "    </tr>\n",
       "    <tr>\n",
       "      <th>22</th>\n",
       "      <td>7.9</td>\n",
       "      <td>101302.0</td>\n",
       "    </tr>\n",
       "    <tr>\n",
       "      <th>23</th>\n",
       "      <td>8.2</td>\n",
       "      <td>113812.0</td>\n",
       "    </tr>\n",
       "    <tr>\n",
       "      <th>24</th>\n",
       "      <td>8.7</td>\n",
       "      <td>109431.0</td>\n",
       "    </tr>\n",
       "    <tr>\n",
       "      <th>25</th>\n",
       "      <td>9.0</td>\n",
       "      <td>105582.0</td>\n",
       "    </tr>\n",
       "    <tr>\n",
       "      <th>26</th>\n",
       "      <td>9.5</td>\n",
       "      <td>116969.0</td>\n",
       "    </tr>\n",
       "    <tr>\n",
       "      <th>27</th>\n",
       "      <td>9.6</td>\n",
       "      <td>112635.0</td>\n",
       "    </tr>\n",
       "    <tr>\n",
       "      <th>28</th>\n",
       "      <td>10.3</td>\n",
       "      <td>122391.0</td>\n",
       "    </tr>\n",
       "    <tr>\n",
       "      <th>29</th>\n",
       "      <td>10.5</td>\n",
       "      <td>121872.0</td>\n",
       "    </tr>\n",
       "  </tbody>\n",
       "</table>\n",
       "</div>"
      ],
      "text/plain": [
       "    YearsExperience    Salary\n",
       "0               1.1   39343.0\n",
       "1               1.3   46205.0\n",
       "2               1.5   37731.0\n",
       "3               2.0   43525.0\n",
       "4               2.2   39891.0\n",
       "5               2.9   56642.0\n",
       "6               3.0   60150.0\n",
       "7               3.2   54445.0\n",
       "8               3.2   64445.0\n",
       "9               3.7   57189.0\n",
       "10              3.9   63218.0\n",
       "11              4.0   55794.0\n",
       "12              4.0   56957.0\n",
       "13              4.1   57081.0\n",
       "14              4.5   61111.0\n",
       "15              4.9   67938.0\n",
       "16              5.1   66029.0\n",
       "17              5.3   83088.0\n",
       "18              5.9   81363.0\n",
       "19              6.0   93940.0\n",
       "20              6.8   91738.0\n",
       "21              7.1   98273.0\n",
       "22              7.9  101302.0\n",
       "23              8.2  113812.0\n",
       "24              8.7  109431.0\n",
       "25              9.0  105582.0\n",
       "26              9.5  116969.0\n",
       "27              9.6  112635.0\n",
       "28             10.3  122391.0\n",
       "29             10.5  121872.0"
      ]
     },
     "execution_count": 2,
     "metadata": {},
     "output_type": "execute_result"
    }
   ],
   "source": [
    "data = pd.read_csv('../input/salary-data-simple-linear-regression/Salary_Data.csv')\n",
    "data"
   ]
  },
  {
   "cell_type": "code",
   "execution_count": 3,
   "id": "unlike-earthquake",
   "metadata": {
    "execution": {
     "iopub.execute_input": "2021-06-06T14:10:31.028199Z",
     "iopub.status.busy": "2021-06-06T14:10:31.027518Z",
     "iopub.status.idle": "2021-06-06T14:10:31.044065Z",
     "shell.execute_reply": "2021-06-06T14:10:31.043363Z",
     "shell.execute_reply.started": "2021-06-06T14:10:05.492792Z"
    },
    "papermill": {
     "duration": 0.043016,
     "end_time": "2021-06-06T14:10:31.044217",
     "exception": false,
     "start_time": "2021-06-06T14:10:31.001201",
     "status": "completed"
    },
    "tags": []
   },
   "outputs": [
    {
     "data": {
      "text/html": [
       "<div>\n",
       "<style scoped>\n",
       "    .dataframe tbody tr th:only-of-type {\n",
       "        vertical-align: middle;\n",
       "    }\n",
       "\n",
       "    .dataframe tbody tr th {\n",
       "        vertical-align: top;\n",
       "    }\n",
       "\n",
       "    .dataframe thead th {\n",
       "        text-align: right;\n",
       "    }\n",
       "</style>\n",
       "<table border=\"1\" class=\"dataframe\">\n",
       "  <thead>\n",
       "    <tr style=\"text-align: right;\">\n",
       "      <th></th>\n",
       "      <th>YearsExperience</th>\n",
       "      <th>Salary</th>\n",
       "    </tr>\n",
       "  </thead>\n",
       "  <tbody>\n",
       "    <tr>\n",
       "      <th>count</th>\n",
       "      <td>30.000000</td>\n",
       "      <td>30.000000</td>\n",
       "    </tr>\n",
       "    <tr>\n",
       "      <th>mean</th>\n",
       "      <td>5.313333</td>\n",
       "      <td>76003.000000</td>\n",
       "    </tr>\n",
       "    <tr>\n",
       "      <th>std</th>\n",
       "      <td>2.837888</td>\n",
       "      <td>27414.429785</td>\n",
       "    </tr>\n",
       "    <tr>\n",
       "      <th>min</th>\n",
       "      <td>1.100000</td>\n",
       "      <td>37731.000000</td>\n",
       "    </tr>\n",
       "    <tr>\n",
       "      <th>25%</th>\n",
       "      <td>3.200000</td>\n",
       "      <td>56720.750000</td>\n",
       "    </tr>\n",
       "    <tr>\n",
       "      <th>50%</th>\n",
       "      <td>4.700000</td>\n",
       "      <td>65237.000000</td>\n",
       "    </tr>\n",
       "    <tr>\n",
       "      <th>75%</th>\n",
       "      <td>7.700000</td>\n",
       "      <td>100544.750000</td>\n",
       "    </tr>\n",
       "    <tr>\n",
       "      <th>max</th>\n",
       "      <td>10.500000</td>\n",
       "      <td>122391.000000</td>\n",
       "    </tr>\n",
       "  </tbody>\n",
       "</table>\n",
       "</div>"
      ],
      "text/plain": [
       "       YearsExperience         Salary\n",
       "count        30.000000      30.000000\n",
       "mean          5.313333   76003.000000\n",
       "std           2.837888   27414.429785\n",
       "min           1.100000   37731.000000\n",
       "25%           3.200000   56720.750000\n",
       "50%           4.700000   65237.000000\n",
       "75%           7.700000  100544.750000\n",
       "max          10.500000  122391.000000"
      ]
     },
     "execution_count": 3,
     "metadata": {},
     "output_type": "execute_result"
    }
   ],
   "source": [
    "data.describe()"
   ]
  },
  {
   "cell_type": "code",
   "execution_count": 4,
   "id": "charming-inspector",
   "metadata": {
    "execution": {
     "iopub.execute_input": "2021-06-06T14:10:31.093645Z",
     "iopub.status.busy": "2021-06-06T14:10:31.092582Z",
     "iopub.status.idle": "2021-06-06T14:10:31.097440Z",
     "shell.execute_reply": "2021-06-06T14:10:31.096939Z",
     "shell.execute_reply.started": "2021-06-06T14:10:05.512875Z"
    },
    "papermill": {
     "duration": 0.034018,
     "end_time": "2021-06-06T14:10:31.097582",
     "exception": false,
     "start_time": "2021-06-06T14:10:31.063564",
     "status": "completed"
    },
    "tags": []
   },
   "outputs": [
    {
     "data": {
      "text/html": [
       "<div>\n",
       "<style scoped>\n",
       "    .dataframe tbody tr th:only-of-type {\n",
       "        vertical-align: middle;\n",
       "    }\n",
       "\n",
       "    .dataframe tbody tr th {\n",
       "        vertical-align: top;\n",
       "    }\n",
       "\n",
       "    .dataframe thead th {\n",
       "        text-align: right;\n",
       "    }\n",
       "</style>\n",
       "<table border=\"1\" class=\"dataframe\">\n",
       "  <thead>\n",
       "    <tr style=\"text-align: right;\">\n",
       "      <th></th>\n",
       "      <th>YearsExperience</th>\n",
       "      <th>Salary</th>\n",
       "    </tr>\n",
       "  </thead>\n",
       "  <tbody>\n",
       "    <tr>\n",
       "      <th>YearsExperience</th>\n",
       "      <td>1.000000</td>\n",
       "      <td>0.978242</td>\n",
       "    </tr>\n",
       "    <tr>\n",
       "      <th>Salary</th>\n",
       "      <td>0.978242</td>\n",
       "      <td>1.000000</td>\n",
       "    </tr>\n",
       "  </tbody>\n",
       "</table>\n",
       "</div>"
      ],
      "text/plain": [
       "                 YearsExperience    Salary\n",
       "YearsExperience         1.000000  0.978242\n",
       "Salary                  0.978242  1.000000"
      ]
     },
     "execution_count": 4,
     "metadata": {},
     "output_type": "execute_result"
    }
   ],
   "source": [
    "data.corr()"
   ]
  },
  {
   "cell_type": "markdown",
   "id": "pacific-world",
   "metadata": {
    "papermill": {
     "duration": 0.01939,
     "end_time": "2021-06-06T14:10:31.136813",
     "exception": false,
     "start_time": "2021-06-06T14:10:31.117423",
     "status": "completed"
    },
    "tags": []
   },
   "source": [
    "# Plotting Data"
   ]
  },
  {
   "cell_type": "code",
   "execution_count": 5,
   "id": "fancy-exclusive",
   "metadata": {
    "execution": {
     "iopub.execute_input": "2021-06-06T14:10:31.196551Z",
     "iopub.status.busy": "2021-06-06T14:10:31.192634Z",
     "iopub.status.idle": "2021-06-06T14:10:31.503834Z",
     "shell.execute_reply": "2021-06-06T14:10:31.503091Z",
     "shell.execute_reply.started": "2021-06-06T14:10:05.530047Z"
    },
    "papermill": {
     "duration": 0.347811,
     "end_time": "2021-06-06T14:10:31.503985",
     "exception": false,
     "start_time": "2021-06-06T14:10:31.156174",
     "status": "completed"
    },
    "tags": []
   },
   "outputs": [
    {
     "data": {
      "image/png": "[encoded data removed]",
      "text/plain": [
       "<Figure size 1296x360 with 2 Axes>"
      ]
     },
     "metadata": {},
     "output_type": "display_data"
    }
   ],
   "source": [
    "fig, ax = plt.subplots(1, 2, figsize=(18, 5))\n",
    "ax[0].set_title('Years of Experience', fontsize=15)\n",
    "ax[0].hist(data.YearsExperience, color='brown')\n",
    "ax[1].set_title('Salary', fontsize=15)\n",
    "ax[1].hist(data.Salary, color='brown')\n",
    "plt.show()"
   ]
  },
  {
   "cell_type": "code",
   "execution_count": 6,
   "id": "excited-excuse",
   "metadata": {
    "execution": {
     "iopub.execute_input": "2021-06-06T14:10:31.576208Z",
     "iopub.status.busy": "2021-06-06T14:10:31.573640Z",
     "iopub.status.idle": "2021-06-06T14:10:31.712020Z",
     "shell.execute_reply": "2021-06-06T14:10:31.712622Z",
     "shell.execute_reply.started": "2021-06-06T14:10:05.826526Z"
    },
    "papermill": {
     "duration": 0.188412,
     "end_time": "2021-06-06T14:10:31.712814",
     "exception": false,
     "start_time": "2021-06-06T14:10:31.524402",
     "status": "completed"
    },
    "tags": []
   },
   "outputs": [
    {
     "data": {
      "image/png": "[encoded data removed]",
      "text/plain": [
       "<Figure size 720x360 with 1 Axes>"
      ]
     },
     "metadata": {},
     "output_type": "display_data"
    }
   ],
   "source": [
    "plt.figure(figsize=(10,5))\n",
    "plt.title('Years of Experience vs Salary', fontsize=13)\n",
    "plt.xlabel('Experience (yrs)', fontsize=12)\n",
    "plt.ylabel('Salary', fontsize=12)\n",
    "plt.scatter(data.YearsExperience, data.Salary, s=75, color='black')\n",
    "plt.show()"
   ]
  },
  {
   "cell_type": "markdown",
   "id": "announced-laugh",
   "metadata": {
    "papermill": {
     "duration": 0.021249,
     "end_time": "2021-06-06T14:10:31.755097",
     "exception": false,
     "start_time": "2021-06-06T14:10:31.733848",
     "status": "completed"
    },
    "tags": []
   },
   "source": [
    "# Simple Regression Model"
   ]
  },
  {
   "cell_type": "code",
   "execution_count": 7,
   "id": "labeled-murder",
   "metadata": {
    "execution": {
     "iopub.execute_input": "2021-06-06T14:10:31.804747Z",
     "iopub.status.busy": "2021-06-06T14:10:31.803789Z",
     "iopub.status.idle": "2021-06-06T14:10:32.967143Z",
     "shell.execute_reply": "2021-06-06T14:10:32.967672Z",
     "shell.execute_reply.started": "2021-06-06T14:10:05.980786Z"
    },
    "papermill": {
     "duration": 1.188341,
     "end_time": "2021-06-06T14:10:32.967893",
     "exception": false,
     "start_time": "2021-06-06T14:10:31.779552",
     "status": "completed"
    },
    "tags": []
   },
   "outputs": [],
   "source": [
    "from sklearn.model_selection import train_test_split\n",
    "from sklearn.linear_model import LinearRegression\n",
    "from sklearn.metrics import mean_absolute_error\n",
    "from sklearn.metrics import mean_squared_error \n",
    "from sklearn.metrics import r2_score "
   ]
  },
  {
   "cell_type": "markdown",
   "id": "clean-republic",
   "metadata": {
    "papermill": {
     "duration": 0.020601,
     "end_time": "2021-06-06T14:10:33.009591",
     "exception": false,
     "start_time": "2021-06-06T14:10:32.988990",
     "status": "completed"
    },
    "tags": []
   },
   "source": [
    "## Creating Training & Testing Set"
   ]
  },
  {
   "cell_type": "code",
   "execution_count": 8,
   "id": "lesbian-baking",
   "metadata": {
    "execution": {
     "iopub.execute_input": "2021-06-06T14:10:33.055647Z",
     "iopub.status.busy": "2021-06-06T14:10:33.054699Z",
     "iopub.status.idle": "2021-06-06T14:10:33.060987Z",
     "shell.execute_reply": "2021-06-06T14:10:33.061541Z",
     "shell.execute_reply.started": "2021-06-06T14:10:05.986175Z"
    },
    "papermill": {
     "duration": 0.031065,
     "end_time": "2021-06-06T14:10:33.061708",
     "exception": false,
     "start_time": "2021-06-06T14:10:33.030643",
     "status": "completed"
    },
    "tags": []
   },
   "outputs": [],
   "source": [
    "X = data.iloc[:,:-1].values\n",
    "y = data.iloc[:,-1].values\n",
    "X_train, X_test, y_train, y_test = train_test_split(X, y, test_size=0.25, random_state=0)"
   ]
  },
  {
   "cell_type": "code",
   "execution_count": 9,
   "id": "fundamental-sentence",
   "metadata": {
    "execution": {
     "iopub.execute_input": "2021-06-06T14:10:33.108047Z",
     "iopub.status.busy": "2021-06-06T14:10:33.107105Z",
     "iopub.status.idle": "2021-06-06T14:10:33.114093Z",
     "shell.execute_reply": "2021-06-06T14:10:33.114593Z",
     "shell.execute_reply.started": "2021-06-06T14:10:05.999038Z"
    },
    "papermill": {
     "duration": 0.032033,
     "end_time": "2021-06-06T14:10:33.114774",
     "exception": false,
     "start_time": "2021-06-06T14:10:33.082741",
     "status": "completed"
    },
    "tags": []
   },
   "outputs": [
    {
     "name": "stdout",
     "output_type": "stream",
     "text": [
      "Shape of X_train: (22, 1)\n",
      "Shape of X_test: (8, 1)\n",
      "Shape of y_train: (22,)\n",
      "Shape of y_test: (8,)\n"
     ]
    }
   ],
   "source": [
    "col = ['X_train', 'X_test', 'y_train', 'y_test']\n",
    "data = [X_train, X_test, y_train, y_test]\n",
    "for i in range(len(col)):\n",
    "    print(f'Shape of {col[i]}: {data[i].shape}')"
   ]
  },
  {
   "cell_type": "markdown",
   "id": "norwegian-opera",
   "metadata": {
    "papermill": {
     "duration": 0.020946,
     "end_time": "2021-06-06T14:10:33.157252",
     "exception": false,
     "start_time": "2021-06-06T14:10:33.136306",
     "status": "completed"
    },
    "tags": []
   },
   "source": [
    "## Plotting Dataset Distribution"
   ]
  },
  {
   "cell_type": "code",
   "execution_count": 10,
   "id": "optional-hebrew",
   "metadata": {
    "execution": {
     "iopub.execute_input": "2021-06-06T14:10:33.222065Z",
     "iopub.status.busy": "2021-06-06T14:10:33.221421Z",
     "iopub.status.idle": "2021-06-06T14:10:33.466542Z",
     "shell.execute_reply": "2021-06-06T14:10:33.465916Z",
     "shell.execute_reply.started": "2021-06-06T14:10:06.013332Z"
    },
    "papermill": {
     "duration": 0.288051,
     "end_time": "2021-06-06T14:10:33.466676",
     "exception": false,
     "start_time": "2021-06-06T14:10:33.178625",
     "status": "completed"
    },
    "tags": []
   },
   "outputs": [
    {
     "data": {
      "image/png": "[encoded data removed]",
      "text/plain": [
       "<Figure size 1080x360 with 2 Axes>"
      ]
     },
     "metadata": {},
     "output_type": "display_data"
    }
   ],
   "source": [
    "fig, ax = plt.subplots(1, 2, figsize=(15, 5))\n",
    "ax[0].set_title('Training Set', fontsize=15)\n",
    "ax[0].scatter(X_train, y_train, s=75, color='black')\n",
    "ax[0].set_xlabel('Experience (yrs)')\n",
    "ax[0].set_ylabel('Salary')\n",
    "ax[1].set_title('Testing Set', fontsize=15)\n",
    "ax[1].scatter(X_test, y_test, s=75, color='black')\n",
    "ax[1].set_xlabel('Experience (yrs)')\n",
    "ax[1].set_ylabel('Salary')\n",
    "plt.show()"
   ]
  },
  {
   "cell_type": "markdown",
   "id": "integral-vietnam",
   "metadata": {
    "papermill": {
     "duration": 0.023158,
     "end_time": "2021-06-06T14:10:33.512286",
     "exception": false,
     "start_time": "2021-06-06T14:10:33.489128",
     "status": "completed"
    },
    "tags": []
   },
   "source": [
    "## Modeling & Fitting"
   ]
  },
  {
   "cell_type": "code",
   "execution_count": 11,
   "id": "scenic-orleans",
   "metadata": {
    "execution": {
     "iopub.execute_input": "2021-06-06T14:10:33.577861Z",
     "iopub.status.busy": "2021-06-06T14:10:33.576887Z",
     "iopub.status.idle": "2021-06-06T14:10:33.580322Z",
     "shell.execute_reply": "2021-06-06T14:10:33.580805Z",
     "shell.execute_reply.started": "2021-06-06T14:10:06.439707Z"
    },
    "papermill": {
     "duration": 0.046442,
     "end_time": "2021-06-06T14:10:33.580977",
     "exception": false,
     "start_time": "2021-06-06T14:10:33.534535",
     "status": "completed"
    },
    "tags": []
   },
   "outputs": [
    {
     "name": "stdout",
     "output_type": "stream",
     "text": [
      "Coefficients: [9379.71049195]\n",
      "Intercepts: 26986.691316737248\n"
     ]
    }
   ],
   "source": [
    "regr = LinearRegression()\n",
    "regr.fit(X_train, y_train)\n",
    "print(f'Coefficients: {regr.coef_}')\n",
    "print(f'Intercepts: {regr.intercept_}')"
   ]
  },
  {
   "cell_type": "markdown",
   "id": "senior-student",
   "metadata": {
    "papermill": {
     "duration": 0.022218,
     "end_time": "2021-06-06T14:10:33.626399",
     "exception": false,
     "start_time": "2021-06-06T14:10:33.604181",
     "status": "completed"
    },
    "tags": []
   },
   "source": [
    "## Plotting Regression Line"
   ]
  },
  {
   "cell_type": "code",
   "execution_count": 12,
   "id": "wanted-match",
   "metadata": {
    "execution": {
     "iopub.execute_input": "2021-06-06T14:10:33.696293Z",
     "iopub.status.busy": "2021-06-06T14:10:33.695240Z",
     "iopub.status.idle": "2021-06-06T14:10:33.972123Z",
     "shell.execute_reply": "2021-06-06T14:10:33.971576Z",
     "shell.execute_reply.started": "2021-06-06T14:10:06.448731Z"
    },
    "papermill": {
     "duration": 0.323412,
     "end_time": "2021-06-06T14:10:33.972267",
     "exception": false,
     "start_time": "2021-06-06T14:10:33.648855",
     "status": "completed"
    },
    "tags": []
   },
   "outputs": [
    {
     "data": {
      "image/png": "[encoded data removed]",
      "text/plain": [
       "<Figure size 1080x360 with 2 Axes>"
      ]
     },
     "metadata": {},
     "output_type": "display_data"
    }
   ],
   "source": [
    "fig, ax = plt.subplots(1, 2, figsize=(15, 5))\n",
    "ax[0].set_title('Training Set', fontsize=15)\n",
    "ax[0].scatter(X_train, y_train, s=75, color='black')\n",
    "ax[0].plot(X_train, regr.coef_*X_train + regr.intercept_, '-r')\n",
    "ax[0].set_xlabel('Experience (yrs)')\n",
    "ax[0].set_ylabel('Salary')\n",
    "ax[1].set_title('Testing Set', fontsize=15)\n",
    "ax[1].scatter(X_test, y_test, s=75, color='black')\n",
    "ax[1].plot(X_test, regr.coef_*X_test + regr.intercept_, '-r')\n",
    "ax[1].set_xlabel('Experience (yrs)')\n",
    "ax[1].set_ylabel('Salary')\n",
    "plt.show()"
   ]
  },
  {
   "cell_type": "markdown",
   "id": "unnecessary-reggae",
   "metadata": {
    "papermill": {
     "duration": 0.023825,
     "end_time": "2021-06-06T14:10:34.020104",
     "exception": false,
     "start_time": "2021-06-06T14:10:33.996279",
     "status": "completed"
    },
    "tags": []
   },
   "source": [
    "## Making Predictions"
   ]
  },
  {
   "cell_type": "code",
   "execution_count": 13,
   "id": "geographic-anatomy",
   "metadata": {
    "execution": {
     "iopub.execute_input": "2021-06-06T14:10:34.083363Z",
     "iopub.status.busy": "2021-06-06T14:10:34.082410Z",
     "iopub.status.idle": "2021-06-06T14:10:34.087103Z",
     "shell.execute_reply": "2021-06-06T14:10:34.086583Z",
     "shell.execute_reply.started": "2021-06-06T14:10:06.736274Z"
    },
    "papermill": {
     "duration": 0.04299,
     "end_time": "2021-06-06T14:10:34.087244",
     "exception": false,
     "start_time": "2021-06-06T14:10:34.044254",
     "status": "completed"
    },
    "tags": []
   },
   "outputs": [
    {
     "data": {
      "text/html": [
       "<div>\n",
       "<style scoped>\n",
       "    .dataframe tbody tr th:only-of-type {\n",
       "        vertical-align: middle;\n",
       "    }\n",
       "\n",
       "    .dataframe tbody tr th {\n",
       "        vertical-align: top;\n",
       "    }\n",
       "\n",
       "    .dataframe thead th {\n",
       "        text-align: right;\n",
       "    }\n",
       "</style>\n",
       "<table border=\"1\" class=\"dataframe\">\n",
       "  <thead>\n",
       "    <tr style=\"text-align: right;\">\n",
       "      <th></th>\n",
       "      <th>Years Experience</th>\n",
       "      <th>Actual Salary</th>\n",
       "      <th>Predicted Salary</th>\n",
       "    </tr>\n",
       "  </thead>\n",
       "  <tbody>\n",
       "    <tr>\n",
       "      <th>0</th>\n",
       "      <td>1.5</td>\n",
       "      <td>37731.0</td>\n",
       "      <td>41056.0</td>\n",
       "    </tr>\n",
       "    <tr>\n",
       "      <th>1</th>\n",
       "      <td>10.3</td>\n",
       "      <td>122391.0</td>\n",
       "      <td>123598.0</td>\n",
       "    </tr>\n",
       "    <tr>\n",
       "      <th>2</th>\n",
       "      <td>4.1</td>\n",
       "      <td>57081.0</td>\n",
       "      <td>65444.0</td>\n",
       "    </tr>\n",
       "    <tr>\n",
       "      <th>3</th>\n",
       "      <td>3.9</td>\n",
       "      <td>63218.0</td>\n",
       "      <td>63568.0</td>\n",
       "    </tr>\n",
       "    <tr>\n",
       "      <th>4</th>\n",
       "      <td>9.5</td>\n",
       "      <td>116969.0</td>\n",
       "      <td>116094.0</td>\n",
       "    </tr>\n",
       "    <tr>\n",
       "      <th>5</th>\n",
       "      <td>8.7</td>\n",
       "      <td>109431.0</td>\n",
       "      <td>108590.0</td>\n",
       "    </tr>\n",
       "    <tr>\n",
       "      <th>6</th>\n",
       "      <td>9.6</td>\n",
       "      <td>112635.0</td>\n",
       "      <td>117032.0</td>\n",
       "    </tr>\n",
       "    <tr>\n",
       "      <th>7</th>\n",
       "      <td>4.0</td>\n",
       "      <td>55794.0</td>\n",
       "      <td>64506.0</td>\n",
       "    </tr>\n",
       "  </tbody>\n",
       "</table>\n",
       "</div>"
      ],
      "text/plain": [
       "   Years Experience  Actual Salary  Predicted Salary\n",
       "0               1.5        37731.0           41056.0\n",
       "1              10.3       122391.0          123598.0\n",
       "2               4.1        57081.0           65444.0\n",
       "3               3.9        63218.0           63568.0\n",
       "4               9.5       116969.0          116094.0\n",
       "5               8.7       109431.0          108590.0\n",
       "6               9.6       112635.0          117032.0\n",
       "7               4.0        55794.0           64506.0"
      ]
     },
     "execution_count": 13,
     "metadata": {},
     "output_type": "execute_result"
    }
   ],
   "source": [
    "y_pred = np.round(regr.predict(X_test))\n",
    "pd.DataFrame({'Years Experience': X_test[:,0], 'Actual Salary': y_test, 'Predicted Salary': y_pred})"
   ]
  },
  {
   "cell_type": "markdown",
   "id": "separated-samoa",
   "metadata": {
    "papermill": {
     "duration": 0.024234,
     "end_time": "2021-06-06T14:10:34.135942",
     "exception": false,
     "start_time": "2021-06-06T14:10:34.111708",
     "status": "completed"
    },
    "tags": []
   },
   "source": [
    "## Evaluation"
   ]
  },
  {
   "cell_type": "code",
   "execution_count": 14,
   "id": "difficult-sherman",
   "metadata": {
    "execution": {
     "iopub.execute_input": "2021-06-06T14:10:34.191846Z",
     "iopub.status.busy": "2021-06-06T14:10:34.191136Z",
     "iopub.status.idle": "2021-06-06T14:10:34.195177Z",
     "shell.execute_reply": "2021-06-06T14:10:34.195631Z",
     "shell.execute_reply.started": "2021-06-06T14:10:06.752632Z"
    },
    "papermill": {
     "duration": 0.03545,
     "end_time": "2021-06-06T14:10:34.195821",
     "exception": false,
     "start_time": "2021-06-06T14:10:34.160371",
     "status": "completed"
    },
    "tags": []
   },
   "outputs": [
    {
     "name": "stdout",
     "output_type": "stream",
     "text": [
      "Mean Absolute Error(MAE): 3508.75\n",
      "Residual Sum of Squares(MSE): 22410025.25\n",
      "R2-Score: 0.977918779028194\n"
     ]
    }
   ],
   "source": [
    "print(f'Mean Absolute Error(MAE): {mean_absolute_error(y_test, y_pred)}')\n",
    "print(f'Residual Sum of Squares(MSE): {mean_squared_error(y_test, y_pred)}')\n",
    "print(f'R2-Score: {r2_score(y_test, y_pred)}')"
   ]
  },
  {
   "cell_type": "markdown",
   "id": "major-myanmar",
   "metadata": {
    "papermill": {
     "duration": 0.0242,
     "end_time": "2021-06-06T14:10:34.244695",
     "exception": false,
     "start_time": "2021-06-06T14:10:34.220495",
     "status": "completed"
    },
    "tags": []
   },
   "source": [
    "## Thank You!"
   ]
  }
 ],
 "metadata": {
  "kernelspec": {
   "display_name": "Python 3",
   "language": "python",
   "name": "python3"
  },
  "language_info": {
   "codemirror_mode": {
    "name": "ipython",
    "version": 3
   },
   "file_extension": ".py",
   "mimetype": "text/x-python",
   "name": "python",
   "nbconvert_exporter": "python",
   "pygments_lexer": "ipython3",
   "version": "3.7.9"
  },
  "papermill": {
   "default_parameters": {},
   "duration": 10.194003,
   "end_time": "2021-06-06T14:10:34.979154",
   "environment_variables": {},
   "exception": null,
   "input_path": "__notebook__.ipynb",
   "output_path": "__notebook__.ipynb",
   "parameters": {},
   "start_time": "2021-06-06T14:10:24.785151",
   "version": "2.3.2"
  }
 },
 "nbformat": 4,
 "nbformat_minor": 5
}
