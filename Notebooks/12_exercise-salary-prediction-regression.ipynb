{
 "cells": [
  {
   "cell_type": "markdown",
   "id": "stopped-article",
   "metadata": {
    "papermill": {
     "duration": 0.012724,
     "end_time": "2021-06-06T15:26:21.900134",
     "exception": false,
     "start_time": "2021-06-06T15:26:21.887410",
     "status": "completed"
    },
    "tags": []
   },
   "source": [
    "# Importing Libraries"
   ]
  },
  {
   "cell_type": "code",
   "execution_count": 1,
   "id": "three-judges",
   "metadata": {
    "_cell_guid": "b1076dfc-b9ad-4769-8c92-a6c4dae69d19",
    "_uuid": "8f2839f25d086af736a60e9eeb907d3b93b6e0e5",
    "execution": {
     "iopub.execute_input": "2021-06-06T15:26:21.928437Z",
     "iopub.status.busy": "2021-06-06T15:26:21.927491Z",
     "iopub.status.idle": "2021-06-06T15:26:21.931733Z",
     "shell.execute_reply": "2021-06-06T15:26:21.932161Z",
     "shell.execute_reply.started": "2021-06-06T15:23:26.305672Z"
    },
    "papermill": {
     "duration": 0.019211,
     "end_time": "2021-06-06T15:26:21.932420",
     "exception": false,
     "start_time": "2021-06-06T15:26:21.913209",
     "status": "completed"
    },
    "tags": []
   },
   "outputs": [],
   "source": [
    "import numpy as np\n",
    "import pandas as pd\n",
    "import matplotlib.pyplot as plt\n",
    "import warnings\n",
    "warnings.filterwarnings('ignore')\n",
    "plt.style.use('ggplot')"
   ]
  },
  {
   "cell_type": "markdown",
   "id": "little-separation",
   "metadata": {
    "papermill": {
     "duration": 0.011551,
     "end_time": "2021-06-06T15:26:21.955756",
     "exception": false,
     "start_time": "2021-06-06T15:26:21.944205",
     "status": "completed"
    },
    "tags": []
   },
   "source": [
    "# Loading Data"
   ]
  },
  {
   "cell_type": "code",
   "execution_count": 2,
   "id": "changed-moral",
   "metadata": {
    "execution": {
     "iopub.execute_input": "2021-06-06T15:26:21.982660Z",
     "iopub.status.busy": "2021-06-06T15:26:21.982133Z",
     "iopub.status.idle": "2021-06-06T15:26:22.017539Z",
     "shell.execute_reply": "2021-06-06T15:26:22.017973Z",
     "shell.execute_reply.started": "2021-06-06T15:23:26.314791Z"
    },
    "papermill": {
     "duration": 0.050617,
     "end_time": "2021-06-06T15:26:22.018130",
     "exception": false,
     "start_time": "2021-06-06T15:26:21.967513",
     "status": "completed"
    },
    "tags": []
   },
   "outputs": [
    {
     "data": {
      "text/html": [
       "<div>\n",
       "<style scoped>\n",
       "    .dataframe tbody tr th:only-of-type {\n",
       "        vertical-align: middle;\n",
       "    }\n",
       "\n",
       "    .dataframe tbody tr th {\n",
       "        vertical-align: top;\n",
       "    }\n",
       "\n",
       "    .dataframe thead th {\n",
       "        text-align: right;\n",
       "    }\n",
       "</style>\n",
       "<table border=\"1\" class=\"dataframe\">\n",
       "  <thead>\n",
       "    <tr style=\"text-align: right;\">\n",
       "      <th></th>\n",
       "      <th>deneyim</th>\n",
       "      <th>maas</th>\n",
       "    </tr>\n",
       "  </thead>\n",
       "  <tbody>\n",
       "    <tr>\n",
       "      <th>0</th>\n",
       "      <td>0.5</td>\n",
       "      <td>2500</td>\n",
       "    </tr>\n",
       "    <tr>\n",
       "      <th>1</th>\n",
       "      <td>0.0</td>\n",
       "      <td>2250</td>\n",
       "    </tr>\n",
       "    <tr>\n",
       "      <th>2</th>\n",
       "      <td>1.0</td>\n",
       "      <td>2750</td>\n",
       "    </tr>\n",
       "    <tr>\n",
       "      <th>3</th>\n",
       "      <td>5.0</td>\n",
       "      <td>8000</td>\n",
       "    </tr>\n",
       "    <tr>\n",
       "      <th>4</th>\n",
       "      <td>8.0</td>\n",
       "      <td>9000</td>\n",
       "    </tr>\n",
       "    <tr>\n",
       "      <th>5</th>\n",
       "      <td>4.0</td>\n",
       "      <td>6900</td>\n",
       "    </tr>\n",
       "    <tr>\n",
       "      <th>6</th>\n",
       "      <td>15.0</td>\n",
       "      <td>20000</td>\n",
       "    </tr>\n",
       "    <tr>\n",
       "      <th>7</th>\n",
       "      <td>7.0</td>\n",
       "      <td>8500</td>\n",
       "    </tr>\n",
       "    <tr>\n",
       "      <th>8</th>\n",
       "      <td>3.0</td>\n",
       "      <td>6000</td>\n",
       "    </tr>\n",
       "    <tr>\n",
       "      <th>9</th>\n",
       "      <td>2.0</td>\n",
       "      <td>3500</td>\n",
       "    </tr>\n",
       "    <tr>\n",
       "      <th>10</th>\n",
       "      <td>12.0</td>\n",
       "      <td>15000</td>\n",
       "    </tr>\n",
       "    <tr>\n",
       "      <th>11</th>\n",
       "      <td>10.0</td>\n",
       "      <td>13000</td>\n",
       "    </tr>\n",
       "    <tr>\n",
       "      <th>12</th>\n",
       "      <td>14.0</td>\n",
       "      <td>18000</td>\n",
       "    </tr>\n",
       "    <tr>\n",
       "      <th>13</th>\n",
       "      <td>6.0</td>\n",
       "      <td>7500</td>\n",
       "    </tr>\n",
       "  </tbody>\n",
       "</table>\n",
       "</div>"
      ],
      "text/plain": [
       "    deneyim   maas\n",
       "0       0.5   2500\n",
       "1       0.0   2250\n",
       "2       1.0   2750\n",
       "3       5.0   8000\n",
       "4       8.0   9000\n",
       "5       4.0   6900\n",
       "6      15.0  20000\n",
       "7       7.0   8500\n",
       "8       3.0   6000\n",
       "9       2.0   3500\n",
       "10     12.0  15000\n",
       "11     10.0  13000\n",
       "12     14.0  18000\n",
       "13      6.0   7500"
      ]
     },
     "execution_count": 2,
     "metadata": {},
     "output_type": "execute_result"
    }
   ],
   "source": [
    "data = pd.read_csv('../input/linearregressiondataset3/linear-regression-dataset.csv')\n",
    "data"
   ]
  },
  {
   "cell_type": "code",
   "execution_count": 3,
   "id": "correct-disclosure",
   "metadata": {
    "execution": {
     "iopub.execute_input": "2021-06-06T15:26:22.046817Z",
     "iopub.status.busy": "2021-06-06T15:26:22.046243Z",
     "iopub.status.idle": "2021-06-06T15:26:22.063635Z",
     "shell.execute_reply": "2021-06-06T15:26:22.064158Z",
     "shell.execute_reply.started": "2021-06-06T15:23:26.339583Z"
    },
    "papermill": {
     "duration": 0.033158,
     "end_time": "2021-06-06T15:26:22.064314",
     "exception": false,
     "start_time": "2021-06-06T15:26:22.031156",
     "status": "completed"
    },
    "tags": []
   },
   "outputs": [
    {
     "data": {
      "text/html": [
       "<div>\n",
       "<style scoped>\n",
       "    .dataframe tbody tr th:only-of-type {\n",
       "        vertical-align: middle;\n",
       "    }\n",
       "\n",
       "    .dataframe tbody tr th {\n",
       "        vertical-align: top;\n",
       "    }\n",
       "\n",
       "    .dataframe thead th {\n",
       "        text-align: right;\n",
       "    }\n",
       "</style>\n",
       "<table border=\"1\" class=\"dataframe\">\n",
       "  <thead>\n",
       "    <tr style=\"text-align: right;\">\n",
       "      <th></th>\n",
       "      <th>deneyim</th>\n",
       "      <th>maas</th>\n",
       "    </tr>\n",
       "  </thead>\n",
       "  <tbody>\n",
       "    <tr>\n",
       "      <th>count</th>\n",
       "      <td>14.000000</td>\n",
       "      <td>14.000000</td>\n",
       "    </tr>\n",
       "    <tr>\n",
       "      <th>mean</th>\n",
       "      <td>6.250000</td>\n",
       "      <td>8778.571429</td>\n",
       "    </tr>\n",
       "    <tr>\n",
       "      <th>std</th>\n",
       "      <td>4.979767</td>\n",
       "      <td>5733.495185</td>\n",
       "    </tr>\n",
       "    <tr>\n",
       "      <th>min</th>\n",
       "      <td>0.000000</td>\n",
       "      <td>2250.000000</td>\n",
       "    </tr>\n",
       "    <tr>\n",
       "      <th>25%</th>\n",
       "      <td>2.250000</td>\n",
       "      <td>4125.000000</td>\n",
       "    </tr>\n",
       "    <tr>\n",
       "      <th>50%</th>\n",
       "      <td>5.500000</td>\n",
       "      <td>7750.000000</td>\n",
       "    </tr>\n",
       "    <tr>\n",
       "      <th>75%</th>\n",
       "      <td>9.500000</td>\n",
       "      <td>12000.000000</td>\n",
       "    </tr>\n",
       "    <tr>\n",
       "      <th>max</th>\n",
       "      <td>15.000000</td>\n",
       "      <td>20000.000000</td>\n",
       "    </tr>\n",
       "  </tbody>\n",
       "</table>\n",
       "</div>"
      ],
      "text/plain": [
       "         deneyim          maas\n",
       "count  14.000000     14.000000\n",
       "mean    6.250000   8778.571429\n",
       "std     4.979767   5733.495185\n",
       "min     0.000000   2250.000000\n",
       "25%     2.250000   4125.000000\n",
       "50%     5.500000   7750.000000\n",
       "75%     9.500000  12000.000000\n",
       "max    15.000000  20000.000000"
      ]
     },
     "execution_count": 3,
     "metadata": {},
     "output_type": "execute_result"
    }
   ],
   "source": [
    "data.describe()"
   ]
  },
  {
   "cell_type": "code",
   "execution_count": 4,
   "id": "private-suggestion",
   "metadata": {
    "execution": {
     "iopub.execute_input": "2021-06-06T15:26:22.092721Z",
     "iopub.status.busy": "2021-06-06T15:26:22.092209Z",
     "iopub.status.idle": "2021-06-06T15:26:22.102017Z",
     "shell.execute_reply": "2021-06-06T15:26:22.102501Z",
     "shell.execute_reply.started": "2021-06-06T15:23:26.357763Z"
    },
    "papermill": {
     "duration": 0.024852,
     "end_time": "2021-06-06T15:26:22.102654",
     "exception": false,
     "start_time": "2021-06-06T15:26:22.077802",
     "status": "completed"
    },
    "tags": []
   },
   "outputs": [
    {
     "data": {
      "text/html": [
       "<div>\n",
       "<style scoped>\n",
       "    .dataframe tbody tr th:only-of-type {\n",
       "        vertical-align: middle;\n",
       "    }\n",
       "\n",
       "    .dataframe tbody tr th {\n",
       "        vertical-align: top;\n",
       "    }\n",
       "\n",
       "    .dataframe thead th {\n",
       "        text-align: right;\n",
       "    }\n",
       "</style>\n",
       "<table border=\"1\" class=\"dataframe\">\n",
       "  <thead>\n",
       "    <tr style=\"text-align: right;\">\n",
       "      <th></th>\n",
       "      <th>deneyim</th>\n",
       "      <th>maas</th>\n",
       "    </tr>\n",
       "  </thead>\n",
       "  <tbody>\n",
       "    <tr>\n",
       "      <th>deneyim</th>\n",
       "      <td>1.0000</td>\n",
       "      <td>0.9887</td>\n",
       "    </tr>\n",
       "    <tr>\n",
       "      <th>maas</th>\n",
       "      <td>0.9887</td>\n",
       "      <td>1.0000</td>\n",
       "    </tr>\n",
       "  </tbody>\n",
       "</table>\n",
       "</div>"
      ],
      "text/plain": [
       "         deneyim    maas\n",
       "deneyim   1.0000  0.9887\n",
       "maas      0.9887  1.0000"
      ]
     },
     "execution_count": 4,
     "metadata": {},
     "output_type": "execute_result"
    }
   ],
   "source": [
    "data.corr()"
   ]
  },
  {
   "cell_type": "markdown",
   "id": "endangered-pillow",
   "metadata": {
    "papermill": {
     "duration": 0.0122,
     "end_time": "2021-06-06T15:26:22.127378",
     "exception": false,
     "start_time": "2021-06-06T15:26:22.115178",
     "status": "completed"
    },
    "tags": []
   },
   "source": [
    "# Plotting Data"
   ]
  },
  {
   "cell_type": "code",
   "execution_count": 5,
   "id": "expected-renewal",
   "metadata": {
    "execution": {
     "iopub.execute_input": "2021-06-06T15:26:22.155073Z",
     "iopub.status.busy": "2021-06-06T15:26:22.154517Z",
     "iopub.status.idle": "2021-06-06T15:26:22.340934Z",
     "shell.execute_reply": "2021-06-06T15:26:22.341356Z",
     "shell.execute_reply.started": "2021-06-06T15:23:26.369795Z"
    },
    "papermill": {
     "duration": 0.201663,
     "end_time": "2021-06-06T15:26:22.341511",
     "exception": false,
     "start_time": "2021-06-06T15:26:22.139848",
     "status": "completed"
    },
    "tags": []
   },
   "outputs": [
    {
     "data": {
      "image/png": "[encoded data removed]",
      "text/plain": [
       "<Figure size 720x360 with 1 Axes>"
      ]
     },
     "metadata": {},
     "output_type": "display_data"
    }
   ],
   "source": [
    "plt.figure(figsize=(10,5))\n",
    "plt.title('Years of Experience vs Salary', fontsize=13)\n",
    "plt.xlabel('Experience (yrs)', fontsize=12)\n",
    "plt.ylabel('Salary', fontsize=12)\n",
    "plt.scatter(data.deneyim, data.maas, s=75, color='black')\n",
    "plt.show()"
   ]
  },
  {
   "cell_type": "markdown",
   "id": "continuous-equality",
   "metadata": {
    "papermill": {
     "duration": 0.013356,
     "end_time": "2021-06-06T15:26:22.368431",
     "exception": false,
     "start_time": "2021-06-06T15:26:22.355075",
     "status": "completed"
    },
    "tags": []
   },
   "source": [
    "# Simple Linear Regression "
   ]
  },
  {
   "cell_type": "code",
   "execution_count": 6,
   "id": "after-undergraduate",
   "metadata": {
    "execution": {
     "iopub.execute_input": "2021-06-06T15:26:22.398550Z",
     "iopub.status.busy": "2021-06-06T15:26:22.398009Z",
     "iopub.status.idle": "2021-06-06T15:26:23.481587Z",
     "shell.execute_reply": "2021-06-06T15:26:23.481013Z",
     "shell.execute_reply.started": "2021-06-06T15:23:26.557753Z"
    },
    "papermill": {
     "duration": 1.099291,
     "end_time": "2021-06-06T15:26:23.481739",
     "exception": false,
     "start_time": "2021-06-06T15:26:22.382448",
     "status": "completed"
    },
    "tags": []
   },
   "outputs": [],
   "source": [
    "from sklearn.model_selection import train_test_split\n",
    "from sklearn.linear_model import LinearRegression\n",
    "from sklearn import metrics "
   ]
  },
  {
   "cell_type": "markdown",
   "id": "legendary-queue",
   "metadata": {
    "papermill": {
     "duration": 0.013609,
     "end_time": "2021-06-06T15:26:23.509434",
     "exception": false,
     "start_time": "2021-06-06T15:26:23.495825",
     "status": "completed"
    },
    "tags": []
   },
   "source": [
    "## Creating Training & Testing Set"
   ]
  },
  {
   "cell_type": "code",
   "execution_count": 7,
   "id": "light-poverty",
   "metadata": {
    "execution": {
     "iopub.execute_input": "2021-06-06T15:26:23.542464Z",
     "iopub.status.busy": "2021-06-06T15:26:23.541947Z",
     "iopub.status.idle": "2021-06-06T15:26:23.545998Z",
     "shell.execute_reply": "2021-06-06T15:26:23.545432Z",
     "shell.execute_reply.started": "2021-06-06T15:23:26.564498Z"
    },
    "papermill": {
     "duration": 0.023279,
     "end_time": "2021-06-06T15:26:23.546119",
     "exception": false,
     "start_time": "2021-06-06T15:26:23.522840",
     "status": "completed"
    },
    "tags": []
   },
   "outputs": [],
   "source": [
    "X = data.iloc[:,:-1].values\n",
    "y = data.iloc[:,-1].values\n",
    "X_train, X_test, y_train, y_test = train_test_split(X, y, test_size=0.1, random_state=0)"
   ]
  },
  {
   "cell_type": "code",
   "execution_count": 8,
   "id": "divided-spider",
   "metadata": {
    "execution": {
     "iopub.execute_input": "2021-06-06T15:26:23.577436Z",
     "iopub.status.busy": "2021-06-06T15:26:23.576937Z",
     "iopub.status.idle": "2021-06-06T15:26:23.580623Z",
     "shell.execute_reply": "2021-06-06T15:26:23.580135Z",
     "shell.execute_reply.started": "2021-06-06T15:23:26.582059Z"
    },
    "papermill": {
     "duration": 0.021275,
     "end_time": "2021-06-06T15:26:23.580758",
     "exception": false,
     "start_time": "2021-06-06T15:26:23.559483",
     "status": "completed"
    },
    "tags": []
   },
   "outputs": [
    {
     "name": "stdout",
     "output_type": "stream",
     "text": [
      "Shape of X_train: (12, 1)\n",
      "Shape of X_test: (2, 1)\n",
      "Shape of y_train: (12,)\n",
      "Shape of y_test: (2,)\n"
     ]
    }
   ],
   "source": [
    "col = ['X_train', 'X_test', 'y_train', 'y_test']\n",
    "data = [X_train, X_test, y_train, y_test]\n",
    "for i in range(len(col)):\n",
    "    print(f'Shape of {col[i]}: {data[i].shape}')"
   ]
  },
  {
   "cell_type": "markdown",
   "id": "committed-sierra",
   "metadata": {
    "papermill": {
     "duration": 0.013078,
     "end_time": "2021-06-06T15:26:23.607316",
     "exception": false,
     "start_time": "2021-06-06T15:26:23.594238",
     "status": "completed"
    },
    "tags": []
   },
   "source": [
    "## Modeling & Fitting"
   ]
  },
  {
   "cell_type": "code",
   "execution_count": 9,
   "id": "focal-faith",
   "metadata": {
    "execution": {
     "iopub.execute_input": "2021-06-06T15:26:23.653956Z",
     "iopub.status.busy": "2021-06-06T15:26:23.653267Z",
     "iopub.status.idle": "2021-06-06T15:26:23.658560Z",
     "shell.execute_reply": "2021-06-06T15:26:23.657243Z",
     "shell.execute_reply.started": "2021-06-06T15:23:26.598643Z"
    },
    "papermill": {
     "duration": 0.038079,
     "end_time": "2021-06-06T15:26:23.658796",
     "exception": false,
     "start_time": "2021-06-06T15:26:23.620717",
     "status": "completed"
    },
    "tags": []
   },
   "outputs": [
    {
     "name": "stdout",
     "output_type": "stream",
     "text": [
      "Coefficients: [1099.50765375]\n",
      "Intercepts: 1707.0181720526361\n"
     ]
    }
   ],
   "source": [
    "model = LinearRegression()\n",
    "model.fit(X_train, y_train)\n",
    "print(f'Coefficients: {model.coef_}')\n",
    "print(f'Intercepts: {model.intercept_}')"
   ]
  },
  {
   "cell_type": "code",
   "execution_count": 10,
   "id": "automotive-mattress",
   "metadata": {
    "execution": {
     "iopub.execute_input": "2021-06-06T15:26:23.709129Z",
     "iopub.status.busy": "2021-06-06T15:26:23.708587Z",
     "iopub.status.idle": "2021-06-06T15:26:23.854917Z",
     "shell.execute_reply": "2021-06-06T15:26:23.854361Z",
     "shell.execute_reply.started": "2021-06-06T15:23:26.613123Z"
    },
    "papermill": {
     "duration": 0.181131,
     "end_time": "2021-06-06T15:26:23.855089",
     "exception": false,
     "start_time": "2021-06-06T15:26:23.673958",
     "status": "completed"
    },
    "tags": []
   },
   "outputs": [
    {
     "data": {
      "image/png": "[encoded data removed]",
      "text/plain": [
       "<Figure size 720x360 with 1 Axes>"
      ]
     },
     "metadata": {},
     "output_type": "display_data"
    }
   ],
   "source": [
    "plt.figure(figsize=(10,5))\n",
    "plt.title('Regression Line on Training Set', fontsize=15)\n",
    "plt.scatter(X_train, y_train, s=75, color='black')\n",
    "plt.plot(X_train, model.predict(X_train), color='red')\n",
    "plt.xlabel('Experience (yrs)')\n",
    "plt.ylabel('Salary')\n",
    "plt.show()"
   ]
  },
  {
   "cell_type": "markdown",
   "id": "minute-suicide",
   "metadata": {
    "papermill": {
     "duration": 0.01485,
     "end_time": "2021-06-06T15:26:23.891668",
     "exception": false,
     "start_time": "2021-06-06T15:26:23.876818",
     "status": "completed"
    },
    "tags": []
   },
   "source": [
    "## Making Predictions"
   ]
  },
  {
   "cell_type": "code",
   "execution_count": 11,
   "id": "everyday-awareness",
   "metadata": {
    "execution": {
     "iopub.execute_input": "2021-06-06T15:26:23.930976Z",
     "iopub.status.busy": "2021-06-06T15:26:23.930120Z",
     "iopub.status.idle": "2021-06-06T15:26:23.933487Z",
     "shell.execute_reply": "2021-06-06T15:26:23.934007Z",
     "shell.execute_reply.started": "2021-06-06T15:23:26.801270Z"
    },
    "papermill": {
     "duration": 0.027732,
     "end_time": "2021-06-06T15:26:23.934162",
     "exception": false,
     "start_time": "2021-06-06T15:26:23.906430",
     "status": "completed"
    },
    "tags": []
   },
   "outputs": [
    {
     "data": {
      "text/html": [
       "<div>\n",
       "<style scoped>\n",
       "    .dataframe tbody tr th:only-of-type {\n",
       "        vertical-align: middle;\n",
       "    }\n",
       "\n",
       "    .dataframe tbody tr th {\n",
       "        vertical-align: top;\n",
       "    }\n",
       "\n",
       "    .dataframe thead th {\n",
       "        text-align: right;\n",
       "    }\n",
       "</style>\n",
       "<table border=\"1\" class=\"dataframe\">\n",
       "  <thead>\n",
       "    <tr style=\"text-align: right;\">\n",
       "      <th></th>\n",
       "      <th>Years Experience</th>\n",
       "      <th>Actual Salary</th>\n",
       "      <th>Predicted Salary</th>\n",
       "    </tr>\n",
       "  </thead>\n",
       "  <tbody>\n",
       "    <tr>\n",
       "      <th>0</th>\n",
       "      <td>3.0</td>\n",
       "      <td>6000</td>\n",
       "      <td>5005</td>\n",
       "    </tr>\n",
       "    <tr>\n",
       "      <th>1</th>\n",
       "      <td>15.0</td>\n",
       "      <td>20000</td>\n",
       "      <td>18199</td>\n",
       "    </tr>\n",
       "  </tbody>\n",
       "</table>\n",
       "</div>"
      ],
      "text/plain": [
       "   Years Experience  Actual Salary  Predicted Salary\n",
       "0               3.0           6000              5005\n",
       "1              15.0          20000             18199"
      ]
     },
     "execution_count": 11,
     "metadata": {},
     "output_type": "execute_result"
    }
   ],
   "source": [
    "y_pred = model.predict(X_test).astype(int)\n",
    "pd.DataFrame({'Years Experience': X_test[:,0], 'Actual Salary': y_test, 'Predicted Salary': y_pred})"
   ]
  },
  {
   "cell_type": "code",
   "execution_count": 12,
   "id": "informed-infrastructure",
   "metadata": {
    "execution": {
     "iopub.execute_input": "2021-06-06T15:26:23.967990Z",
     "iopub.status.busy": "2021-06-06T15:26:23.967160Z",
     "iopub.status.idle": "2021-06-06T15:26:24.109050Z",
     "shell.execute_reply": "2021-06-06T15:26:24.109451Z",
     "shell.execute_reply.started": "2021-06-06T15:23:26.815168Z"
    },
    "papermill": {
     "duration": 0.160112,
     "end_time": "2021-06-06T15:26:24.109630",
     "exception": false,
     "start_time": "2021-06-06T15:26:23.949518",
     "status": "completed"
    },
    "tags": []
   },
   "outputs": [
    {
     "data": {
      "image/png": "[encoded data removed]",
      "text/plain": [
       "<Figure size 720x360 with 1 Axes>"
      ]
     },
     "metadata": {},
     "output_type": "display_data"
    }
   ],
   "source": [
    "plt.figure(figsize=(10,5))\n",
    "plt.title('Regression Line on Testing Set', fontsize=15)\n",
    "plt.scatter(X_test, y_test, s=75, color='black')\n",
    "plt.plot(X_test, y_pred, color='red')\n",
    "plt.xlabel('Experience (yrs)')\n",
    "plt.ylabel('Salary')\n",
    "plt.show()"
   ]
  },
  {
   "cell_type": "markdown",
   "id": "offensive-houston",
   "metadata": {
    "papermill": {
     "duration": 0.015512,
     "end_time": "2021-06-06T15:26:24.141289",
     "exception": false,
     "start_time": "2021-06-06T15:26:24.125777",
     "status": "completed"
    },
    "tags": []
   },
   "source": [
    "## Evaluation"
   ]
  },
  {
   "cell_type": "code",
   "execution_count": 13,
   "id": "fluid-report",
   "metadata": {
    "execution": {
     "iopub.execute_input": "2021-06-06T15:26:24.175976Z",
     "iopub.status.busy": "2021-06-06T15:26:24.175159Z",
     "iopub.status.idle": "2021-06-06T15:26:24.181446Z",
     "shell.execute_reply": "2021-06-06T15:26:24.182487Z",
     "shell.execute_reply.started": "2021-06-06T15:23:27.109367Z"
    },
    "papermill": {
     "duration": 0.02574,
     "end_time": "2021-06-06T15:26:24.182734",
     "exception": false,
     "start_time": "2021-06-06T15:26:24.156994",
     "status": "completed"
    },
    "tags": []
   },
   "outputs": [
    {
     "name": "stdout",
     "output_type": "stream",
     "text": [
      "Mean Absolute Error(MAE): 1398.0\n",
      "Residual Sum of Squares(MSE): 2116813.0\n",
      "R2-Score: 0.9567997346938776\n"
     ]
    }
   ],
   "source": [
    "print(f'Mean Absolute Error(MAE): {metrics.mean_absolute_error(y_test, y_pred)}')\n",
    "print(f'Residual Sum of Squares(MSE): {metrics.mean_squared_error(y_test, y_pred)}')\n",
    "print(f'R2-Score: {metrics.r2_score(y_test, y_pred)}')"
   ]
  },
  {
   "cell_type": "code",
   "execution_count": 14,
   "id": "smooth-boxing",
   "metadata": {
    "execution": {
     "iopub.execute_input": "2021-06-06T15:26:24.224460Z",
     "iopub.status.busy": "2021-06-06T15:26:24.223915Z",
     "iopub.status.idle": "2021-06-06T15:26:24.226404Z",
     "shell.execute_reply": "2021-06-06T15:26:24.226884Z",
     "shell.execute_reply.started": "2021-06-06T15:23:27.118401Z"
    },
    "papermill": {
     "duration": 0.027092,
     "end_time": "2021-06-06T15:26:24.227034",
     "exception": false,
     "start_time": "2021-06-06T15:26:24.199942",
     "status": "completed"
    },
    "tags": []
   },
   "outputs": [
    {
     "data": {
      "text/html": [
       "<div>\n",
       "<style scoped>\n",
       "    .dataframe tbody tr th:only-of-type {\n",
       "        vertical-align: middle;\n",
       "    }\n",
       "\n",
       "    .dataframe tbody tr th {\n",
       "        vertical-align: top;\n",
       "    }\n",
       "\n",
       "    .dataframe thead th {\n",
       "        text-align: right;\n",
       "    }\n",
       "</style>\n",
       "<table border=\"1\" class=\"dataframe\">\n",
       "  <thead>\n",
       "    <tr style=\"text-align: right;\">\n",
       "      <th></th>\n",
       "      <th>Year</th>\n",
       "      <th>Salary</th>\n",
       "    </tr>\n",
       "  </thead>\n",
       "  <tbody>\n",
       "    <tr>\n",
       "      <th>0</th>\n",
       "      <td>9</td>\n",
       "      <td>11602</td>\n",
       "    </tr>\n",
       "  </tbody>\n",
       "</table>\n",
       "</div>"
      ],
      "text/plain": [
       "   Year  Salary\n",
       "0     9   11602"
      ]
     },
     "execution_count": 14,
     "metadata": {},
     "output_type": "execute_result"
    }
   ],
   "source": [
    "# Predicting salary using the model\n",
    "year = 9\n",
    "salary = model.predict([[year]]).astype(int)\n",
    "pd.DataFrame({'Year': year, 'Salary': salary})"
   ]
  },
  {
   "cell_type": "markdown",
   "id": "patent-danish",
   "metadata": {
    "papermill": {
     "duration": 0.015886,
     "end_time": "2021-06-06T15:26:24.259434",
     "exception": false,
     "start_time": "2021-06-06T15:26:24.243548",
     "status": "completed"
    },
    "tags": []
   },
   "source": [
    "## Thank You!"
   ]
  }
 ],
 "metadata": {
  "kernelspec": {
   "display_name": "Python 3",
   "language": "python",
   "name": "python3"
  },
  "language_info": {
   "codemirror_mode": {
    "name": "ipython",
    "version": 3
   },
   "file_extension": ".py",
   "mimetype": "text/x-python",
   "name": "python",
   "nbconvert_exporter": "python",
   "pygments_lexer": "ipython3",
   "version": "3.7.9"
  },
  "papermill": {
   "default_parameters": {},
   "duration": 8.253612,
   "end_time": "2021-06-06T15:26:24.883436",
   "environment_variables": {},
   "exception": null,
   "input_path": "__notebook__.ipynb",
   "output_path": "__notebook__.ipynb",
   "parameters": {},
   "start_time": "2021-06-06T15:26:16.629824",
   "version": "2.3.2"
  }
 },
 "nbformat": 4,
 "nbformat_minor": 5
}
