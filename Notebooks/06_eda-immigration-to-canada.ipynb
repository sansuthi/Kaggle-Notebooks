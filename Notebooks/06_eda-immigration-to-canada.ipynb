{
 "cells": [
  {
   "cell_type": "markdown",
   "id": "stylish-taiwan",
   "metadata": {
    "papermill": {
     "duration": 0.022266,
     "end_time": "2021-06-05T16:41:39.243969",
     "exception": false,
     "start_time": "2021-06-05T16:41:39.221703",
     "status": "completed"
    },
    "tags": []
   },
   "source": [
    "![](https://www.immigration.ca/wp-content/uploads/2018/12/Canada-Immigration_156421093.jpeg)"
   ]
  },
  {
   "cell_type": "markdown",
   "id": "corresponding-craps",
   "metadata": {
    "papermill": {
     "duration": 0.020655,
     "end_time": "2021-06-05T16:41:39.285729",
     "exception": false,
     "start_time": "2021-06-05T16:41:39.265074",
     "status": "completed"
    },
    "tags": []
   },
   "source": [
    "# Importing Libraries"
   ]
  },
  {
   "cell_type": "code",
   "execution_count": 1,
   "id": "touched-portrait",
   "metadata": {
    "_cell_guid": "b1076dfc-b9ad-4769-8c92-a6c4dae69d19",
    "_uuid": "8f2839f25d086af736a60e9eeb907d3b93b6e0e5",
    "execution": {
     "iopub.execute_input": "2021-06-05T16:41:39.331699Z",
     "iopub.status.busy": "2021-06-05T16:41:39.330595Z",
     "iopub.status.idle": "2021-06-05T16:41:40.217784Z",
     "shell.execute_reply": "2021-06-05T16:41:40.216947Z",
     "shell.execute_reply.started": "2021-06-05T16:20:19.962560Z"
    },
    "papermill": {
     "duration": 0.911217,
     "end_time": "2021-06-05T16:41:40.217956",
     "exception": false,
     "start_time": "2021-06-05T16:41:39.306739",
     "status": "completed"
    },
    "tags": []
   },
   "outputs": [],
   "source": [
    "import numpy as np\n",
    "import pandas as pd\n",
    "import seaborn as sns\n",
    "import matplotlib.pyplot as plt\n",
    "import warnings\n",
    "warnings.filterwarnings('ignore')"
   ]
  },
  {
   "cell_type": "markdown",
   "id": "placed-bulgaria",
   "metadata": {
    "papermill": {
     "duration": 0.022307,
     "end_time": "2021-06-05T16:41:40.262530",
     "exception": false,
     "start_time": "2021-06-05T16:41:40.240223",
     "status": "completed"
    },
    "tags": []
   },
   "source": [
    "# Loading Data"
   ]
  },
  {
   "cell_type": "code",
   "execution_count": 2,
   "id": "macro-input",
   "metadata": {
    "execution": {
     "iopub.execute_input": "2021-06-05T16:41:40.310389Z",
     "iopub.status.busy": "2021-06-05T16:41:40.309680Z",
     "iopub.status.idle": "2021-06-05T16:41:40.372016Z",
     "shell.execute_reply": "2021-06-05T16:41:40.372516Z",
     "shell.execute_reply.started": "2021-06-05T16:20:19.969585Z"
    },
    "papermill": {
     "duration": 0.08896,
     "end_time": "2021-06-05T16:41:40.372683",
     "exception": false,
     "start_time": "2021-06-05T16:41:40.283723",
     "status": "completed"
    },
    "tags": []
   },
   "outputs": [
    {
     "data": {
      "text/html": [
       "<div>\n",
       "<style scoped>\n",
       "    .dataframe tbody tr th:only-of-type {\n",
       "        vertical-align: middle;\n",
       "    }\n",
       "\n",
       "    .dataframe tbody tr th {\n",
       "        vertical-align: top;\n",
       "    }\n",
       "\n",
       "    .dataframe thead th {\n",
       "        text-align: right;\n",
       "    }\n",
       "</style>\n",
       "<table border=\"1\" class=\"dataframe\">\n",
       "  <thead>\n",
       "    <tr style=\"text-align: right;\">\n",
       "      <th></th>\n",
       "      <th>Type</th>\n",
       "      <th>Coverage</th>\n",
       "      <th>OdName</th>\n",
       "      <th>AREA</th>\n",
       "      <th>AreaName</th>\n",
       "      <th>REG</th>\n",
       "      <th>RegName</th>\n",
       "      <th>DEV</th>\n",
       "      <th>DevName</th>\n",
       "      <th>1980</th>\n",
       "      <th>...</th>\n",
       "      <th>2004</th>\n",
       "      <th>2005</th>\n",
       "      <th>2006</th>\n",
       "      <th>2007</th>\n",
       "      <th>2008</th>\n",
       "      <th>2009</th>\n",
       "      <th>2010</th>\n",
       "      <th>2011</th>\n",
       "      <th>2012</th>\n",
       "      <th>2013</th>\n",
       "    </tr>\n",
       "  </thead>\n",
       "  <tbody>\n",
       "    <tr>\n",
       "      <th>0</th>\n",
       "      <td>Immigrants</td>\n",
       "      <td>Foreigners</td>\n",
       "      <td>Afghanistan</td>\n",
       "      <td>935</td>\n",
       "      <td>Asia</td>\n",
       "      <td>5501</td>\n",
       "      <td>Southern Asia</td>\n",
       "      <td>902</td>\n",
       "      <td>Developing regions</td>\n",
       "      <td>16</td>\n",
       "      <td>...</td>\n",
       "      <td>2978</td>\n",
       "      <td>3436</td>\n",
       "      <td>3009</td>\n",
       "      <td>2652</td>\n",
       "      <td>2111</td>\n",
       "      <td>1746</td>\n",
       "      <td>1758</td>\n",
       "      <td>2203</td>\n",
       "      <td>2635</td>\n",
       "      <td>2004</td>\n",
       "    </tr>\n",
       "    <tr>\n",
       "      <th>1</th>\n",
       "      <td>Immigrants</td>\n",
       "      <td>Foreigners</td>\n",
       "      <td>Albania</td>\n",
       "      <td>908</td>\n",
       "      <td>Europe</td>\n",
       "      <td>925</td>\n",
       "      <td>Southern Europe</td>\n",
       "      <td>901</td>\n",
       "      <td>Developed regions</td>\n",
       "      <td>1</td>\n",
       "      <td>...</td>\n",
       "      <td>1450</td>\n",
       "      <td>1223</td>\n",
       "      <td>856</td>\n",
       "      <td>702</td>\n",
       "      <td>560</td>\n",
       "      <td>716</td>\n",
       "      <td>561</td>\n",
       "      <td>539</td>\n",
       "      <td>620</td>\n",
       "      <td>603</td>\n",
       "    </tr>\n",
       "    <tr>\n",
       "      <th>2</th>\n",
       "      <td>Immigrants</td>\n",
       "      <td>Foreigners</td>\n",
       "      <td>American Samoa</td>\n",
       "      <td>909</td>\n",
       "      <td>Oceania</td>\n",
       "      <td>957</td>\n",
       "      <td>Polynesia</td>\n",
       "      <td>902</td>\n",
       "      <td>Developing regions</td>\n",
       "      <td>0</td>\n",
       "      <td>...</td>\n",
       "      <td>0</td>\n",
       "      <td>0</td>\n",
       "      <td>1</td>\n",
       "      <td>0</td>\n",
       "      <td>0</td>\n",
       "      <td>0</td>\n",
       "      <td>0</td>\n",
       "      <td>0</td>\n",
       "      <td>0</td>\n",
       "      <td>0</td>\n",
       "    </tr>\n",
       "    <tr>\n",
       "      <th>3</th>\n",
       "      <td>Immigrants</td>\n",
       "      <td>Foreigners</td>\n",
       "      <td>Andorra</td>\n",
       "      <td>908</td>\n",
       "      <td>Europe</td>\n",
       "      <td>925</td>\n",
       "      <td>Southern Europe</td>\n",
       "      <td>901</td>\n",
       "      <td>Developed regions</td>\n",
       "      <td>0</td>\n",
       "      <td>...</td>\n",
       "      <td>0</td>\n",
       "      <td>0</td>\n",
       "      <td>1</td>\n",
       "      <td>1</td>\n",
       "      <td>0</td>\n",
       "      <td>0</td>\n",
       "      <td>0</td>\n",
       "      <td>0</td>\n",
       "      <td>1</td>\n",
       "      <td>1</td>\n",
       "    </tr>\n",
       "    <tr>\n",
       "      <th>4</th>\n",
       "      <td>Immigrants</td>\n",
       "      <td>Foreigners</td>\n",
       "      <td>Angola</td>\n",
       "      <td>903</td>\n",
       "      <td>Africa</td>\n",
       "      <td>911</td>\n",
       "      <td>Middle Africa</td>\n",
       "      <td>902</td>\n",
       "      <td>Developing regions</td>\n",
       "      <td>1</td>\n",
       "      <td>...</td>\n",
       "      <td>268</td>\n",
       "      <td>295</td>\n",
       "      <td>184</td>\n",
       "      <td>106</td>\n",
       "      <td>76</td>\n",
       "      <td>62</td>\n",
       "      <td>61</td>\n",
       "      <td>39</td>\n",
       "      <td>70</td>\n",
       "      <td>45</td>\n",
       "    </tr>\n",
       "  </tbody>\n",
       "</table>\n",
       "<p>5 rows × 43 columns</p>\n",
       "</div>"
      ],
      "text/plain": [
       "         Type    Coverage          OdName  AREA AreaName   REG  \\\n",
       "0  Immigrants  Foreigners     Afghanistan   935     Asia  5501   \n",
       "1  Immigrants  Foreigners         Albania   908   Europe   925   \n",
       "2  Immigrants  Foreigners  American Samoa   909  Oceania   957   \n",
       "3  Immigrants  Foreigners         Andorra   908   Europe   925   \n",
       "4  Immigrants  Foreigners          Angola   903   Africa   911   \n",
       "\n",
       "           RegName  DEV             DevName  1980  ...  2004  2005  2006  \\\n",
       "0    Southern Asia  902  Developing regions    16  ...  2978  3436  3009   \n",
       "1  Southern Europe  901   Developed regions     1  ...  1450  1223   856   \n",
       "2        Polynesia  902  Developing regions     0  ...     0     0     1   \n",
       "3  Southern Europe  901   Developed regions     0  ...     0     0     1   \n",
       "4    Middle Africa  902  Developing regions     1  ...   268   295   184   \n",
       "\n",
       "   2007  2008  2009  2010  2011  2012  2013  \n",
       "0  2652  2111  1746  1758  2203  2635  2004  \n",
       "1   702   560   716   561   539   620   603  \n",
       "2     0     0     0     0     0     0     0  \n",
       "3     1     0     0     0     0     1     1  \n",
       "4   106    76    62    61    39    70    45  \n",
       "\n",
       "[5 rows x 43 columns]"
      ]
     },
     "execution_count": 2,
     "metadata": {},
     "output_type": "execute_result"
    }
   ],
   "source": [
    "data = pd.read_csv('../input/immigration-to-canada/immigration_Canada.csv')\n",
    "data.head()"
   ]
  },
  {
   "cell_type": "markdown",
   "id": "editorial-engine",
   "metadata": {
    "papermill": {
     "duration": 0.021824,
     "end_time": "2021-06-05T16:41:40.416649",
     "exception": false,
     "start_time": "2021-06-05T16:41:40.394825",
     "status": "completed"
    },
    "tags": []
   },
   "source": [
    "# Preparing Data"
   ]
  },
  {
   "cell_type": "code",
   "execution_count": 3,
   "id": "marine-softball",
   "metadata": {
    "execution": {
     "iopub.execute_input": "2021-06-05T16:41:40.479334Z",
     "iopub.status.busy": "2021-06-05T16:41:40.471003Z",
     "iopub.status.idle": "2021-06-05T16:41:40.493575Z",
     "shell.execute_reply": "2021-06-05T16:41:40.492946Z",
     "shell.execute_reply.started": "2021-06-05T16:20:20.033398Z"
    },
    "papermill": {
     "duration": 0.054857,
     "end_time": "2021-06-05T16:41:40.493713",
     "exception": false,
     "start_time": "2021-06-05T16:41:40.438856",
     "status": "completed"
    },
    "tags": []
   },
   "outputs": [
    {
     "data": {
      "text/html": [
       "<div>\n",
       "<style scoped>\n",
       "    .dataframe tbody tr th:only-of-type {\n",
       "        vertical-align: middle;\n",
       "    }\n",
       "\n",
       "    .dataframe tbody tr th {\n",
       "        vertical-align: top;\n",
       "    }\n",
       "\n",
       "    .dataframe thead th {\n",
       "        text-align: right;\n",
       "    }\n",
       "</style>\n",
       "<table border=\"1\" class=\"dataframe\">\n",
       "  <thead>\n",
       "    <tr style=\"text-align: right;\">\n",
       "      <th></th>\n",
       "      <th>Region</th>\n",
       "      <th>1980</th>\n",
       "      <th>1981</th>\n",
       "      <th>1982</th>\n",
       "      <th>1983</th>\n",
       "      <th>1984</th>\n",
       "      <th>1985</th>\n",
       "      <th>1986</th>\n",
       "      <th>1987</th>\n",
       "      <th>1988</th>\n",
       "      <th>...</th>\n",
       "      <th>2004</th>\n",
       "      <th>2005</th>\n",
       "      <th>2006</th>\n",
       "      <th>2007</th>\n",
       "      <th>2008</th>\n",
       "      <th>2009</th>\n",
       "      <th>2010</th>\n",
       "      <th>2011</th>\n",
       "      <th>2012</th>\n",
       "      <th>2013</th>\n",
       "    </tr>\n",
       "    <tr>\n",
       "      <th>Country</th>\n",
       "      <th></th>\n",
       "      <th></th>\n",
       "      <th></th>\n",
       "      <th></th>\n",
       "      <th></th>\n",
       "      <th></th>\n",
       "      <th></th>\n",
       "      <th></th>\n",
       "      <th></th>\n",
       "      <th></th>\n",
       "      <th></th>\n",
       "      <th></th>\n",
       "      <th></th>\n",
       "      <th></th>\n",
       "      <th></th>\n",
       "      <th></th>\n",
       "      <th></th>\n",
       "      <th></th>\n",
       "      <th></th>\n",
       "      <th></th>\n",
       "      <th></th>\n",
       "    </tr>\n",
       "  </thead>\n",
       "  <tbody>\n",
       "    <tr>\n",
       "      <th>Afghanistan</th>\n",
       "      <td>Asia</td>\n",
       "      <td>16</td>\n",
       "      <td>39</td>\n",
       "      <td>39</td>\n",
       "      <td>47</td>\n",
       "      <td>71</td>\n",
       "      <td>340</td>\n",
       "      <td>496</td>\n",
       "      <td>741</td>\n",
       "      <td>828</td>\n",
       "      <td>...</td>\n",
       "      <td>2978</td>\n",
       "      <td>3436</td>\n",
       "      <td>3009</td>\n",
       "      <td>2652</td>\n",
       "      <td>2111</td>\n",
       "      <td>1746</td>\n",
       "      <td>1758</td>\n",
       "      <td>2203</td>\n",
       "      <td>2635</td>\n",
       "      <td>2004</td>\n",
       "    </tr>\n",
       "    <tr>\n",
       "      <th>Albania</th>\n",
       "      <td>Europe</td>\n",
       "      <td>1</td>\n",
       "      <td>0</td>\n",
       "      <td>0</td>\n",
       "      <td>0</td>\n",
       "      <td>0</td>\n",
       "      <td>0</td>\n",
       "      <td>1</td>\n",
       "      <td>2</td>\n",
       "      <td>2</td>\n",
       "      <td>...</td>\n",
       "      <td>1450</td>\n",
       "      <td>1223</td>\n",
       "      <td>856</td>\n",
       "      <td>702</td>\n",
       "      <td>560</td>\n",
       "      <td>716</td>\n",
       "      <td>561</td>\n",
       "      <td>539</td>\n",
       "      <td>620</td>\n",
       "      <td>603</td>\n",
       "    </tr>\n",
       "    <tr>\n",
       "      <th>American Samoa</th>\n",
       "      <td>Oceania</td>\n",
       "      <td>0</td>\n",
       "      <td>1</td>\n",
       "      <td>0</td>\n",
       "      <td>0</td>\n",
       "      <td>0</td>\n",
       "      <td>0</td>\n",
       "      <td>0</td>\n",
       "      <td>1</td>\n",
       "      <td>0</td>\n",
       "      <td>...</td>\n",
       "      <td>0</td>\n",
       "      <td>0</td>\n",
       "      <td>1</td>\n",
       "      <td>0</td>\n",
       "      <td>0</td>\n",
       "      <td>0</td>\n",
       "      <td>0</td>\n",
       "      <td>0</td>\n",
       "      <td>0</td>\n",
       "      <td>0</td>\n",
       "    </tr>\n",
       "    <tr>\n",
       "      <th>Andorra</th>\n",
       "      <td>Europe</td>\n",
       "      <td>0</td>\n",
       "      <td>0</td>\n",
       "      <td>0</td>\n",
       "      <td>0</td>\n",
       "      <td>0</td>\n",
       "      <td>0</td>\n",
       "      <td>2</td>\n",
       "      <td>0</td>\n",
       "      <td>0</td>\n",
       "      <td>...</td>\n",
       "      <td>0</td>\n",
       "      <td>0</td>\n",
       "      <td>1</td>\n",
       "      <td>1</td>\n",
       "      <td>0</td>\n",
       "      <td>0</td>\n",
       "      <td>0</td>\n",
       "      <td>0</td>\n",
       "      <td>1</td>\n",
       "      <td>1</td>\n",
       "    </tr>\n",
       "    <tr>\n",
       "      <th>Angola</th>\n",
       "      <td>Africa</td>\n",
       "      <td>1</td>\n",
       "      <td>3</td>\n",
       "      <td>6</td>\n",
       "      <td>6</td>\n",
       "      <td>4</td>\n",
       "      <td>3</td>\n",
       "      <td>5</td>\n",
       "      <td>5</td>\n",
       "      <td>11</td>\n",
       "      <td>...</td>\n",
       "      <td>268</td>\n",
       "      <td>295</td>\n",
       "      <td>184</td>\n",
       "      <td>106</td>\n",
       "      <td>76</td>\n",
       "      <td>62</td>\n",
       "      <td>61</td>\n",
       "      <td>39</td>\n",
       "      <td>70</td>\n",
       "      <td>45</td>\n",
       "    </tr>\n",
       "    <tr>\n",
       "      <th>...</th>\n",
       "      <td>...</td>\n",
       "      <td>...</td>\n",
       "      <td>...</td>\n",
       "      <td>...</td>\n",
       "      <td>...</td>\n",
       "      <td>...</td>\n",
       "      <td>...</td>\n",
       "      <td>...</td>\n",
       "      <td>...</td>\n",
       "      <td>...</td>\n",
       "      <td>...</td>\n",
       "      <td>...</td>\n",
       "      <td>...</td>\n",
       "      <td>...</td>\n",
       "      <td>...</td>\n",
       "      <td>...</td>\n",
       "      <td>...</td>\n",
       "      <td>...</td>\n",
       "      <td>...</td>\n",
       "      <td>...</td>\n",
       "      <td>...</td>\n",
       "    </tr>\n",
       "    <tr>\n",
       "      <th>Western Sahara</th>\n",
       "      <td>Africa</td>\n",
       "      <td>0</td>\n",
       "      <td>0</td>\n",
       "      <td>0</td>\n",
       "      <td>0</td>\n",
       "      <td>0</td>\n",
       "      <td>0</td>\n",
       "      <td>0</td>\n",
       "      <td>0</td>\n",
       "      <td>0</td>\n",
       "      <td>...</td>\n",
       "      <td>0</td>\n",
       "      <td>0</td>\n",
       "      <td>1</td>\n",
       "      <td>0</td>\n",
       "      <td>0</td>\n",
       "      <td>0</td>\n",
       "      <td>0</td>\n",
       "      <td>0</td>\n",
       "      <td>0</td>\n",
       "      <td>0</td>\n",
       "    </tr>\n",
       "    <tr>\n",
       "      <th>Yemen</th>\n",
       "      <td>Asia</td>\n",
       "      <td>1</td>\n",
       "      <td>2</td>\n",
       "      <td>1</td>\n",
       "      <td>6</td>\n",
       "      <td>0</td>\n",
       "      <td>18</td>\n",
       "      <td>7</td>\n",
       "      <td>12</td>\n",
       "      <td>7</td>\n",
       "      <td>...</td>\n",
       "      <td>124</td>\n",
       "      <td>161</td>\n",
       "      <td>140</td>\n",
       "      <td>122</td>\n",
       "      <td>133</td>\n",
       "      <td>128</td>\n",
       "      <td>211</td>\n",
       "      <td>160</td>\n",
       "      <td>174</td>\n",
       "      <td>217</td>\n",
       "    </tr>\n",
       "    <tr>\n",
       "      <th>Zambia</th>\n",
       "      <td>Africa</td>\n",
       "      <td>11</td>\n",
       "      <td>17</td>\n",
       "      <td>11</td>\n",
       "      <td>7</td>\n",
       "      <td>16</td>\n",
       "      <td>9</td>\n",
       "      <td>15</td>\n",
       "      <td>23</td>\n",
       "      <td>44</td>\n",
       "      <td>...</td>\n",
       "      <td>56</td>\n",
       "      <td>91</td>\n",
       "      <td>77</td>\n",
       "      <td>71</td>\n",
       "      <td>64</td>\n",
       "      <td>60</td>\n",
       "      <td>102</td>\n",
       "      <td>69</td>\n",
       "      <td>46</td>\n",
       "      <td>59</td>\n",
       "    </tr>\n",
       "    <tr>\n",
       "      <th>Zimbabwe</th>\n",
       "      <td>Africa</td>\n",
       "      <td>72</td>\n",
       "      <td>114</td>\n",
       "      <td>102</td>\n",
       "      <td>44</td>\n",
       "      <td>32</td>\n",
       "      <td>29</td>\n",
       "      <td>43</td>\n",
       "      <td>68</td>\n",
       "      <td>99</td>\n",
       "      <td>...</td>\n",
       "      <td>1450</td>\n",
       "      <td>615</td>\n",
       "      <td>454</td>\n",
       "      <td>663</td>\n",
       "      <td>611</td>\n",
       "      <td>508</td>\n",
       "      <td>494</td>\n",
       "      <td>434</td>\n",
       "      <td>437</td>\n",
       "      <td>407</td>\n",
       "    </tr>\n",
       "    <tr>\n",
       "      <th>Unknown</th>\n",
       "      <td>World</td>\n",
       "      <td>44000</td>\n",
       "      <td>18078</td>\n",
       "      <td>16904</td>\n",
       "      <td>13635</td>\n",
       "      <td>14855</td>\n",
       "      <td>14368</td>\n",
       "      <td>13303</td>\n",
       "      <td>17304</td>\n",
       "      <td>22279</td>\n",
       "      <td>...</td>\n",
       "      <td>3739</td>\n",
       "      <td>4785</td>\n",
       "      <td>4583</td>\n",
       "      <td>4348</td>\n",
       "      <td>4197</td>\n",
       "      <td>3402</td>\n",
       "      <td>3731</td>\n",
       "      <td>2554</td>\n",
       "      <td>1681</td>\n",
       "      <td>1484</td>\n",
       "    </tr>\n",
       "  </tbody>\n",
       "</table>\n",
       "<p>179 rows × 35 columns</p>\n",
       "</div>"
      ],
      "text/plain": [
       "                 Region   1980   1981   1982   1983   1984   1985   1986  \\\n",
       "Country                                                                    \n",
       "Afghanistan        Asia     16     39     39     47     71    340    496   \n",
       "Albania          Europe      1      0      0      0      0      0      1   \n",
       "American Samoa  Oceania      0      1      0      0      0      0      0   \n",
       "Andorra          Europe      0      0      0      0      0      0      2   \n",
       "Angola           Africa      1      3      6      6      4      3      5   \n",
       "...                 ...    ...    ...    ...    ...    ...    ...    ...   \n",
       "Western Sahara   Africa      0      0      0      0      0      0      0   \n",
       "Yemen              Asia      1      2      1      6      0     18      7   \n",
       "Zambia           Africa     11     17     11      7     16      9     15   \n",
       "Zimbabwe         Africa     72    114    102     44     32     29     43   \n",
       "Unknown           World  44000  18078  16904  13635  14855  14368  13303   \n",
       "\n",
       "                 1987   1988  ...  2004  2005  2006  2007  2008  2009  2010  \\\n",
       "Country                       ...                                             \n",
       "Afghanistan       741    828  ...  2978  3436  3009  2652  2111  1746  1758   \n",
       "Albania             2      2  ...  1450  1223   856   702   560   716   561   \n",
       "American Samoa      1      0  ...     0     0     1     0     0     0     0   \n",
       "Andorra             0      0  ...     0     0     1     1     0     0     0   \n",
       "Angola              5     11  ...   268   295   184   106    76    62    61   \n",
       "...               ...    ...  ...   ...   ...   ...   ...   ...   ...   ...   \n",
       "Western Sahara      0      0  ...     0     0     1     0     0     0     0   \n",
       "Yemen              12      7  ...   124   161   140   122   133   128   211   \n",
       "Zambia             23     44  ...    56    91    77    71    64    60   102   \n",
       "Zimbabwe           68     99  ...  1450   615   454   663   611   508   494   \n",
       "Unknown         17304  22279  ...  3739  4785  4583  4348  4197  3402  3731   \n",
       "\n",
       "                2011  2012  2013  \n",
       "Country                           \n",
       "Afghanistan     2203  2635  2004  \n",
       "Albania          539   620   603  \n",
       "American Samoa     0     0     0  \n",
       "Andorra            0     1     1  \n",
       "Angola            39    70    45  \n",
       "...              ...   ...   ...  \n",
       "Western Sahara     0     0     0  \n",
       "Yemen            160   174   217  \n",
       "Zambia            69    46    59  \n",
       "Zimbabwe         434   437   407  \n",
       "Unknown         2554  1681  1484  \n",
       "\n",
       "[179 rows x 35 columns]"
      ]
     },
     "execution_count": 3,
     "metadata": {},
     "output_type": "execute_result"
    }
   ],
   "source": [
    "data = data.rename(columns={'OdName': 'Country', 'AreaName': 'Region'}).drop(['Type','Coverage','AREA','REG','DEV','RegName','DevName'], \n",
    "                                                                                axis=1).set_index('Country')\n",
    "data"
   ]
  },
  {
   "cell_type": "code",
   "execution_count": 4,
   "id": "framed-toddler",
   "metadata": {
    "execution": {
     "iopub.execute_input": "2021-06-05T16:41:40.542196Z",
     "iopub.status.busy": "2021-06-05T16:41:40.541617Z",
     "iopub.status.idle": "2021-06-05T16:41:40.560418Z",
     "shell.execute_reply": "2021-06-05T16:41:40.561021Z",
     "shell.execute_reply.started": "2021-06-05T16:20:20.068046Z"
    },
    "papermill": {
     "duration": 0.044632,
     "end_time": "2021-06-05T16:41:40.561246",
     "exception": false,
     "start_time": "2021-06-05T16:41:40.516614",
     "status": "completed"
    },
    "tags": []
   },
   "outputs": [
    {
     "data": {
      "text/html": [
       "<div>\n",
       "<style scoped>\n",
       "    .dataframe tbody tr th:only-of-type {\n",
       "        vertical-align: middle;\n",
       "    }\n",
       "\n",
       "    .dataframe tbody tr th {\n",
       "        vertical-align: top;\n",
       "    }\n",
       "\n",
       "    .dataframe thead th {\n",
       "        text-align: right;\n",
       "    }\n",
       "</style>\n",
       "<table border=\"1\" class=\"dataframe\">\n",
       "  <thead>\n",
       "    <tr style=\"text-align: right;\">\n",
       "      <th></th>\n",
       "      <th>Region</th>\n",
       "      <th>1980</th>\n",
       "      <th>1981</th>\n",
       "      <th>1982</th>\n",
       "      <th>1983</th>\n",
       "      <th>1984</th>\n",
       "      <th>1985</th>\n",
       "      <th>1986</th>\n",
       "      <th>1987</th>\n",
       "      <th>1988</th>\n",
       "      <th>...</th>\n",
       "      <th>2004</th>\n",
       "      <th>2005</th>\n",
       "      <th>2006</th>\n",
       "      <th>2007</th>\n",
       "      <th>2008</th>\n",
       "      <th>2009</th>\n",
       "      <th>2010</th>\n",
       "      <th>2011</th>\n",
       "      <th>2012</th>\n",
       "      <th>2013</th>\n",
       "    </tr>\n",
       "    <tr>\n",
       "      <th>Country</th>\n",
       "      <th></th>\n",
       "      <th></th>\n",
       "      <th></th>\n",
       "      <th></th>\n",
       "      <th></th>\n",
       "      <th></th>\n",
       "      <th></th>\n",
       "      <th></th>\n",
       "      <th></th>\n",
       "      <th></th>\n",
       "      <th></th>\n",
       "      <th></th>\n",
       "      <th></th>\n",
       "      <th></th>\n",
       "      <th></th>\n",
       "      <th></th>\n",
       "      <th></th>\n",
       "      <th></th>\n",
       "      <th></th>\n",
       "      <th></th>\n",
       "      <th></th>\n",
       "    </tr>\n",
       "  </thead>\n",
       "  <tbody>\n",
       "    <tr>\n",
       "      <th>Yemen</th>\n",
       "      <td>Asia</td>\n",
       "      <td>1</td>\n",
       "      <td>2</td>\n",
       "      <td>1</td>\n",
       "      <td>6</td>\n",
       "      <td>0</td>\n",
       "      <td>18</td>\n",
       "      <td>7</td>\n",
       "      <td>12</td>\n",
       "      <td>7</td>\n",
       "      <td>...</td>\n",
       "      <td>124</td>\n",
       "      <td>161</td>\n",
       "      <td>140</td>\n",
       "      <td>122</td>\n",
       "      <td>133</td>\n",
       "      <td>128</td>\n",
       "      <td>211</td>\n",
       "      <td>160</td>\n",
       "      <td>174</td>\n",
       "      <td>217</td>\n",
       "    </tr>\n",
       "    <tr>\n",
       "      <th>Zambia</th>\n",
       "      <td>Africa</td>\n",
       "      <td>11</td>\n",
       "      <td>17</td>\n",
       "      <td>11</td>\n",
       "      <td>7</td>\n",
       "      <td>16</td>\n",
       "      <td>9</td>\n",
       "      <td>15</td>\n",
       "      <td>23</td>\n",
       "      <td>44</td>\n",
       "      <td>...</td>\n",
       "      <td>56</td>\n",
       "      <td>91</td>\n",
       "      <td>77</td>\n",
       "      <td>71</td>\n",
       "      <td>64</td>\n",
       "      <td>60</td>\n",
       "      <td>102</td>\n",
       "      <td>69</td>\n",
       "      <td>46</td>\n",
       "      <td>59</td>\n",
       "    </tr>\n",
       "    <tr>\n",
       "      <th>Zimbabwe</th>\n",
       "      <td>Africa</td>\n",
       "      <td>72</td>\n",
       "      <td>114</td>\n",
       "      <td>102</td>\n",
       "      <td>44</td>\n",
       "      <td>32</td>\n",
       "      <td>29</td>\n",
       "      <td>43</td>\n",
       "      <td>68</td>\n",
       "      <td>99</td>\n",
       "      <td>...</td>\n",
       "      <td>1450</td>\n",
       "      <td>615</td>\n",
       "      <td>454</td>\n",
       "      <td>663</td>\n",
       "      <td>611</td>\n",
       "      <td>508</td>\n",
       "      <td>494</td>\n",
       "      <td>434</td>\n",
       "      <td>437</td>\n",
       "      <td>407</td>\n",
       "    </tr>\n",
       "  </tbody>\n",
       "</table>\n",
       "<p>3 rows × 35 columns</p>\n",
       "</div>"
      ],
      "text/plain": [
       "          Region  1980  1981  1982  1983  1984  1985  1986  1987  1988  ...  \\\n",
       "Country                                                                 ...   \n",
       "Yemen       Asia     1     2     1     6     0    18     7    12     7  ...   \n",
       "Zambia    Africa    11    17    11     7    16     9    15    23    44  ...   \n",
       "Zimbabwe  Africa    72   114   102    44    32    29    43    68    99  ...   \n",
       "\n",
       "          2004  2005  2006  2007  2008  2009  2010  2011  2012  2013  \n",
       "Country                                                               \n",
       "Yemen      124   161   140   122   133   128   211   160   174   217  \n",
       "Zambia      56    91    77    71    64    60   102    69    46    59  \n",
       "Zimbabwe  1450   615   454   663   611   508   494   434   437   407  \n",
       "\n",
       "[3 rows x 35 columns]"
      ]
     },
     "execution_count": 4,
     "metadata": {},
     "output_type": "execute_result"
    }
   ],
   "source": [
    "data = data.drop(data.index[-1])\n",
    "data.tail(3)"
   ]
  },
  {
   "cell_type": "code",
   "execution_count": 5,
   "id": "limited-industry",
   "metadata": {
    "execution": {
     "iopub.execute_input": "2021-06-05T16:41:40.611583Z",
     "iopub.status.busy": "2021-06-05T16:41:40.610937Z",
     "iopub.status.idle": "2021-06-05T16:41:40.616950Z",
     "shell.execute_reply": "2021-06-05T16:41:40.617473Z",
     "shell.execute_reply.started": "2021-06-05T16:20:20.091490Z"
    },
    "papermill": {
     "duration": 0.032619,
     "end_time": "2021-06-05T16:41:40.617639",
     "exception": false,
     "start_time": "2021-06-05T16:41:40.585020",
     "status": "completed"
    },
    "tags": []
   },
   "outputs": [
    {
     "data": {
      "text/plain": [
       "(178, 35)"
      ]
     },
     "execution_count": 5,
     "metadata": {},
     "output_type": "execute_result"
    }
   ],
   "source": [
    "data.shape"
   ]
  },
  {
   "cell_type": "code",
   "execution_count": 6,
   "id": "north-polls",
   "metadata": {
    "execution": {
     "iopub.execute_input": "2021-06-05T16:41:40.676612Z",
     "iopub.status.busy": "2021-06-05T16:41:40.675961Z",
     "iopub.status.idle": "2021-06-05T16:41:40.678960Z",
     "shell.execute_reply": "2021-06-05T16:41:40.679525Z",
     "shell.execute_reply.started": "2021-06-05T16:20:20.099630Z"
    },
    "papermill": {
     "duration": 0.038766,
     "end_time": "2021-06-05T16:41:40.679700",
     "exception": false,
     "start_time": "2021-06-05T16:41:40.640934",
     "status": "completed"
    },
    "tags": []
   },
   "outputs": [
    {
     "data": {
      "text/html": [
       "<div>\n",
       "<style scoped>\n",
       "    .dataframe tbody tr th:only-of-type {\n",
       "        vertical-align: middle;\n",
       "    }\n",
       "\n",
       "    .dataframe tbody tr th {\n",
       "        vertical-align: top;\n",
       "    }\n",
       "\n",
       "    .dataframe thead th {\n",
       "        text-align: right;\n",
       "    }\n",
       "</style>\n",
       "<table border=\"1\" class=\"dataframe\">\n",
       "  <thead>\n",
       "    <tr style=\"text-align: right;\">\n",
       "      <th></th>\n",
       "      <th>Null Values</th>\n",
       "    </tr>\n",
       "  </thead>\n",
       "  <tbody>\n",
       "    <tr>\n",
       "      <th>Region</th>\n",
       "      <td>0</td>\n",
       "    </tr>\n",
       "    <tr>\n",
       "      <th>1980</th>\n",
       "      <td>0</td>\n",
       "    </tr>\n",
       "    <tr>\n",
       "      <th>1981</th>\n",
       "      <td>0</td>\n",
       "    </tr>\n",
       "    <tr>\n",
       "      <th>1982</th>\n",
       "      <td>0</td>\n",
       "    </tr>\n",
       "    <tr>\n",
       "      <th>1983</th>\n",
       "      <td>0</td>\n",
       "    </tr>\n",
       "    <tr>\n",
       "      <th>1984</th>\n",
       "      <td>0</td>\n",
       "    </tr>\n",
       "    <tr>\n",
       "      <th>1985</th>\n",
       "      <td>0</td>\n",
       "    </tr>\n",
       "    <tr>\n",
       "      <th>1986</th>\n",
       "      <td>0</td>\n",
       "    </tr>\n",
       "    <tr>\n",
       "      <th>1987</th>\n",
       "      <td>0</td>\n",
       "    </tr>\n",
       "    <tr>\n",
       "      <th>1988</th>\n",
       "      <td>0</td>\n",
       "    </tr>\n",
       "    <tr>\n",
       "      <th>1989</th>\n",
       "      <td>0</td>\n",
       "    </tr>\n",
       "    <tr>\n",
       "      <th>1990</th>\n",
       "      <td>0</td>\n",
       "    </tr>\n",
       "    <tr>\n",
       "      <th>1991</th>\n",
       "      <td>0</td>\n",
       "    </tr>\n",
       "    <tr>\n",
       "      <th>1992</th>\n",
       "      <td>0</td>\n",
       "    </tr>\n",
       "    <tr>\n",
       "      <th>1993</th>\n",
       "      <td>0</td>\n",
       "    </tr>\n",
       "    <tr>\n",
       "      <th>1994</th>\n",
       "      <td>0</td>\n",
       "    </tr>\n",
       "    <tr>\n",
       "      <th>1995</th>\n",
       "      <td>0</td>\n",
       "    </tr>\n",
       "    <tr>\n",
       "      <th>1996</th>\n",
       "      <td>0</td>\n",
       "    </tr>\n",
       "    <tr>\n",
       "      <th>1997</th>\n",
       "      <td>0</td>\n",
       "    </tr>\n",
       "    <tr>\n",
       "      <th>1998</th>\n",
       "      <td>0</td>\n",
       "    </tr>\n",
       "    <tr>\n",
       "      <th>1999</th>\n",
       "      <td>0</td>\n",
       "    </tr>\n",
       "    <tr>\n",
       "      <th>2000</th>\n",
       "      <td>0</td>\n",
       "    </tr>\n",
       "    <tr>\n",
       "      <th>2001</th>\n",
       "      <td>0</td>\n",
       "    </tr>\n",
       "    <tr>\n",
       "      <th>2002</th>\n",
       "      <td>0</td>\n",
       "    </tr>\n",
       "    <tr>\n",
       "      <th>2003</th>\n",
       "      <td>0</td>\n",
       "    </tr>\n",
       "    <tr>\n",
       "      <th>2004</th>\n",
       "      <td>0</td>\n",
       "    </tr>\n",
       "    <tr>\n",
       "      <th>2005</th>\n",
       "      <td>0</td>\n",
       "    </tr>\n",
       "    <tr>\n",
       "      <th>2006</th>\n",
       "      <td>0</td>\n",
       "    </tr>\n",
       "    <tr>\n",
       "      <th>2007</th>\n",
       "      <td>0</td>\n",
       "    </tr>\n",
       "    <tr>\n",
       "      <th>2008</th>\n",
       "      <td>0</td>\n",
       "    </tr>\n",
       "    <tr>\n",
       "      <th>2009</th>\n",
       "      <td>0</td>\n",
       "    </tr>\n",
       "    <tr>\n",
       "      <th>2010</th>\n",
       "      <td>0</td>\n",
       "    </tr>\n",
       "    <tr>\n",
       "      <th>2011</th>\n",
       "      <td>0</td>\n",
       "    </tr>\n",
       "    <tr>\n",
       "      <th>2012</th>\n",
       "      <td>0</td>\n",
       "    </tr>\n",
       "    <tr>\n",
       "      <th>2013</th>\n",
       "      <td>0</td>\n",
       "    </tr>\n",
       "  </tbody>\n",
       "</table>\n",
       "</div>"
      ],
      "text/plain": [
       "        Null Values\n",
       "Region            0\n",
       "1980              0\n",
       "1981              0\n",
       "1982              0\n",
       "1983              0\n",
       "1984              0\n",
       "1985              0\n",
       "1986              0\n",
       "1987              0\n",
       "1988              0\n",
       "1989              0\n",
       "1990              0\n",
       "1991              0\n",
       "1992              0\n",
       "1993              0\n",
       "1994              0\n",
       "1995              0\n",
       "1996              0\n",
       "1997              0\n",
       "1998              0\n",
       "1999              0\n",
       "2000              0\n",
       "2001              0\n",
       "2002              0\n",
       "2003              0\n",
       "2004              0\n",
       "2005              0\n",
       "2006              0\n",
       "2007              0\n",
       "2008              0\n",
       "2009              0\n",
       "2010              0\n",
       "2011              0\n",
       "2012              0\n",
       "2013              0"
      ]
     },
     "execution_count": 6,
     "metadata": {},
     "output_type": "execute_result"
    }
   ],
   "source": [
    "data.isna().sum().to_frame('Null Values')"
   ]
  },
  {
   "cell_type": "markdown",
   "id": "cellular-pledge",
   "metadata": {
    "papermill": {
     "duration": 0.023613,
     "end_time": "2021-06-05T16:41:40.727383",
     "exception": false,
     "start_time": "2021-06-05T16:41:40.703770",
     "status": "completed"
    },
    "tags": []
   },
   "source": [
    "# Plotting Data Distribution"
   ]
  },
  {
   "cell_type": "code",
   "execution_count": 7,
   "id": "yellow-airfare",
   "metadata": {
    "execution": {
     "iopub.execute_input": "2021-06-05T16:41:40.778581Z",
     "iopub.status.busy": "2021-06-05T16:41:40.777973Z",
     "iopub.status.idle": "2021-06-05T16:41:42.834607Z",
     "shell.execute_reply": "2021-06-05T16:41:42.835115Z",
     "shell.execute_reply.started": "2021-06-05T16:20:20.128431Z"
    },
    "papermill": {
     "duration": 2.08392,
     "end_time": "2021-06-05T16:41:42.835300",
     "exception": false,
     "start_time": "2021-06-05T16:41:40.751380",
     "status": "completed"
    },
    "tags": []
   },
   "outputs": [
    {
     "data": {
      "image/png": "[encoded data removed]",
      "text/plain": [
       "<Figure size 1152x360 with 1 Axes>"
      ]
     },
     "metadata": {
      "needs_background": "light"
     },
     "output_type": "display_data"
    },
    {
     "data": {
      "image/png": "[encoded data removed]",
      "text/plain": [
       "<Figure size 1152x360 with 1 Axes>"
      ]
     },
     "metadata": {
      "needs_background": "light"
     },
     "output_type": "display_data"
    },
    {
     "data": {
      "image/png": "[encoded data removed]",
      "text/plain": [
       "<Figure size 1152x360 with 1 Axes>"
      ]
     },
     "metadata": {
      "needs_background": "light"
     },
     "output_type": "display_data"
    }
   ],
   "source": [
    "plt.figure(figsize=(16,5))\n",
    "sns.boxplot(data=data)\n",
    "plt.show()\n",
    "plt.figure(figsize=(16,5))\n",
    "sns.stripplot(data=data)\n",
    "plt.show()\n",
    "plt.figure(figsize=(16,5))\n",
    "sns.violinplot(data=data)\n",
    "plt.show()"
   ]
  },
  {
   "cell_type": "markdown",
   "id": "minus-novelty",
   "metadata": {
    "papermill": {
     "duration": 0.028383,
     "end_time": "2021-06-05T16:41:42.892844",
     "exception": false,
     "start_time": "2021-06-05T16:41:42.864461",
     "status": "completed"
    },
    "tags": []
   },
   "source": [
    "# Analysis & Visualization"
   ]
  },
  {
   "cell_type": "markdown",
   "id": "three-senator",
   "metadata": {
    "papermill": {
     "duration": 0.028401,
     "end_time": "2021-06-05T16:41:42.949882",
     "exception": false,
     "start_time": "2021-06-05T16:41:42.921481",
     "status": "completed"
    },
    "tags": []
   },
   "source": [
    "## Year-wise Analysis"
   ]
  },
  {
   "cell_type": "code",
   "execution_count": 8,
   "id": "considered-humanitarian",
   "metadata": {
    "execution": {
     "iopub.execute_input": "2021-06-05T16:41:43.012663Z",
     "iopub.status.busy": "2021-06-05T16:41:43.012018Z",
     "iopub.status.idle": "2021-06-05T16:41:43.021507Z",
     "shell.execute_reply": "2021-06-05T16:41:43.021936Z",
     "shell.execute_reply.started": "2021-06-05T16:20:22.182423Z"
    },
    "papermill": {
     "duration": 0.043234,
     "end_time": "2021-06-05T16:41:43.022116",
     "exception": false,
     "start_time": "2021-06-05T16:41:42.978882",
     "status": "completed"
    },
    "tags": []
   },
   "outputs": [
    {
     "data": {
      "text/html": [
       "<div>\n",
       "<style scoped>\n",
       "    .dataframe tbody tr th:only-of-type {\n",
       "        vertical-align: middle;\n",
       "    }\n",
       "\n",
       "    .dataframe tbody tr th {\n",
       "        vertical-align: top;\n",
       "    }\n",
       "\n",
       "    .dataframe thead th {\n",
       "        text-align: right;\n",
       "    }\n",
       "</style>\n",
       "<table border=\"1\" class=\"dataframe\">\n",
       "  <thead>\n",
       "    <tr style=\"text-align: right;\">\n",
       "      <th></th>\n",
       "      <th>Total</th>\n",
       "    </tr>\n",
       "  </thead>\n",
       "  <tbody>\n",
       "    <tr>\n",
       "      <th>1981</th>\n",
       "      <td>43052</td>\n",
       "    </tr>\n",
       "    <tr>\n",
       "      <th>1982</th>\n",
       "      <td>45480</td>\n",
       "    </tr>\n",
       "    <tr>\n",
       "      <th>1983</th>\n",
       "      <td>34972</td>\n",
       "    </tr>\n",
       "    <tr>\n",
       "      <th>1984</th>\n",
       "      <td>37617</td>\n",
       "    </tr>\n",
       "    <tr>\n",
       "      <th>1985</th>\n",
       "      <td>37640</td>\n",
       "    </tr>\n",
       "  </tbody>\n",
       "</table>\n",
       "</div>"
      ],
      "text/plain": [
       "      Total\n",
       "1981  43052\n",
       "1982  45480\n",
       "1983  34972\n",
       "1984  37617\n",
       "1985  37640"
      ]
     },
     "execution_count": 8,
     "metadata": {},
     "output_type": "execute_result"
    }
   ],
   "source": [
    "year = pd.DataFrame(data.iloc[:,2:].sum(), columns=['Total'])\n",
    "year.head()"
   ]
  },
  {
   "cell_type": "code",
   "execution_count": 9,
   "id": "smaller-specialist",
   "metadata": {
    "execution": {
     "iopub.execute_input": "2021-06-05T16:41:43.083751Z",
     "iopub.status.busy": "2021-06-05T16:41:43.083130Z",
     "iopub.status.idle": "2021-06-05T16:41:43.852724Z",
     "shell.execute_reply": "2021-06-05T16:41:43.853487Z",
     "shell.execute_reply.started": "2021-06-05T16:20:22.194271Z"
    },
    "papermill": {
     "duration": 0.802446,
     "end_time": "2021-06-05T16:41:43.853725",
     "exception": false,
     "start_time": "2021-06-05T16:41:43.051279",
     "status": "completed"
    },
    "tags": []
   },
   "outputs": [
    {
     "data": {
      "image/png": "[encoded data removed]",
      "text/plain": [
       "<Figure size 1008x360 with 1 Axes>"
      ]
     },
     "metadata": {
      "needs_background": "light"
     },
     "output_type": "display_data"
    },
    {
     "name": "stdout",
     "output_type": "stream",
     "text": [
      "Most number of immigration: 114197(1992)      \n",
      "Least number of immigration: 34972(1983)\n"
     ]
    }
   ],
   "source": [
    "plt.figure(figsize=(14,5))\n",
    "plt.title('Total Number of Immigration in each year (in thousands)', fontsize=15)\n",
    "plot = sns.barplot(year.index, np.round(year.Total/1000, decimals=1))\n",
    "plt.bar_label(plot.containers[0], size=9)\n",
    "plt.xticks(rotation='vertical')\n",
    "plt.xlabel('Year', fontsize=13)\n",
    "plt.ylabel('Immigration', fontsize=13)\n",
    "plt.show()\n",
    "max = year[year.Total == year.Total.max()]\n",
    "min = year[year.Total == year.Total.min()]\n",
    "print(f'Most number of immigration: {max.Total[0]}({max.index[0]})\\\n",
    "      \\nLeast number of immigration: {min.Total[0]}({min.index[0]})')"
   ]
  },
  {
   "cell_type": "markdown",
   "id": "durable-walker",
   "metadata": {
    "papermill": {
     "duration": 0.030113,
     "end_time": "2021-06-05T16:41:43.914994",
     "exception": false,
     "start_time": "2021-06-05T16:41:43.884881",
     "status": "completed"
    },
    "tags": []
   },
   "source": [
    "## Country-wise Analysis"
   ]
  },
  {
   "cell_type": "code",
   "execution_count": 10,
   "id": "motivated-preview",
   "metadata": {
    "execution": {
     "iopub.execute_input": "2021-06-05T16:41:43.979793Z",
     "iopub.status.busy": "2021-06-05T16:41:43.978820Z",
     "iopub.status.idle": "2021-06-05T16:41:43.991582Z",
     "shell.execute_reply": "2021-06-05T16:41:43.992010Z",
     "shell.execute_reply.started": "2021-06-05T16:20:22.791622Z"
    },
    "papermill": {
     "duration": 0.046652,
     "end_time": "2021-06-05T16:41:43.992178",
     "exception": false,
     "start_time": "2021-06-05T16:41:43.945526",
     "status": "completed"
    },
    "tags": []
   },
   "outputs": [
    {
     "data": {
      "text/html": [
       "<div>\n",
       "<style scoped>\n",
       "    .dataframe tbody tr th:only-of-type {\n",
       "        vertical-align: middle;\n",
       "    }\n",
       "\n",
       "    .dataframe tbody tr th {\n",
       "        vertical-align: top;\n",
       "    }\n",
       "\n",
       "    .dataframe thead th {\n",
       "        text-align: right;\n",
       "    }\n",
       "</style>\n",
       "<table border=\"1\" class=\"dataframe\">\n",
       "  <thead>\n",
       "    <tr style=\"text-align: right;\">\n",
       "      <th></th>\n",
       "      <th>Region</th>\n",
       "      <th>Total</th>\n",
       "    </tr>\n",
       "    <tr>\n",
       "      <th>Country</th>\n",
       "      <th></th>\n",
       "      <th></th>\n",
       "    </tr>\n",
       "  </thead>\n",
       "  <tbody>\n",
       "    <tr>\n",
       "      <th>Afghanistan</th>\n",
       "      <td>Asia</td>\n",
       "      <td>58639</td>\n",
       "    </tr>\n",
       "    <tr>\n",
       "      <th>Albania</th>\n",
       "      <td>Europe</td>\n",
       "      <td>15699</td>\n",
       "    </tr>\n",
       "    <tr>\n",
       "      <th>American Samoa</th>\n",
       "      <td>Oceania</td>\n",
       "      <td>6</td>\n",
       "    </tr>\n",
       "    <tr>\n",
       "      <th>Andorra</th>\n",
       "      <td>Europe</td>\n",
       "      <td>15</td>\n",
       "    </tr>\n",
       "    <tr>\n",
       "      <th>Angola</th>\n",
       "      <td>Africa</td>\n",
       "      <td>2113</td>\n",
       "    </tr>\n",
       "  </tbody>\n",
       "</table>\n",
       "</div>"
      ],
      "text/plain": [
       "                 Region  Total\n",
       "Country                       \n",
       "Afghanistan        Asia  58639\n",
       "Albania          Europe  15699\n",
       "American Samoa  Oceania      6\n",
       "Andorra          Europe     15\n",
       "Angola           Africa   2113"
      ]
     },
     "execution_count": 10,
     "metadata": {},
     "output_type": "execute_result"
    }
   ],
   "source": [
    "country = data.iloc[:,:1]\n",
    "country['Total'] = data.sum(axis=1)\n",
    "country.head()"
   ]
  },
  {
   "cell_type": "code",
   "execution_count": 11,
   "id": "minor-grounds",
   "metadata": {
    "execution": {
     "iopub.execute_input": "2021-06-05T16:41:44.069638Z",
     "iopub.status.busy": "2021-06-05T16:41:44.067043Z",
     "iopub.status.idle": "2021-06-05T16:41:46.488878Z",
     "shell.execute_reply": "2021-06-05T16:41:46.489397Z",
     "shell.execute_reply.started": "2021-06-05T16:20:22.807626Z"
    },
    "papermill": {
     "duration": 2.465508,
     "end_time": "2021-06-05T16:41:46.489576",
     "exception": false,
     "start_time": "2021-06-05T16:41:44.024068",
     "status": "completed"
    },
    "tags": []
   },
   "outputs": [
    {
     "data": {
      "image/png": "[encoded data removed]",
      "text/plain": [
       "<Figure size 1080x360 with 1 Axes>"
      ]
     },
     "metadata": {
      "needs_background": "light"
     },
     "output_type": "display_data"
    }
   ],
   "source": [
    "plt.figure(figsize=(15,5))\n",
    "sns.scatterplot(country.index, country.Total, hue=country.Region, s=100)\n",
    "plt.xlabel('Country', fontsize=13)\n",
    "plt.ylabel('Immigration', fontsize=13)\n",
    "plt.show()"
   ]
  },
  {
   "cell_type": "code",
   "execution_count": 12,
   "id": "supposed-rwanda",
   "metadata": {
    "execution": {
     "iopub.execute_input": "2021-06-05T16:41:46.559376Z",
     "iopub.status.busy": "2021-06-05T16:41:46.558776Z",
     "iopub.status.idle": "2021-06-05T16:41:46.570976Z",
     "shell.execute_reply": "2021-06-05T16:41:46.571438Z",
     "shell.execute_reply.started": "2021-06-05T16:20:25.399363Z"
    },
    "papermill": {
     "duration": 0.04854,
     "end_time": "2021-06-05T16:41:46.571616",
     "exception": false,
     "start_time": "2021-06-05T16:41:46.523076",
     "status": "completed"
    },
    "tags": []
   },
   "outputs": [
    {
     "data": {
      "text/html": [
       "<div>\n",
       "<style scoped>\n",
       "    .dataframe tbody tr th:only-of-type {\n",
       "        vertical-align: middle;\n",
       "    }\n",
       "\n",
       "    .dataframe tbody tr th {\n",
       "        vertical-align: top;\n",
       "    }\n",
       "\n",
       "    .dataframe thead th {\n",
       "        text-align: right;\n",
       "    }\n",
       "</style>\n",
       "<table border=\"1\" class=\"dataframe\">\n",
       "  <thead>\n",
       "    <tr style=\"text-align: right;\">\n",
       "      <th></th>\n",
       "      <th>Region</th>\n",
       "      <th>Total</th>\n",
       "    </tr>\n",
       "    <tr>\n",
       "      <th>Country</th>\n",
       "      <th></th>\n",
       "      <th></th>\n",
       "    </tr>\n",
       "  </thead>\n",
       "  <tbody>\n",
       "    <tr>\n",
       "      <th>Sri Lanka</th>\n",
       "      <td>Asia</td>\n",
       "      <td>148358</td>\n",
       "    </tr>\n",
       "    <tr>\n",
       "      <th>Poland</th>\n",
       "      <td>Europe</td>\n",
       "      <td>139241</td>\n",
       "    </tr>\n",
       "    <tr>\n",
       "      <th>Lebanon</th>\n",
       "      <td>Asia</td>\n",
       "      <td>115359</td>\n",
       "    </tr>\n",
       "    <tr>\n",
       "      <th>Jamaica</th>\n",
       "      <td>Latin America and the Caribbean</td>\n",
       "      <td>106431</td>\n",
       "    </tr>\n",
       "    <tr>\n",
       "      <th>Viet Nam</th>\n",
       "      <td>Asia</td>\n",
       "      <td>97146</td>\n",
       "    </tr>\n",
       "    <tr>\n",
       "      <th>...</th>\n",
       "      <td>...</td>\n",
       "      <td>...</td>\n",
       "    </tr>\n",
       "    <tr>\n",
       "      <th>San Marino</th>\n",
       "      <td>Europe</td>\n",
       "      <td>5</td>\n",
       "    </tr>\n",
       "    <tr>\n",
       "      <th>New Caledonia</th>\n",
       "      <td>Oceania</td>\n",
       "      <td>5</td>\n",
       "    </tr>\n",
       "    <tr>\n",
       "      <th>Western Sahara</th>\n",
       "      <td>Africa</td>\n",
       "      <td>2</td>\n",
       "    </tr>\n",
       "    <tr>\n",
       "      <th>Marshall Islands</th>\n",
       "      <td>Oceania</td>\n",
       "      <td>2</td>\n",
       "    </tr>\n",
       "    <tr>\n",
       "      <th>Palau</th>\n",
       "      <td>Oceania</td>\n",
       "      <td>1</td>\n",
       "    </tr>\n",
       "  </tbody>\n",
       "</table>\n",
       "<p>178 rows × 2 columns</p>\n",
       "</div>"
      ],
      "text/plain": [
       "                                           Region   Total\n",
       "Country                                                  \n",
       "Sri Lanka                                    Asia  148358\n",
       "Poland                                     Europe  139241\n",
       "Lebanon                                      Asia  115359\n",
       "Jamaica           Latin America and the Caribbean  106431\n",
       "Viet Nam                                     Asia   97146\n",
       "...                                           ...     ...\n",
       "San Marino                                 Europe       5\n",
       "New Caledonia                             Oceania       5\n",
       "Western Sahara                             Africa       2\n",
       "Marshall Islands                          Oceania       2\n",
       "Palau                                     Oceania       1\n",
       "\n",
       "[178 rows x 2 columns]"
      ]
     },
     "execution_count": 12,
     "metadata": {},
     "output_type": "execute_result"
    }
   ],
   "source": [
    "country = country.sort_values('Total', ascending=False)\n",
    "country"
   ]
  },
  {
   "cell_type": "code",
   "execution_count": 13,
   "id": "healthy-efficiency",
   "metadata": {
    "execution": {
     "iopub.execute_input": "2021-06-05T16:41:46.643976Z",
     "iopub.status.busy": "2021-06-05T16:41:46.643337Z",
     "iopub.status.idle": "2021-06-05T16:41:46.960804Z",
     "shell.execute_reply": "2021-06-05T16:41:46.961272Z",
     "shell.execute_reply.started": "2021-06-05T16:20:25.416705Z"
    },
    "papermill": {
     "duration": 0.35541,
     "end_time": "2021-06-05T16:41:46.961462",
     "exception": false,
     "start_time": "2021-06-05T16:41:46.606052",
     "status": "completed"
    },
    "tags": []
   },
   "outputs": [
    {
     "data": {
      "image/png": "[encoded data removed]",
      "text/plain": [
       "<Figure size 720x360 with 1 Axes>"
      ]
     },
     "metadata": {
      "needs_background": "light"
     },
     "output_type": "display_data"
    }
   ],
   "source": [
    "plt.figure(figsize=(10,5))\n",
    "plt.title('Top Countries from where the most number of Immigration so far')\n",
    "plot = sns.barplot(np.round(country.Total[:15]/1000, decimals=1), country.index[:15])\n",
    "plt.bar_label(plot.containers[0], size=9)\n",
    "plt.xlabel('Total immigration (in thousands)', fontsize=12)\n",
    "plt.ylabel('Country', fontsize=12)\n",
    "plt.show()"
   ]
  },
  {
   "cell_type": "markdown",
   "id": "indonesian-upper",
   "metadata": {
    "papermill": {
     "duration": 0.035513,
     "end_time": "2021-06-05T16:41:47.031970",
     "exception": false,
     "start_time": "2021-06-05T16:41:46.996457",
     "status": "completed"
    },
    "tags": []
   },
   "source": [
    "## Region-wise Analysis"
   ]
  },
  {
   "cell_type": "code",
   "execution_count": 14,
   "id": "acute-panama",
   "metadata": {
    "execution": {
     "iopub.execute_input": "2021-06-05T16:41:47.107423Z",
     "iopub.status.busy": "2021-06-05T16:41:47.106449Z",
     "iopub.status.idle": "2021-06-05T16:41:47.123303Z",
     "shell.execute_reply": "2021-06-05T16:41:47.122678Z",
     "shell.execute_reply.started": "2021-06-05T16:20:25.749856Z"
    },
    "papermill": {
     "duration": 0.056115,
     "end_time": "2021-06-05T16:41:47.123455",
     "exception": false,
     "start_time": "2021-06-05T16:41:47.067340",
     "status": "completed"
    },
    "tags": []
   },
   "outputs": [
    {
     "data": {
      "text/html": [
       "<div>\n",
       "<style scoped>\n",
       "    .dataframe tbody tr th:only-of-type {\n",
       "        vertical-align: middle;\n",
       "    }\n",
       "\n",
       "    .dataframe tbody tr th {\n",
       "        vertical-align: top;\n",
       "    }\n",
       "\n",
       "    .dataframe thead th {\n",
       "        text-align: right;\n",
       "    }\n",
       "</style>\n",
       "<table border=\"1\" class=\"dataframe\">\n",
       "  <thead>\n",
       "    <tr style=\"text-align: right;\">\n",
       "      <th></th>\n",
       "      <th>Total</th>\n",
       "      <th>Percentage</th>\n",
       "    </tr>\n",
       "    <tr>\n",
       "      <th>Region</th>\n",
       "      <th></th>\n",
       "      <th></th>\n",
       "    </tr>\n",
       "  </thead>\n",
       "  <tbody>\n",
       "    <tr>\n",
       "      <th>Asia</th>\n",
       "      <td>759076</td>\n",
       "      <td>29.8</td>\n",
       "    </tr>\n",
       "    <tr>\n",
       "      <th>Europe</th>\n",
       "      <td>750356</td>\n",
       "      <td>29.4</td>\n",
       "    </tr>\n",
       "    <tr>\n",
       "      <th>Latin America and the Caribbean</th>\n",
       "      <td>549535</td>\n",
       "      <td>21.5</td>\n",
       "    </tr>\n",
       "    <tr>\n",
       "      <th>Africa</th>\n",
       "      <td>437032</td>\n",
       "      <td>17.1</td>\n",
       "    </tr>\n",
       "    <tr>\n",
       "      <th>Oceania</th>\n",
       "      <td>55174</td>\n",
       "      <td>2.2</td>\n",
       "    </tr>\n",
       "    <tr>\n",
       "      <th>Northern America</th>\n",
       "      <td>20</td>\n",
       "      <td>0.0</td>\n",
       "    </tr>\n",
       "  </tbody>\n",
       "</table>\n",
       "</div>"
      ],
      "text/plain": [
       "                                  Total  Percentage\n",
       "Region                                             \n",
       "Asia                             759076        29.8\n",
       "Europe                           750356        29.4\n",
       "Latin America and the Caribbean  549535        21.5\n",
       "Africa                           437032        17.1\n",
       "Oceania                           55174         2.2\n",
       "Northern America                     20         0.0"
      ]
     },
     "execution_count": 14,
     "metadata": {},
     "output_type": "execute_result"
    }
   ],
   "source": [
    "reg = country.groupby('Region').sum().sort_values('Total', ascending=False)\n",
    "reg['Percentage'] = pd.DataFrame(np.round(reg.Total/reg.Total.sum()*100, decimals=1))\n",
    "reg"
   ]
  },
  {
   "cell_type": "code",
   "execution_count": 15,
   "id": "subject-lover",
   "metadata": {
    "execution": {
     "iopub.execute_input": "2021-06-05T16:41:47.200653Z",
     "iopub.status.busy": "2021-06-05T16:41:47.200003Z",
     "iopub.status.idle": "2021-06-05T16:41:47.202556Z",
     "shell.execute_reply": "2021-06-05T16:41:47.202985Z",
     "shell.execute_reply.started": "2021-06-05T16:20:25.767548Z"
    },
    "papermill": {
     "duration": 0.044281,
     "end_time": "2021-06-05T16:41:47.203149",
     "exception": false,
     "start_time": "2021-06-05T16:41:47.158868",
     "status": "completed"
    },
    "tags": []
   },
   "outputs": [
    {
     "data": {
      "text/plain": [
       "100.00000000000001"
      ]
     },
     "execution_count": 15,
     "metadata": {},
     "output_type": "execute_result"
    }
   ],
   "source": [
    "reg.Percentage.sum()"
   ]
  },
  {
   "cell_type": "code",
   "execution_count": 16,
   "id": "arctic-mirror",
   "metadata": {
    "execution": {
     "iopub.execute_input": "2021-06-05T16:41:47.277288Z",
     "iopub.status.busy": "2021-06-05T16:41:47.276631Z",
     "iopub.status.idle": "2021-06-05T16:41:47.281474Z",
     "shell.execute_reply": "2021-06-05T16:41:47.281903Z",
     "shell.execute_reply.started": "2021-06-05T16:20:25.782387Z"
    },
    "papermill": {
     "duration": 0.043223,
     "end_time": "2021-06-05T16:41:47.282065",
     "exception": false,
     "start_time": "2021-06-05T16:41:47.238842",
     "status": "completed"
    },
    "tags": []
   },
   "outputs": [],
   "source": [
    "reg = reg.drop(reg.index[-1])"
   ]
  },
  {
   "cell_type": "code",
   "execution_count": 17,
   "id": "collectible-calculator",
   "metadata": {
    "execution": {
     "iopub.execute_input": "2021-06-05T16:41:47.357695Z",
     "iopub.status.busy": "2021-06-05T16:41:47.357059Z",
     "iopub.status.idle": "2021-06-05T16:41:47.529260Z",
     "shell.execute_reply": "2021-06-05T16:41:47.528747Z",
     "shell.execute_reply.started": "2021-06-05T16:20:25.795678Z"
    },
    "papermill": {
     "duration": 0.212102,
     "end_time": "2021-06-05T16:41:47.529405",
     "exception": false,
     "start_time": "2021-06-05T16:41:47.317303",
     "status": "completed"
    },
    "tags": []
   },
   "outputs": [
    {
     "data": {
      "image/png": "[encoded data removed]",
      "text/plain": [
       "<Figure size 504x504 with 1 Axes>"
      ]
     },
     "metadata": {},
     "output_type": "display_data"
    }
   ],
   "source": [
    "reg.Total.plot.pie(autopct='%1.2f%%',figsize=(7,7), label='Immigration', shadow=True)\n",
    "plt.show()"
   ]
  },
  {
   "cell_type": "markdown",
   "id": "complete-entry",
   "metadata": {
    "papermill": {
     "duration": 0.036603,
     "end_time": "2021-06-05T16:41:47.602929",
     "exception": false,
     "start_time": "2021-06-05T16:41:47.566326",
     "status": "completed"
    },
    "tags": []
   },
   "source": [
    "# Plotting World Percentage"
   ]
  },
  {
   "cell_type": "code",
   "execution_count": 18,
   "id": "annual-worth",
   "metadata": {
    "execution": {
     "iopub.execute_input": "2021-06-05T16:41:47.691564Z",
     "iopub.status.busy": "2021-06-05T16:41:47.690515Z",
     "iopub.status.idle": "2021-06-05T16:41:47.695019Z",
     "shell.execute_reply": "2021-06-05T16:41:47.694401Z",
     "shell.execute_reply.started": "2021-06-05T16:20:25.956191Z"
    },
    "papermill": {
     "duration": 0.055485,
     "end_time": "2021-06-05T16:41:47.695155",
     "exception": false,
     "start_time": "2021-06-05T16:41:47.639670",
     "status": "completed"
    },
    "tags": []
   },
   "outputs": [
    {
     "data": {
      "text/html": [
       "<div>\n",
       "<style scoped>\n",
       "    .dataframe tbody tr th:only-of-type {\n",
       "        vertical-align: middle;\n",
       "    }\n",
       "\n",
       "    .dataframe tbody tr th {\n",
       "        vertical-align: top;\n",
       "    }\n",
       "\n",
       "    .dataframe thead th {\n",
       "        text-align: right;\n",
       "    }\n",
       "</style>\n",
       "<table border=\"1\" class=\"dataframe\">\n",
       "  <thead>\n",
       "    <tr style=\"text-align: right;\">\n",
       "      <th></th>\n",
       "      <th>Region</th>\n",
       "      <th>Percentage</th>\n",
       "    </tr>\n",
       "    <tr>\n",
       "      <th>Country</th>\n",
       "      <th></th>\n",
       "      <th></th>\n",
       "    </tr>\n",
       "  </thead>\n",
       "  <tbody>\n",
       "    <tr>\n",
       "      <th>Sri Lanka</th>\n",
       "      <td>Asia</td>\n",
       "      <td>5.8</td>\n",
       "    </tr>\n",
       "    <tr>\n",
       "      <th>Poland</th>\n",
       "      <td>Europe</td>\n",
       "      <td>5.5</td>\n",
       "    </tr>\n",
       "    <tr>\n",
       "      <th>Lebanon</th>\n",
       "      <td>Asia</td>\n",
       "      <td>4.5</td>\n",
       "    </tr>\n",
       "    <tr>\n",
       "      <th>Jamaica</th>\n",
       "      <td>Latin America and the Caribbean</td>\n",
       "      <td>4.2</td>\n",
       "    </tr>\n",
       "    <tr>\n",
       "      <th>Viet Nam</th>\n",
       "      <td>Asia</td>\n",
       "      <td>3.8</td>\n",
       "    </tr>\n",
       "  </tbody>\n",
       "</table>\n",
       "</div>"
      ],
      "text/plain": [
       "                                    Region  Percentage\n",
       "Country                                               \n",
       "Sri Lanka                             Asia         5.8\n",
       "Poland                              Europe         5.5\n",
       "Lebanon                               Asia         4.5\n",
       "Jamaica    Latin America and the Caribbean         4.2\n",
       "Viet Nam                              Asia         3.8"
      ]
     },
     "execution_count": 18,
     "metadata": {},
     "output_type": "execute_result"
    }
   ],
   "source": [
    "country['Percentage'] = pd.DataFrame(np.round(country.Total/country.Total.sum()*100, decimals=1))\n",
    "country = country.drop(['Total'], axis=1)\n",
    "country.head()"
   ]
  },
  {
   "cell_type": "code",
   "execution_count": 19,
   "id": "administrative-maintenance",
   "metadata": {
    "execution": {
     "iopub.execute_input": "2021-06-05T16:41:47.773981Z",
     "iopub.status.busy": "2021-06-05T16:41:47.773283Z",
     "iopub.status.idle": "2021-06-05T16:41:47.800737Z",
     "shell.execute_reply": "2021-06-05T16:41:47.800141Z",
     "shell.execute_reply.started": "2021-06-05T16:20:25.972150Z"
    },
    "papermill": {
     "duration": 0.068553,
     "end_time": "2021-06-05T16:41:47.800903",
     "exception": false,
     "start_time": "2021-06-05T16:41:47.732350",
     "status": "completed"
    },
    "tags": []
   },
   "outputs": [],
   "source": [
    "import plotly.graph_objs as go\n",
    "from plotly.offline import iplot"
   ]
  },
  {
   "cell_type": "code",
   "execution_count": 20,
   "id": "directed-blank",
   "metadata": {
    "execution": {
     "iopub.execute_input": "2021-06-05T16:41:47.882858Z",
     "iopub.status.busy": "2021-06-05T16:41:47.882147Z",
     "iopub.status.idle": "2021-06-05T16:41:49.027213Z",
     "shell.execute_reply": "2021-06-05T16:41:49.027709Z",
     "shell.execute_reply.started": "2021-06-05T16:20:25.985757Z"
    },
    "papermill": {
     "duration": 1.18987,
     "end_time": "2021-06-05T16:41:49.027873",
     "exception": false,
     "start_time": "2021-06-05T16:41:47.838003",
     "status": "completed"
    },
    "tags": []
   },
   "outputs": [
    {
     "data": {
      "text/html": [
       "        <script type=\"text/javascript\">\n",
       "        window.PlotlyConfig = {MathJaxConfig: 'local'};\n",
       "        if (window.MathJax) {MathJax.Hub.Config({SVG: {font: \"STIX-Web\"}});}\n",
       "        if (typeof require !== 'undefined') {\n",
       "        require.undef(\"plotly\");\n",
       "        requirejs.config({\n",
       "            paths: {\n",
       "                'plotly': ['https://cdn.plot.ly/plotly-latest.min']\n",
       "            }\n",
       "        });\n",
       "        require(['plotly'], function(Plotly) {\n",
       "            window._Plotly = Plotly;\n",
       "        });\n",
       "        }\n",
       "        </script>\n",
       "        "
      ]
     },
     "metadata": {},
     "output_type": "display_data"
    },
    {
     "data": {
      "text/html": [
       "<div>                            <div id=\"addbb424-9484-46aa-a9c0-56aba8ff9d9b\" class=\"plotly-graph-div\" style=\"height:525px; width:100%;\"></div>            <script type=\"text/javascript\">                require([\"plotly\"], function(Plotly) {                    window.PLOTLYENV=window.PLOTLYENV || {};                                    if (document.getElementById(\"addbb424-9484-46aa-a9c0-56aba8ff9d9b\")) {                    Plotly.newPlot(                        \"addbb424-9484-46aa-a9c0-56aba8ff9d9b\",                        [{\"colorbar\": {\"title\": {\"text\": \"Percentage\"}}, \"colorscale\": [[0.0, \"rgb(255,245,240)\"], [0.125, \"rgb(254,224,210)\"], [0.25, \"rgb(252,187,161)\"], [0.375, \"rgb(252,146,114)\"], [0.5, \"rgb(251,106,74)\"], [0.625, \"rgb(239,59,44)\"], [0.75, \"rgb(203,24,29)\"], [0.875, \"rgb(165,15,21)\"], [1.0, \"rgb(103,0,13)\"]], \"locationmode\": \"country names\", \"locations\": [\"Sri Lanka\", \"Poland\", \"Lebanon\", \"Jamaica\", \"Viet Nam\", \"Romania\", \"Guyana\", \"Portugal\", \"Morocco\", \"Israel\", \"Germany\", \"Russian Federation\", \"Afghanistan\", \"El Salvador\", \"Ukraine\", \"Trinidad and Tobago\", \"Somalia\", \"South Africa\", \"Jordan\", \"Ethiopia\", \"Peru\", \"Turkey\", \"Syrian Arab Republic\", \"Brazil\", \"Japan\", \"Netherlands\", \"Ghana\", \"Democratic Republic of the Congo\", \"Malaysia\", \"Australia\", \"Bulgaria\", \"Italy\", \"Bosnia and Herzegovina\", \"Chile\", \"Venezuela (Bolivarian Republic of)\", \"Fiji\", \"Cuba\", \"Argentina\", \"Guatemala\", \"Sudan\", \"Tunisia\", \"Kenya\", \"Ireland\", \"Hungary\", \"Cameroon\", \"Albania\", \"Mauritius\", \"Switzerland\", \"Republic of Moldova\", \"Singapore\", \"Indonesia\", \"United Republic of Tanzania\", \"Greece\", \"Ecuador\", \"Nicaragua\", \"Dominican Republic\", \"Belgium\", \"Eritrea\", \"New Zealand\", \"Nepal\", \"Saint Vincent and the Grenadines\", \"China, Hong Kong Special Administrative Region\", \"Myanmar\", \"Thailand\", \"Grenada\", \"Zimbabwe\", \"Kazakhstan\", \"C\\u00f4te d'Ivoire\", \"Burundi\", \"Croatia\", \"Belarus\", \"Honduras\", \"Senegal\", \"Barbados\", \"Rwanda\", \"Cambodia\", \"State of Palestine\", \"Slovakia\", \"Bhutan\", \"Sweden\", \"Spain\", \"Austria\", \"Libya\", \"Guinea\", \"Saint Lucia\", \"Uruguay\", \"The former Yugoslav Republic of Macedonia\", \"Costa Rica\", \"Czech Republic\", \"Denmark\", \"Togo\", \"Uganda\", \"Saudi Arabia\", \"Uzbekistan\", \"Sierra Leone\", \"Armenia\", \"Bolivia (Plurinational State of)\", \"Panama\", \"Yemen\", \"Benin\", \"Finland\", \"Liberia\", \"Azerbaijan\", \"Dominica\", \"Lithuania\", \"Kyrgyzstan\", \"Norway\", \"Latvia\", \"Madagascar\", \"Mali\", \"Angola\", \"Georgia\", \"Burkina Faso\", \"Kuwait\", \"Paraguay\", \"Serbia\", \"Congo\", \"Zambia\", \"Chad\", \"Djibouti\", \"Malta\", \"Seychelles\", \"Cyprus\", \"Lao People's Democratic Republic\", \"Belize\", \"Mauritania\", \"Antigua and Barbuda\", \"Niger\", \"Gabon\", \"Mongolia\", \"Estonia\", \"United Arab Emirates\", \"Bahamas\", \"Suriname\", \"Saint Kitts and Nevis\", \"Gambia\", \"Brunei Darussalam\", \"Iceland\", \"Central African Republic\", \"Slovenia\", \"Tajikistan\", \"Bahrain\", \"Botswana\", \"Democratic People's Republic of Korea\", \"Namibia\", \"Turkmenistan\", \"Malawi\", \"China, Macao Special Administrative Region\", \"Oman\", \"Luxembourg\", \"Cabo Verde\", \"Comoros\", \"Swaziland\", \"Mozambique\", \"Qatar\", \"Tonga\", \"Lesotho\", \"Montenegro\", \"Guinea-Bissau\", \"Samoa\", \"Papua New Guinea\", \"Equatorial Guinea\", \"Liechtenstein\", \"Maldives\", \"Monaco\", \"Canada\", \"Nauru\", \"Kiribati\", \"Andorra\", \"Vanuatu\", \"Sao Tome and Principe\", \"Tuvalu\", \"American Samoa\", \"San Marino\", \"New Caledonia\", \"Western Sahara\", \"Marshall Islands\", \"Palau\"], \"marker\": {\"line\": {\"color\": \"black\", \"width\": 0.5}}, \"text\": [\"Asia\", \"Europe\", \"Asia\", \"Latin America and the Caribbean\", \"Asia\", \"Europe\", \"Latin America and the Caribbean\", \"Europe\", \"Africa\", \"Asia\", \"Europe\", \"Europe\", \"Asia\", \"Latin America and the Caribbean\", \"Europe\", \"Latin America and the Caribbean\", \"Africa\", \"Africa\", \"Asia\", \"Africa\", \"Latin America and the Caribbean\", \"Asia\", \"Asia\", \"Latin America and the Caribbean\", \"Asia\", \"Europe\", \"Africa\", \"Africa\", \"Asia\", \"Oceania\", \"Europe\", \"Europe\", \"Europe\", \"Latin America and the Caribbean\", \"Latin America and the Caribbean\", \"Oceania\", \"Latin America and the Caribbean\", \"Latin America and the Caribbean\", \"Latin America and the Caribbean\", \"Africa\", \"Africa\", \"Africa\", \"Europe\", \"Europe\", \"Africa\", \"Europe\", \"Africa\", \"Europe\", \"Europe\", \"Asia\", \"Asia\", \"Africa\", \"Europe\", \"Latin America and the Caribbean\", \"Latin America and the Caribbean\", \"Latin America and the Caribbean\", \"Europe\", \"Africa\", \"Oceania\", \"Asia\", \"Latin America and the Caribbean\", \"Asia\", \"Asia\", \"Asia\", \"Latin America and the Caribbean\", \"Africa\", \"Asia\", \"Africa\", \"Africa\", \"Europe\", \"Europe\", \"Latin America and the Caribbean\", \"Africa\", \"Latin America and the Caribbean\", \"Africa\", \"Asia\", \"Asia\", \"Europe\", \"Asia\", \"Europe\", \"Europe\", \"Europe\", \"Africa\", \"Africa\", \"Latin America and the Caribbean\", \"Latin America and the Caribbean\", \"Europe\", \"Latin America and the Caribbean\", \"Europe\", \"Europe\", \"Africa\", \"Africa\", \"Asia\", \"Asia\", \"Africa\", \"Asia\", \"Latin America and the Caribbean\", \"Latin America and the Caribbean\", \"Asia\", \"Africa\", \"Europe\", \"Africa\", \"Asia\", \"Latin America and the Caribbean\", \"Europe\", \"Asia\", \"Europe\", \"Europe\", \"Africa\", \"Africa\", \"Africa\", \"Asia\", \"Africa\", \"Asia\", \"Latin America and the Caribbean\", \"Europe\", \"Africa\", \"Africa\", \"Africa\", \"Africa\", \"Europe\", \"Africa\", \"Asia\", \"Asia\", \"Latin America and the Caribbean\", \"Africa\", \"Latin America and the Caribbean\", \"Africa\", \"Africa\", \"Asia\", \"Europe\", \"Asia\", \"Latin America and the Caribbean\", \"Latin America and the Caribbean\", \"Latin America and the Caribbean\", \"Africa\", \"Asia\", \"Europe\", \"Africa\", \"Europe\", \"Asia\", \"Asia\", \"Africa\", \"Asia\", \"Africa\", \"Asia\", \"Africa\", \"Asia\", \"Asia\", \"Europe\", \"Africa\", \"Africa\", \"Africa\", \"Africa\", \"Asia\", \"Oceania\", \"Africa\", \"Europe\", \"Africa\", \"Oceania\", \"Oceania\", \"Africa\", \"Europe\", \"Asia\", \"Europe\", \"Northern America\", \"Oceania\", \"Oceania\", \"Europe\", \"Oceania\", \"Africa\", \"Oceania\", \"Oceania\", \"Europe\", \"Oceania\", \"Africa\", \"Oceania\", \"Oceania\"], \"type\": \"choropleth\", \"z\": [5.8, 5.5, 4.5, 4.2, 3.8, 3.7, 3.0, 2.9, 2.8, 2.6, 2.5, 2.5, 2.3, 2.2, 2.0, 2.0, 1.7, 1.6, 1.4, 1.4, 1.3, 1.2, 1.2, 1.2, 1.1, 1.1, 1.0, 1.0, 1.0, 0.9, 0.9, 0.9, 0.9, 0.8, 0.8, 0.8, 0.8, 0.8, 0.8, 0.7, 0.7, 0.7, 0.7, 0.7, 0.6, 0.6, 0.6, 0.6, 0.6, 0.6, 0.5, 0.5, 0.5, 0.5, 0.5, 0.4, 0.4, 0.4, 0.4, 0.4, 0.4, 0.4, 0.4, 0.4, 0.4, 0.3, 0.3, 0.3, 0.3, 0.3, 0.3, 0.3, 0.3, 0.3, 0.3, 0.3, 0.3, 0.2, 0.2, 0.2, 0.2, 0.2, 0.2, 0.2, 0.2, 0.2, 0.2, 0.2, 0.2, 0.2, 0.1, 0.1, 0.1, 0.1, 0.1, 0.1, 0.1, 0.1, 0.1, 0.1, 0.1, 0.1, 0.1, 0.1, 0.1, 0.1, 0.1, 0.1, 0.1, 0.1, 0.1, 0.1, 0.1, 0.1, 0.1, 0.1, 0.1, 0.1, 0.1, 0.1, 0.1, 0.0, 0.0, 0.0, 0.0, 0.0, 0.0, 0.0, 0.0, 0.0, 0.0, 0.0, 0.0, 0.0, 0.0, 0.0, 0.0, 0.0, 0.0, 0.0, 0.0, 0.0, 0.0, 0.0, 0.0, 0.0, 0.0, 0.0, 0.0, 0.0, 0.0, 0.0, 0.0, 0.0, 0.0, 0.0, 0.0, 0.0, 0.0, 0.0, 0.0, 0.0, 0.0, 0.0, 0.0, 0.0, 0.0, 0.0, 0.0, 0.0, 0.0, 0.0, 0.0, 0.0, 0.0, 0.0, 0.0, 0.0]}],                        {\"geo\": {\"projection\": {\"type\": \"natural earth\"}, \"showframe\": false}, \"template\": {\"data\": {\"bar\": [{\"error_x\": {\"color\": \"#2a3f5f\"}, \"error_y\": {\"color\": \"#2a3f5f\"}, \"marker\": {\"line\": {\"color\": \"#E5ECF6\", \"width\": 0.5}}, \"type\": \"bar\"}], \"barpolar\": [{\"marker\": {\"line\": {\"color\": \"#E5ECF6\", \"width\": 0.5}}, \"type\": \"barpolar\"}], \"carpet\": [{\"aaxis\": {\"endlinecolor\": \"#2a3f5f\", \"gridcolor\": \"white\", \"linecolor\": \"white\", \"minorgridcolor\": \"white\", \"startlinecolor\": \"#2a3f5f\"}, \"baxis\": {\"endlinecolor\": \"#2a3f5f\", \"gridcolor\": \"white\", \"linecolor\": \"white\", \"minorgridcolor\": \"white\", \"startlinecolor\": \"#2a3f5f\"}, \"type\": \"carpet\"}], \"choropleth\": [{\"colorbar\": {\"outlinewidth\": 0, \"ticks\": \"\"}, \"type\": \"choropleth\"}], \"contour\": [{\"colorbar\": {\"outlinewidth\": 0, \"ticks\": \"\"}, \"colorscale\": [[0.0, \"#0d0887\"], [0.1111111111111111, \"#46039f\"], [0.2222222222222222, \"#7201a8\"], [0.3333333333333333, \"#9c179e\"], [0.4444444444444444, \"#bd3786\"], [0.5555555555555556, \"#d8576b\"], [0.6666666666666666, \"#ed7953\"], [0.7777777777777778, \"#fb9f3a\"], [0.8888888888888888, \"#fdca26\"], [1.0, \"#f0f921\"]], \"type\": \"contour\"}], \"contourcarpet\": [{\"colorbar\": {\"outlinewidth\": 0, \"ticks\": \"\"}, \"type\": \"contourcarpet\"}], \"heatmap\": [{\"colorbar\": {\"outlinewidth\": 0, \"ticks\": \"\"}, \"colorscale\": [[0.0, \"#0d0887\"], [0.1111111111111111, \"#46039f\"], [0.2222222222222222, \"#7201a8\"], [0.3333333333333333, \"#9c179e\"], [0.4444444444444444, \"#bd3786\"], [0.5555555555555556, \"#d8576b\"], [0.6666666666666666, \"#ed7953\"], [0.7777777777777778, \"#fb9f3a\"], [0.8888888888888888, \"#fdca26\"], [1.0, \"#f0f921\"]], \"type\": \"heatmap\"}], \"heatmapgl\": [{\"colorbar\": {\"outlinewidth\": 0, \"ticks\": \"\"}, \"colorscale\": [[0.0, \"#0d0887\"], [0.1111111111111111, \"#46039f\"], [0.2222222222222222, \"#7201a8\"], [0.3333333333333333, \"#9c179e\"], [0.4444444444444444, \"#bd3786\"], [0.5555555555555556, \"#d8576b\"], [0.6666666666666666, \"#ed7953\"], [0.7777777777777778, \"#fb9f3a\"], [0.8888888888888888, \"#fdca26\"], [1.0, \"#f0f921\"]], \"type\": \"heatmapgl\"}], \"histogram\": [{\"marker\": {\"colorbar\": {\"outlinewidth\": 0, \"ticks\": \"\"}}, \"type\": \"histogram\"}], \"histogram2d\": [{\"colorbar\": {\"outlinewidth\": 0, \"ticks\": \"\"}, \"colorscale\": [[0.0, \"#0d0887\"], [0.1111111111111111, \"#46039f\"], [0.2222222222222222, \"#7201a8\"], [0.3333333333333333, \"#9c179e\"], [0.4444444444444444, \"#bd3786\"], [0.5555555555555556, \"#d8576b\"], [0.6666666666666666, \"#ed7953\"], [0.7777777777777778, \"#fb9f3a\"], [0.8888888888888888, \"#fdca26\"], [1.0, \"#f0f921\"]], \"type\": \"histogram2d\"}], \"histogram2dcontour\": [{\"colorbar\": {\"outlinewidth\": 0, \"ticks\": \"\"}, \"colorscale\": [[0.0, \"#0d0887\"], [0.1111111111111111, \"#46039f\"], [0.2222222222222222, \"#7201a8\"], [0.3333333333333333, \"#9c179e\"], [0.4444444444444444, \"#bd3786\"], [0.5555555555555556, \"#d8576b\"], [0.6666666666666666, \"#ed7953\"], [0.7777777777777778, \"#fb9f3a\"], [0.8888888888888888, \"#fdca26\"], [1.0, \"#f0f921\"]], \"type\": \"histogram2dcontour\"}], \"mesh3d\": [{\"colorbar\": {\"outlinewidth\": 0, \"ticks\": \"\"}, \"type\": \"mesh3d\"}], \"parcoords\": [{\"line\": {\"colorbar\": {\"outlinewidth\": 0, \"ticks\": \"\"}}, \"type\": \"parcoords\"}], \"pie\": [{\"automargin\": true, \"type\": \"pie\"}], \"scatter\": [{\"marker\": {\"colorbar\": {\"outlinewidth\": 0, \"ticks\": \"\"}}, \"type\": \"scatter\"}], \"scatter3d\": [{\"line\": {\"colorbar\": {\"outlinewidth\": 0, \"ticks\": \"\"}}, \"marker\": {\"colorbar\": {\"outlinewidth\": 0, \"ticks\": \"\"}}, \"type\": \"scatter3d\"}], \"scattercarpet\": [{\"marker\": {\"colorbar\": {\"outlinewidth\": 0, \"ticks\": \"\"}}, \"type\": \"scattercarpet\"}], \"scattergeo\": [{\"marker\": {\"colorbar\": {\"outlinewidth\": 0, \"ticks\": \"\"}}, \"type\": \"scattergeo\"}], \"scattergl\": [{\"marker\": {\"colorbar\": {\"outlinewidth\": 0, \"ticks\": \"\"}}, \"type\": \"scattergl\"}], \"scattermapbox\": [{\"marker\": {\"colorbar\": {\"outlinewidth\": 0, \"ticks\": \"\"}}, \"type\": \"scattermapbox\"}], \"scatterpolar\": [{\"marker\": {\"colorbar\": {\"outlinewidth\": 0, \"ticks\": \"\"}}, \"type\": \"scatterpolar\"}], \"scatterpolargl\": [{\"marker\": {\"colorbar\": {\"outlinewidth\": 0, \"ticks\": \"\"}}, \"type\": \"scatterpolargl\"}], \"scatterternary\": [{\"marker\": {\"colorbar\": {\"outlinewidth\": 0, \"ticks\": \"\"}}, \"type\": \"scatterternary\"}], \"surface\": [{\"colorbar\": {\"outlinewidth\": 0, \"ticks\": \"\"}, \"colorscale\": [[0.0, \"#0d0887\"], [0.1111111111111111, \"#46039f\"], [0.2222222222222222, \"#7201a8\"], [0.3333333333333333, \"#9c179e\"], [0.4444444444444444, \"#bd3786\"], [0.5555555555555556, \"#d8576b\"], [0.6666666666666666, \"#ed7953\"], [0.7777777777777778, \"#fb9f3a\"], [0.8888888888888888, \"#fdca26\"], [1.0, \"#f0f921\"]], \"type\": \"surface\"}], \"table\": [{\"cells\": {\"fill\": {\"color\": \"#EBF0F8\"}, \"line\": {\"color\": \"white\"}}, \"header\": {\"fill\": {\"color\": \"#C8D4E3\"}, \"line\": {\"color\": \"white\"}}, \"type\": \"table\"}]}, \"layout\": {\"annotationdefaults\": {\"arrowcolor\": \"#2a3f5f\", \"arrowhead\": 0, \"arrowwidth\": 1}, \"autotypenumbers\": \"strict\", \"coloraxis\": {\"colorbar\": {\"outlinewidth\": 0, \"ticks\": \"\"}}, \"colorscale\": {\"diverging\": [[0, \"#8e0152\"], [0.1, \"#c51b7d\"], [0.2, \"#de77ae\"], [0.3, \"#f1b6da\"], [0.4, \"#fde0ef\"], [0.5, \"#f7f7f7\"], [0.6, \"#e6f5d0\"], [0.7, \"#b8e186\"], [0.8, \"#7fbc41\"], [0.9, \"#4d9221\"], [1, \"#276419\"]], \"sequential\": [[0.0, \"#0d0887\"], [0.1111111111111111, \"#46039f\"], [0.2222222222222222, \"#7201a8\"], [0.3333333333333333, \"#9c179e\"], [0.4444444444444444, \"#bd3786\"], [0.5555555555555556, \"#d8576b\"], [0.6666666666666666, \"#ed7953\"], [0.7777777777777778, \"#fb9f3a\"], [0.8888888888888888, \"#fdca26\"], [1.0, \"#f0f921\"]], \"sequentialminus\": [[0.0, \"#0d0887\"], [0.1111111111111111, \"#46039f\"], [0.2222222222222222, \"#7201a8\"], [0.3333333333333333, \"#9c179e\"], [0.4444444444444444, \"#bd3786\"], [0.5555555555555556, \"#d8576b\"], [0.6666666666666666, \"#ed7953\"], [0.7777777777777778, \"#fb9f3a\"], [0.8888888888888888, \"#fdca26\"], [1.0, \"#f0f921\"]]}, \"colorway\": [\"#636efa\", \"#EF553B\", \"#00cc96\", \"#ab63fa\", \"#FFA15A\", \"#19d3f3\", \"#FF6692\", \"#B6E880\", \"#FF97FF\", \"#FECB52\"], \"font\": {\"color\": \"#2a3f5f\"}, \"geo\": {\"bgcolor\": \"white\", \"lakecolor\": \"white\", \"landcolor\": \"#E5ECF6\", \"showlakes\": true, \"showland\": true, \"subunitcolor\": \"white\"}, \"hoverlabel\": {\"align\": \"left\"}, \"hovermode\": \"closest\", \"mapbox\": {\"style\": \"light\"}, \"paper_bgcolor\": \"white\", \"plot_bgcolor\": \"#E5ECF6\", \"polar\": {\"angularaxis\": {\"gridcolor\": \"white\", \"linecolor\": \"white\", \"ticks\": \"\"}, \"bgcolor\": \"#E5ECF6\", \"radialaxis\": {\"gridcolor\": \"white\", \"linecolor\": \"white\", \"ticks\": \"\"}}, \"scene\": {\"xaxis\": {\"backgroundcolor\": \"#E5ECF6\", \"gridcolor\": \"white\", \"gridwidth\": 2, \"linecolor\": \"white\", \"showbackground\": true, \"ticks\": \"\", \"zerolinecolor\": \"white\"}, \"yaxis\": {\"backgroundcolor\": \"#E5ECF6\", \"gridcolor\": \"white\", \"gridwidth\": 2, \"linecolor\": \"white\", \"showbackground\": true, \"ticks\": \"\", \"zerolinecolor\": \"white\"}, \"zaxis\": {\"backgroundcolor\": \"#E5ECF6\", \"gridcolor\": \"white\", \"gridwidth\": 2, \"linecolor\": \"white\", \"showbackground\": true, \"ticks\": \"\", \"zerolinecolor\": \"white\"}}, \"shapedefaults\": {\"line\": {\"color\": \"#2a3f5f\"}}, \"ternary\": {\"aaxis\": {\"gridcolor\": \"white\", \"linecolor\": \"white\", \"ticks\": \"\"}, \"baxis\": {\"gridcolor\": \"white\", \"linecolor\": \"white\", \"ticks\": \"\"}, \"bgcolor\": \"#E5ECF6\", \"caxis\": {\"gridcolor\": \"white\", \"linecolor\": \"white\", \"ticks\": \"\"}}, \"title\": {\"x\": 0.05}, \"xaxis\": {\"automargin\": true, \"gridcolor\": \"white\", \"linecolor\": \"white\", \"ticks\": \"\", \"title\": {\"standoff\": 15}, \"zerolinecolor\": \"white\", \"zerolinewidth\": 2}, \"yaxis\": {\"automargin\": true, \"gridcolor\": \"white\", \"linecolor\": \"white\", \"ticks\": \"\", \"title\": {\"standoff\": 15}, \"zerolinecolor\": \"white\", \"zerolinewidth\": 2}}}, \"title\": {\"text\": \"World Percentage in Immigration\"}},                        {\"responsive\": true}                    ).then(function(){\n",
       "                            \n",
       "var gd = document.getElementById('addbb424-9484-46aa-a9c0-56aba8ff9d9b');\n",
       "var x = new MutationObserver(function (mutations, observer) {{\n",
       "        var display = window.getComputedStyle(gd).display;\n",
       "        if (!display || display === 'none') {{\n",
       "            console.log([gd, 'removed!']);\n",
       "            Plotly.purge(gd);\n",
       "            observer.disconnect();\n",
       "        }}\n",
       "}});\n",
       "\n",
       "// Listen for the removal of the full notebook cells\n",
       "var notebookContainer = gd.closest('#notebook-container');\n",
       "if (notebookContainer) {{\n",
       "    x.observe(notebookContainer, {childList: true});\n",
       "}}\n",
       "\n",
       "// Listen for the clearing of the current output cell\n",
       "var outputEl = gd.closest('.output');\n",
       "if (outputEl) {{\n",
       "    x.observe(outputEl, {childList: true});\n",
       "}}\n",
       "\n",
       "                        })                };                });            </script>        </div>"
      ]
     },
     "metadata": {},
     "output_type": "display_data"
    }
   ],
   "source": [
    "map_data = dict(type = 'choropleth', locations = country.index, locationmode = 'country names', \n",
    "                z = country.Percentage, text=country.Region, colorscale= 'Reds', \n",
    "                marker = dict(line = dict(color='black', width=0.5)), colorbar = {'title':'Percentage'})\n",
    "layout = dict(title = 'World Percentage in Immigration', geo = dict(showframe = False, projection = {'type':'natural earth'}))\n",
    "choromap = go.Figure(data=map_data, layout=layout)\n",
    "iplot(choromap)"
   ]
  },
  {
   "cell_type": "markdown",
   "id": "appreciated-blake",
   "metadata": {
    "papermill": {
     "duration": 0.038378,
     "end_time": "2021-06-05T16:41:49.104950",
     "exception": false,
     "start_time": "2021-06-05T16:41:49.066572",
     "status": "completed"
    },
    "tags": []
   },
   "source": [
    "# Thank You!"
   ]
  }
 ],
 "metadata": {
  "kernelspec": {
   "display_name": "Python 3",
   "language": "python",
   "name": "python3"
  },
  "language_info": {
   "codemirror_mode": {
    "name": "ipython",
    "version": 3
   },
   "file_extension": ".py",
   "mimetype": "text/x-python",
   "name": "python",
   "nbconvert_exporter": "python",
   "pygments_lexer": "ipython3",
   "version": "3.7.9"
  },
  "papermill": {
   "default_parameters": {},
   "duration": 16.686423,
   "end_time": "2021-06-05T16:41:49.852743",
   "environment_variables": {},
   "exception": null,
   "input_path": "__notebook__.ipynb",
   "output_path": "__notebook__.ipynb",
   "parameters": {},
   "start_time": "2021-06-05T16:41:33.166320",
   "version": "2.3.2"
  }
 },
 "nbformat": 4,
 "nbformat_minor": 5
}
