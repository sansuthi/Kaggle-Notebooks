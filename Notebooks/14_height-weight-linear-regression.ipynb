{
 "cells": [
  {
   "cell_type": "code",
   "execution_count": 1,
   "id": "designing-accent",
   "metadata": {
    "execution": {
     "iopub.execute_input": "2021-06-06T17:10:55.846545Z",
     "iopub.status.busy": "2021-06-06T17:10:55.845772Z",
     "iopub.status.idle": "2021-06-06T17:10:55.849049Z",
     "shell.execute_reply": "2021-06-06T17:10:55.848326Z",
     "shell.execute_reply.started": "2021-06-06T17:09:57.318156Z"
    },
    "papermill": {
     "duration": 0.025701,
     "end_time": "2021-06-06T17:10:55.849257",
     "exception": false,
     "start_time": "2021-06-06T17:10:55.823556",
     "status": "completed"
    },
    "tags": []
   },
   "outputs": [],
   "source": [
    "# Importing Libraries\n",
    "import numpy as np\n",
    "import pandas as pd\n",
    "import matplotlib.pyplot as plt\n",
    "import warnings\n",
    "warnings.filterwarnings('ignore')\n",
    "plt.style.use('ggplot')"
   ]
  },
  {
   "cell_type": "code",
   "execution_count": 2,
   "id": "chubby-clarity",
   "metadata": {
    "execution": {
     "iopub.execute_input": "2021-06-06T17:10:55.882204Z",
     "iopub.status.busy": "2021-06-06T17:10:55.881449Z",
     "iopub.status.idle": "2021-06-06T17:10:55.925838Z",
     "shell.execute_reply": "2021-06-06T17:10:55.926351Z",
     "shell.execute_reply.started": "2021-06-06T17:09:57.325297Z"
    },
    "papermill": {
     "duration": 0.063318,
     "end_time": "2021-06-06T17:10:55.926552",
     "exception": false,
     "start_time": "2021-06-06T17:10:55.863234",
     "status": "completed"
    },
    "tags": []
   },
   "outputs": [
    {
     "data": {
      "text/html": [
       "<div>\n",
       "<style scoped>\n",
       "    .dataframe tbody tr th:only-of-type {\n",
       "        vertical-align: middle;\n",
       "    }\n",
       "\n",
       "    .dataframe tbody tr th {\n",
       "        vertical-align: top;\n",
       "    }\n",
       "\n",
       "    .dataframe thead th {\n",
       "        text-align: right;\n",
       "    }\n",
       "</style>\n",
       "<table border=\"1\" class=\"dataframe\">\n",
       "  <thead>\n",
       "    <tr style=\"text-align: right;\">\n",
       "      <th></th>\n",
       "      <th>Height</th>\n",
       "      <th>Weight</th>\n",
       "    </tr>\n",
       "  </thead>\n",
       "  <tbody>\n",
       "    <tr>\n",
       "      <th>0</th>\n",
       "      <td>1.47</td>\n",
       "      <td>52.21</td>\n",
       "    </tr>\n",
       "    <tr>\n",
       "      <th>1</th>\n",
       "      <td>1.50</td>\n",
       "      <td>53.12</td>\n",
       "    </tr>\n",
       "    <tr>\n",
       "      <th>2</th>\n",
       "      <td>1.52</td>\n",
       "      <td>54.48</td>\n",
       "    </tr>\n",
       "    <tr>\n",
       "      <th>3</th>\n",
       "      <td>1.55</td>\n",
       "      <td>55.84</td>\n",
       "    </tr>\n",
       "    <tr>\n",
       "      <th>4</th>\n",
       "      <td>1.57</td>\n",
       "      <td>57.20</td>\n",
       "    </tr>\n",
       "    <tr>\n",
       "      <th>5</th>\n",
       "      <td>1.60</td>\n",
       "      <td>58.57</td>\n",
       "    </tr>\n",
       "    <tr>\n",
       "      <th>6</th>\n",
       "      <td>1.63</td>\n",
       "      <td>59.93</td>\n",
       "    </tr>\n",
       "    <tr>\n",
       "      <th>7</th>\n",
       "      <td>1.65</td>\n",
       "      <td>61.29</td>\n",
       "    </tr>\n",
       "    <tr>\n",
       "      <th>8</th>\n",
       "      <td>1.68</td>\n",
       "      <td>63.11</td>\n",
       "    </tr>\n",
       "    <tr>\n",
       "      <th>9</th>\n",
       "      <td>1.70</td>\n",
       "      <td>64.47</td>\n",
       "    </tr>\n",
       "    <tr>\n",
       "      <th>10</th>\n",
       "      <td>1.73</td>\n",
       "      <td>66.28</td>\n",
       "    </tr>\n",
       "    <tr>\n",
       "      <th>11</th>\n",
       "      <td>1.75</td>\n",
       "      <td>68.10</td>\n",
       "    </tr>\n",
       "    <tr>\n",
       "      <th>12</th>\n",
       "      <td>1.78</td>\n",
       "      <td>69.92</td>\n",
       "    </tr>\n",
       "    <tr>\n",
       "      <th>13</th>\n",
       "      <td>1.80</td>\n",
       "      <td>72.19</td>\n",
       "    </tr>\n",
       "    <tr>\n",
       "      <th>14</th>\n",
       "      <td>1.83</td>\n",
       "      <td>74.46</td>\n",
       "    </tr>\n",
       "  </tbody>\n",
       "</table>\n",
       "</div>"
      ],
      "text/plain": [
       "    Height  Weight\n",
       "0     1.47   52.21\n",
       "1     1.50   53.12\n",
       "2     1.52   54.48\n",
       "3     1.55   55.84\n",
       "4     1.57   57.20\n",
       "5     1.60   58.57\n",
       "6     1.63   59.93\n",
       "7     1.65   61.29\n",
       "8     1.68   63.11\n",
       "9     1.70   64.47\n",
       "10    1.73   66.28\n",
       "11    1.75   68.10\n",
       "12    1.78   69.92\n",
       "13    1.80   72.19\n",
       "14    1.83   74.46"
      ]
     },
     "execution_count": 2,
     "metadata": {},
     "output_type": "execute_result"
    }
   ],
   "source": [
    "# Loading Data\n",
    "data = pd.read_csv('../input/heights-and-weights/data.csv')\n",
    "data"
   ]
  },
  {
   "cell_type": "code",
   "execution_count": 3,
   "id": "animated-hours",
   "metadata": {
    "execution": {
     "iopub.execute_input": "2021-06-06T17:10:55.958185Z",
     "iopub.status.busy": "2021-06-06T17:10:55.957463Z",
     "iopub.status.idle": "2021-06-06T17:10:55.962369Z",
     "shell.execute_reply": "2021-06-06T17:10:55.962885Z",
     "shell.execute_reply.started": "2021-06-06T17:09:57.352679Z"
    },
    "papermill": {
     "duration": 0.022428,
     "end_time": "2021-06-06T17:10:55.963107",
     "exception": false,
     "start_time": "2021-06-06T17:10:55.940679",
     "status": "completed"
    },
    "tags": []
   },
   "outputs": [
    {
     "data": {
      "text/plain": [
       "(15, 2)"
      ]
     },
     "execution_count": 3,
     "metadata": {},
     "output_type": "execute_result"
    }
   ],
   "source": [
    "data.shape"
   ]
  },
  {
   "cell_type": "code",
   "execution_count": 4,
   "id": "superb-oxygen",
   "metadata": {
    "execution": {
     "iopub.execute_input": "2021-06-06T17:10:55.995339Z",
     "iopub.status.busy": "2021-06-06T17:10:55.994655Z",
     "iopub.status.idle": "2021-06-06T17:10:56.006172Z",
     "shell.execute_reply": "2021-06-06T17:10:56.005567Z",
     "shell.execute_reply.started": "2021-06-06T17:09:57.361081Z"
    },
    "papermill": {
     "duration": 0.028663,
     "end_time": "2021-06-06T17:10:56.006356",
     "exception": false,
     "start_time": "2021-06-06T17:10:55.977693",
     "status": "completed"
    },
    "tags": []
   },
   "outputs": [
    {
     "data": {
      "text/html": [
       "<div>\n",
       "<style scoped>\n",
       "    .dataframe tbody tr th:only-of-type {\n",
       "        vertical-align: middle;\n",
       "    }\n",
       "\n",
       "    .dataframe tbody tr th {\n",
       "        vertical-align: top;\n",
       "    }\n",
       "\n",
       "    .dataframe thead th {\n",
       "        text-align: right;\n",
       "    }\n",
       "</style>\n",
       "<table border=\"1\" class=\"dataframe\">\n",
       "  <thead>\n",
       "    <tr style=\"text-align: right;\">\n",
       "      <th></th>\n",
       "      <th>Height</th>\n",
       "      <th>Weight</th>\n",
       "    </tr>\n",
       "  </thead>\n",
       "  <tbody>\n",
       "    <tr>\n",
       "      <th>Height</th>\n",
       "      <td>1.000000</td>\n",
       "      <td>0.994584</td>\n",
       "    </tr>\n",
       "    <tr>\n",
       "      <th>Weight</th>\n",
       "      <td>0.994584</td>\n",
       "      <td>1.000000</td>\n",
       "    </tr>\n",
       "  </tbody>\n",
       "</table>\n",
       "</div>"
      ],
      "text/plain": [
       "          Height    Weight\n",
       "Height  1.000000  0.994584\n",
       "Weight  0.994584  1.000000"
      ]
     },
     "execution_count": 4,
     "metadata": {},
     "output_type": "execute_result"
    }
   ],
   "source": [
    "# Correlation \n",
    "data.corr()"
   ]
  },
  {
   "cell_type": "code",
   "execution_count": 5,
   "id": "blocked-framing",
   "metadata": {
    "execution": {
     "iopub.execute_input": "2021-06-06T17:10:56.058758Z",
     "iopub.status.busy": "2021-06-06T17:10:56.057912Z",
     "iopub.status.idle": "2021-06-06T17:10:56.252214Z",
     "shell.execute_reply": "2021-06-06T17:10:56.252822Z",
     "shell.execute_reply.started": "2021-06-06T17:09:57.375986Z"
    },
    "papermill": {
     "duration": 0.231827,
     "end_time": "2021-06-06T17:10:56.253045",
     "exception": false,
     "start_time": "2021-06-06T17:10:56.021218",
     "status": "completed"
    },
    "tags": []
   },
   "outputs": [
    {
     "data": {
      "image/png": "[encoded data removed]",
      "text/plain": [
       "<Figure size 720x360 with 1 Axes>"
      ]
     },
     "metadata": {},
     "output_type": "display_data"
    }
   ],
   "source": [
    "# Plotting data distribution\n",
    "plt.figure(figsize=(10,5))\n",
    "plt.title('HEIGHT vs WEIGHT')\n",
    "plt.xlabel('Height', fontsize=15)\n",
    "plt.ylabel('Weight', fontsize=15)\n",
    "plt.scatter(data.Height, data.Weight, color='blue')\n",
    "plt.show()"
   ]
  },
  {
   "cell_type": "markdown",
   "id": "hybrid-month",
   "metadata": {
    "papermill": {
     "duration": 0.014933,
     "end_time": "2021-06-06T17:10:56.283701",
     "exception": false,
     "start_time": "2021-06-06T17:10:56.268768",
     "status": "completed"
    },
    "tags": []
   },
   "source": [
    "## Simple Linear Regression"
   ]
  },
  {
   "cell_type": "code",
   "execution_count": 6,
   "id": "durable-clearance",
   "metadata": {
    "execution": {
     "iopub.execute_input": "2021-06-06T17:10:56.321898Z",
     "iopub.status.busy": "2021-06-06T17:10:56.321186Z",
     "iopub.status.idle": "2021-06-06T17:10:57.536371Z",
     "shell.execute_reply": "2021-06-06T17:10:57.535789Z",
     "shell.execute_reply.started": "2021-06-06T17:09:57.534655Z"
    },
    "papermill": {
     "duration": 1.236208,
     "end_time": "2021-06-06T17:10:57.536549",
     "exception": false,
     "start_time": "2021-06-06T17:10:56.300341",
     "status": "completed"
    },
    "tags": []
   },
   "outputs": [],
   "source": [
    "from sklearn.model_selection import train_test_split\n",
    "from sklearn.linear_model import LinearRegression\n",
    "from sklearn import metrics"
   ]
  },
  {
   "cell_type": "code",
   "execution_count": 7,
   "id": "corporate-garlic",
   "metadata": {
    "execution": {
     "iopub.execute_input": "2021-06-06T17:10:57.584390Z",
     "iopub.status.busy": "2021-06-06T17:10:57.583669Z",
     "iopub.status.idle": "2021-06-06T17:10:57.586568Z",
     "shell.execute_reply": "2021-06-06T17:10:57.587069Z",
     "shell.execute_reply.started": "2021-06-06T17:09:57.542381Z"
    },
    "papermill": {
     "duration": 0.025807,
     "end_time": "2021-06-06T17:10:57.587299",
     "exception": false,
     "start_time": "2021-06-06T17:10:57.561492",
     "status": "completed"
    },
    "tags": []
   },
   "outputs": [],
   "source": [
    "X = data.iloc[:,:-1].values\n",
    "y = data.iloc[:,-1].values"
   ]
  },
  {
   "cell_type": "code",
   "execution_count": 8,
   "id": "indonesian-diana",
   "metadata": {
    "execution": {
     "iopub.execute_input": "2021-06-06T17:10:57.624341Z",
     "iopub.status.busy": "2021-06-06T17:10:57.623618Z",
     "iopub.status.idle": "2021-06-06T17:10:57.628986Z",
     "shell.execute_reply": "2021-06-06T17:10:57.629810Z",
     "shell.execute_reply.started": "2021-06-06T17:09:57.550790Z"
    },
    "papermill": {
     "duration": 0.027139,
     "end_time": "2021-06-06T17:10:57.630096",
     "exception": false,
     "start_time": "2021-06-06T17:10:57.602957",
     "status": "completed"
    },
    "tags": []
   },
   "outputs": [
    {
     "name": "stdout",
     "output_type": "stream",
     "text": [
      "X_train: (11, 1)\n",
      "X_test: (4, 1)\n",
      "y_train: (11,)\n",
      "y_test: (4,)\n"
     ]
    }
   ],
   "source": [
    "X_train, X_test, y_train, y_test = train_test_split(X, y, test_size=0.25, random_state=0)\n",
    "print(f'X_train: {X_train.shape}\\nX_test: {X_test.shape}\\ny_train: {y_train.shape}\\ny_test: {y_test.shape}')"
   ]
  },
  {
   "cell_type": "code",
   "execution_count": 9,
   "id": "interstate-kitty",
   "metadata": {
    "execution": {
     "iopub.execute_input": "2021-06-06T17:10:57.667452Z",
     "iopub.status.busy": "2021-06-06T17:10:57.666748Z",
     "iopub.status.idle": "2021-06-06T17:10:57.695429Z",
     "shell.execute_reply": "2021-06-06T17:10:57.694789Z",
     "shell.execute_reply.started": "2021-06-06T17:09:57.564314Z"
    },
    "papermill": {
     "duration": 0.047936,
     "end_time": "2021-06-06T17:10:57.695607",
     "exception": false,
     "start_time": "2021-06-06T17:10:57.647671",
     "status": "completed"
    },
    "tags": []
   },
   "outputs": [
    {
     "data": {
      "text/plain": [
       "LinearRegression()"
      ]
     },
     "execution_count": 9,
     "metadata": {},
     "output_type": "execute_result"
    }
   ],
   "source": [
    "regr = LinearRegression()\n",
    "regr.fit(X_train, y_train)"
   ]
  },
  {
   "cell_type": "code",
   "execution_count": 10,
   "id": "french-falls",
   "metadata": {
    "execution": {
     "iopub.execute_input": "2021-06-06T17:10:57.734242Z",
     "iopub.status.busy": "2021-06-06T17:10:57.733418Z",
     "iopub.status.idle": "2021-06-06T17:10:57.737779Z",
     "shell.execute_reply": "2021-06-06T17:10:57.737033Z",
     "shell.execute_reply.started": "2021-06-06T17:09:57.576458Z"
    },
    "papermill": {
     "duration": 0.025898,
     "end_time": "2021-06-06T17:10:57.737936",
     "exception": false,
     "start_time": "2021-06-06T17:10:57.712038",
     "status": "completed"
    },
    "tags": []
   },
   "outputs": [
    {
     "name": "stdout",
     "output_type": "stream",
     "text": [
      "Coefficient: [61.65610384]\n",
      "Intercept: -39.51671772684754\n"
     ]
    }
   ],
   "source": [
    "print(f'Coefficient: {regr.coef_}')\n",
    "print(f'Intercept: {regr.intercept_}')"
   ]
  },
  {
   "cell_type": "code",
   "execution_count": 11,
   "id": "specified-thriller",
   "metadata": {
    "execution": {
     "iopub.execute_input": "2021-06-06T17:10:57.802557Z",
     "iopub.status.busy": "2021-06-06T17:10:57.800203Z",
     "iopub.status.idle": "2021-06-06T17:10:57.951165Z",
     "shell.execute_reply": "2021-06-06T17:10:57.950632Z",
     "shell.execute_reply.started": "2021-06-06T17:09:57.586600Z"
    },
    "papermill": {
     "duration": 0.1969,
     "end_time": "2021-06-06T17:10:57.951317",
     "exception": false,
     "start_time": "2021-06-06T17:10:57.754417",
     "status": "completed"
    },
    "tags": []
   },
   "outputs": [
    {
     "data": {
      "image/png": "[encoded data removed]",
      "text/plain": [
       "<Figure size 720x360 with 1 Axes>"
      ]
     },
     "metadata": {},
     "output_type": "display_data"
    }
   ],
   "source": [
    "plt.figure(figsize=(10,5))\n",
    "plt.title('Regression Line on Training set')\n",
    "plt.xlabel('Height', fontsize=15)\n",
    "plt.ylabel('Weight', fontsize=15)\n",
    "plt.scatter(X_train, y_train,s=75, color='blue')\n",
    "plt.plot(X_train, regr.predict(X_train), color='red')\n",
    "plt.show()"
   ]
  },
  {
   "cell_type": "code",
   "execution_count": 12,
   "id": "prescribed-article",
   "metadata": {
    "execution": {
     "iopub.execute_input": "2021-06-06T17:10:57.999754Z",
     "iopub.status.busy": "2021-06-06T17:10:57.998941Z",
     "iopub.status.idle": "2021-06-06T17:10:58.003158Z",
     "shell.execute_reply": "2021-06-06T17:10:58.002444Z",
     "shell.execute_reply.started": "2021-06-06T17:09:57.750678Z"
    },
    "papermill": {
     "duration": 0.03459,
     "end_time": "2021-06-06T17:10:58.003335",
     "exception": false,
     "start_time": "2021-06-06T17:10:57.968745",
     "status": "completed"
    },
    "tags": []
   },
   "outputs": [
    {
     "data": {
      "text/html": [
       "<div>\n",
       "<style scoped>\n",
       "    .dataframe tbody tr th:only-of-type {\n",
       "        vertical-align: middle;\n",
       "    }\n",
       "\n",
       "    .dataframe tbody tr th {\n",
       "        vertical-align: top;\n",
       "    }\n",
       "\n",
       "    .dataframe thead th {\n",
       "        text-align: right;\n",
       "    }\n",
       "</style>\n",
       "<table border=\"1\" class=\"dataframe\">\n",
       "  <thead>\n",
       "    <tr style=\"text-align: right;\">\n",
       "      <th></th>\n",
       "      <th>Height</th>\n",
       "      <th>Actual Weight</th>\n",
       "      <th>Predicted Weight</th>\n",
       "    </tr>\n",
       "  </thead>\n",
       "  <tbody>\n",
       "    <tr>\n",
       "      <th>0</th>\n",
       "      <td>1.50</td>\n",
       "      <td>53.12</td>\n",
       "      <td>52.97</td>\n",
       "    </tr>\n",
       "    <tr>\n",
       "      <th>1</th>\n",
       "      <td>1.63</td>\n",
       "      <td>59.93</td>\n",
       "      <td>60.98</td>\n",
       "    </tr>\n",
       "    <tr>\n",
       "      <th>2</th>\n",
       "      <td>1.68</td>\n",
       "      <td>63.11</td>\n",
       "      <td>64.07</td>\n",
       "    </tr>\n",
       "    <tr>\n",
       "      <th>3</th>\n",
       "      <td>1.70</td>\n",
       "      <td>64.47</td>\n",
       "      <td>65.30</td>\n",
       "    </tr>\n",
       "  </tbody>\n",
       "</table>\n",
       "</div>"
      ],
      "text/plain": [
       "   Height  Actual Weight  Predicted Weight\n",
       "0    1.50          53.12             52.97\n",
       "1    1.63          59.93             60.98\n",
       "2    1.68          63.11             64.07\n",
       "3    1.70          64.47             65.30"
      ]
     },
     "execution_count": 12,
     "metadata": {},
     "output_type": "execute_result"
    }
   ],
   "source": [
    "y_pred = np.round(regr.predict(X_test), decimals=2)\n",
    "pd.DataFrame({'Height': X_test[:,0], 'Actual Weight': y_test, 'Predicted Weight': y_pred})"
   ]
  },
  {
   "cell_type": "code",
   "execution_count": 13,
   "id": "excessive-minneapolis",
   "metadata": {
    "execution": {
     "iopub.execute_input": "2021-06-06T17:10:58.046561Z",
     "iopub.status.busy": "2021-06-06T17:10:58.045794Z",
     "iopub.status.idle": "2021-06-06T17:10:58.221525Z",
     "shell.execute_reply": "2021-06-06T17:10:58.222002Z",
     "shell.execute_reply.started": "2021-06-06T17:09:57.764022Z"
    },
    "papermill": {
     "duration": 0.200601,
     "end_time": "2021-06-06T17:10:58.222246",
     "exception": false,
     "start_time": "2021-06-06T17:10:58.021645",
     "status": "completed"
    },
    "tags": []
   },
   "outputs": [
    {
     "data": {
      "image/png": "[encoded data removed]",
      "text/plain": [
       "<Figure size 720x360 with 1 Axes>"
      ]
     },
     "metadata": {},
     "output_type": "display_data"
    }
   ],
   "source": [
    "plt.figure(figsize=(10,5))\n",
    "plt.title('Regression Line on Testing set')\n",
    "plt.xlabel('Height', fontsize=15)\n",
    "plt.ylabel('Weight', fontsize=15)\n",
    "plt.scatter(X_test, y_test,s=75, color='red')\n",
    "plt.plot(X_test, y_pred, color='blue')\n",
    "plt.show()"
   ]
  },
  {
   "cell_type": "code",
   "execution_count": 14,
   "id": "mounted-prince",
   "metadata": {
    "execution": {
     "iopub.execute_input": "2021-06-06T17:10:58.265747Z",
     "iopub.status.busy": "2021-06-06T17:10:58.265045Z",
     "iopub.status.idle": "2021-06-06T17:10:58.273154Z",
     "shell.execute_reply": "2021-06-06T17:10:58.273903Z",
     "shell.execute_reply.started": "2021-06-06T17:09:57.940031Z"
    },
    "papermill": {
     "duration": 0.031579,
     "end_time": "2021-06-06T17:10:58.274176",
     "exception": false,
     "start_time": "2021-06-06T17:10:58.242597",
     "status": "completed"
    },
    "tags": []
   },
   "outputs": [
    {
     "name": "stdout",
     "output_type": "stream",
     "text": [
      "Mean Absolute Error(MAE): 0.747499999999997\n",
      "Residual Sum of Squares(MSE): 0.6838749999999947\n",
      "R2-Score: 0.9644246247142545\n"
     ]
    }
   ],
   "source": [
    "print(f'Mean Absolute Error(MAE): {metrics.mean_absolute_error(y_test, y_pred)}')\n",
    "print(f'Residual Sum of Squares(MSE): {metrics.mean_squared_error(y_test, y_pred)}')\n",
    "print(f'R2-Score: {metrics.r2_score(y_test, y_pred)}')"
   ]
  },
  {
   "cell_type": "markdown",
   "id": "reflected-wayne",
   "metadata": {
    "papermill": {
     "duration": 0.018557,
     "end_time": "2021-06-06T17:10:58.312407",
     "exception": false,
     "start_time": "2021-06-06T17:10:58.293850",
     "status": "completed"
    },
    "tags": []
   },
   "source": [
    "## Thank You!"
   ]
  }
 ],
 "metadata": {
  "kernelspec": {
   "display_name": "Python 3",
   "language": "python",
   "name": "python3"
  },
  "language_info": {
   "codemirror_mode": {
    "name": "ipython",
    "version": 3
   },
   "file_extension": ".py",
   "mimetype": "text/x-python",
   "name": "python",
   "nbconvert_exporter": "python",
   "pygments_lexer": "ipython3",
   "version": "3.7.9"
  },
  "papermill": {
   "default_parameters": {},
   "duration": 9.490457,
   "end_time": "2021-06-06T17:10:58.942883",
   "environment_variables": {},
   "exception": null,
   "input_path": "__notebook__.ipynb",
   "output_path": "__notebook__.ipynb",
   "parameters": {},
   "start_time": "2021-06-06T17:10:49.452426",
   "version": "2.3.2"
  }
 },
 "nbformat": 4,
 "nbformat_minor": 5
}
