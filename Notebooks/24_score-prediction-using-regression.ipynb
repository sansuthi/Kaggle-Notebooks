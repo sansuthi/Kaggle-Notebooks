{
 "cells": [
  {
   "cell_type": "markdown",
   "id": "promotional-israel",
   "metadata": {
    "papermill": {
     "duration": 0.014551,
     "end_time": "2021-06-28T13:33:19.785524",
     "exception": false,
     "start_time": "2021-06-28T13:33:19.770973",
     "status": "completed"
    },
    "tags": []
   },
   "source": [
    "![](https://studyabroad.shiksha.com/mediadata/images/articles/whats-your-score-picture-id1149909794.jpg)"
   ]
  },
  {
   "cell_type": "code",
   "execution_count": 1,
   "id": "undefined-solution",
   "metadata": {
    "_cell_guid": "b1076dfc-b9ad-4769-8c92-a6c4dae69d19",
    "_uuid": "8f2839f25d086af736a60e9eeb907d3b93b6e0e5",
    "execution": {
     "iopub.execute_input": "2021-06-28T13:33:19.817542Z",
     "iopub.status.busy": "2021-06-28T13:33:19.816986Z",
     "iopub.status.idle": "2021-06-28T13:33:20.733349Z",
     "shell.execute_reply": "2021-06-28T13:33:20.732701Z",
     "shell.execute_reply.started": "2021-06-28T13:32:24.859878Z"
    },
    "papermill": {
     "duration": 0.934086,
     "end_time": "2021-06-28T13:33:20.733510",
     "exception": false,
     "start_time": "2021-06-28T13:33:19.799424",
     "status": "completed"
    },
    "tags": []
   },
   "outputs": [],
   "source": [
    "# Importing Libraries\n",
    "import pandas as pd\n",
    "import seaborn as sns\n",
    "import matplotlib.pyplot as plt"
   ]
  },
  {
   "cell_type": "code",
   "execution_count": 2,
   "id": "amber-antibody",
   "metadata": {
    "execution": {
     "iopub.execute_input": "2021-06-28T13:33:20.767318Z",
     "iopub.status.busy": "2021-06-28T13:33:20.766675Z",
     "iopub.status.idle": "2021-06-28T13:33:20.813489Z",
     "shell.execute_reply": "2021-06-28T13:33:20.814009Z",
     "shell.execute_reply.started": "2021-06-28T13:32:24.867779Z"
    },
    "papermill": {
     "duration": 0.066588,
     "end_time": "2021-06-28T13:33:20.814168",
     "exception": false,
     "start_time": "2021-06-28T13:33:20.747580",
     "status": "completed"
    },
    "tags": []
   },
   "outputs": [
    {
     "data": {
      "text/html": [
       "<div>\n",
       "<style scoped>\n",
       "    .dataframe tbody tr th:only-of-type {\n",
       "        vertical-align: middle;\n",
       "    }\n",
       "\n",
       "    .dataframe tbody tr th {\n",
       "        vertical-align: top;\n",
       "    }\n",
       "\n",
       "    .dataframe thead th {\n",
       "        text-align: right;\n",
       "    }\n",
       "</style>\n",
       "<table border=\"1\" class=\"dataframe\">\n",
       "  <thead>\n",
       "    <tr style=\"text-align: right;\">\n",
       "      <th></th>\n",
       "      <th>Hours</th>\n",
       "      <th>Scores</th>\n",
       "    </tr>\n",
       "  </thead>\n",
       "  <tbody>\n",
       "    <tr>\n",
       "      <th>0</th>\n",
       "      <td>2.5</td>\n",
       "      <td>21</td>\n",
       "    </tr>\n",
       "    <tr>\n",
       "      <th>1</th>\n",
       "      <td>5.1</td>\n",
       "      <td>47</td>\n",
       "    </tr>\n",
       "    <tr>\n",
       "      <th>2</th>\n",
       "      <td>3.2</td>\n",
       "      <td>27</td>\n",
       "    </tr>\n",
       "    <tr>\n",
       "      <th>3</th>\n",
       "      <td>8.5</td>\n",
       "      <td>75</td>\n",
       "    </tr>\n",
       "    <tr>\n",
       "      <th>4</th>\n",
       "      <td>3.5</td>\n",
       "      <td>30</td>\n",
       "    </tr>\n",
       "    <tr>\n",
       "      <th>5</th>\n",
       "      <td>1.5</td>\n",
       "      <td>20</td>\n",
       "    </tr>\n",
       "    <tr>\n",
       "      <th>6</th>\n",
       "      <td>9.2</td>\n",
       "      <td>88</td>\n",
       "    </tr>\n",
       "    <tr>\n",
       "      <th>7</th>\n",
       "      <td>5.5</td>\n",
       "      <td>60</td>\n",
       "    </tr>\n",
       "    <tr>\n",
       "      <th>8</th>\n",
       "      <td>8.3</td>\n",
       "      <td>81</td>\n",
       "    </tr>\n",
       "    <tr>\n",
       "      <th>9</th>\n",
       "      <td>2.7</td>\n",
       "      <td>25</td>\n",
       "    </tr>\n",
       "    <tr>\n",
       "      <th>10</th>\n",
       "      <td>7.7</td>\n",
       "      <td>85</td>\n",
       "    </tr>\n",
       "    <tr>\n",
       "      <th>11</th>\n",
       "      <td>5.9</td>\n",
       "      <td>62</td>\n",
       "    </tr>\n",
       "    <tr>\n",
       "      <th>12</th>\n",
       "      <td>4.5</td>\n",
       "      <td>41</td>\n",
       "    </tr>\n",
       "    <tr>\n",
       "      <th>13</th>\n",
       "      <td>3.3</td>\n",
       "      <td>42</td>\n",
       "    </tr>\n",
       "    <tr>\n",
       "      <th>14</th>\n",
       "      <td>1.1</td>\n",
       "      <td>17</td>\n",
       "    </tr>\n",
       "    <tr>\n",
       "      <th>15</th>\n",
       "      <td>8.9</td>\n",
       "      <td>95</td>\n",
       "    </tr>\n",
       "    <tr>\n",
       "      <th>16</th>\n",
       "      <td>2.5</td>\n",
       "      <td>30</td>\n",
       "    </tr>\n",
       "    <tr>\n",
       "      <th>17</th>\n",
       "      <td>1.9</td>\n",
       "      <td>24</td>\n",
       "    </tr>\n",
       "    <tr>\n",
       "      <th>18</th>\n",
       "      <td>6.1</td>\n",
       "      <td>67</td>\n",
       "    </tr>\n",
       "    <tr>\n",
       "      <th>19</th>\n",
       "      <td>7.4</td>\n",
       "      <td>69</td>\n",
       "    </tr>\n",
       "    <tr>\n",
       "      <th>20</th>\n",
       "      <td>2.7</td>\n",
       "      <td>30</td>\n",
       "    </tr>\n",
       "    <tr>\n",
       "      <th>21</th>\n",
       "      <td>4.8</td>\n",
       "      <td>54</td>\n",
       "    </tr>\n",
       "    <tr>\n",
       "      <th>22</th>\n",
       "      <td>3.8</td>\n",
       "      <td>35</td>\n",
       "    </tr>\n",
       "    <tr>\n",
       "      <th>23</th>\n",
       "      <td>6.9</td>\n",
       "      <td>76</td>\n",
       "    </tr>\n",
       "    <tr>\n",
       "      <th>24</th>\n",
       "      <td>7.8</td>\n",
       "      <td>86</td>\n",
       "    </tr>\n",
       "    <tr>\n",
       "      <th>25</th>\n",
       "      <td>1.3</td>\n",
       "      <td>19</td>\n",
       "    </tr>\n",
       "    <tr>\n",
       "      <th>26</th>\n",
       "      <td>2.6</td>\n",
       "      <td>30</td>\n",
       "    </tr>\n",
       "    <tr>\n",
       "      <th>27</th>\n",
       "      <td>6.1</td>\n",
       "      <td>63</td>\n",
       "    </tr>\n",
       "  </tbody>\n",
       "</table>\n",
       "</div>"
      ],
      "text/plain": [
       "    Hours  Scores\n",
       "0     2.5      21\n",
       "1     5.1      47\n",
       "2     3.2      27\n",
       "3     8.5      75\n",
       "4     3.5      30\n",
       "5     1.5      20\n",
       "6     9.2      88\n",
       "7     5.5      60\n",
       "8     8.3      81\n",
       "9     2.7      25\n",
       "10    7.7      85\n",
       "11    5.9      62\n",
       "12    4.5      41\n",
       "13    3.3      42\n",
       "14    1.1      17\n",
       "15    8.9      95\n",
       "16    2.5      30\n",
       "17    1.9      24\n",
       "18    6.1      67\n",
       "19    7.4      69\n",
       "20    2.7      30\n",
       "21    4.8      54\n",
       "22    3.8      35\n",
       "23    6.9      76\n",
       "24    7.8      86\n",
       "25    1.3      19\n",
       "26    2.6      30\n",
       "27    6.1      63"
      ]
     },
     "execution_count": 2,
     "metadata": {},
     "output_type": "execute_result"
    }
   ],
   "source": [
    "# Loading data\n",
    "data = pd.read_csv('../input/student-study-hour-v2/Student Study Hour V2.csv')\n",
    "data"
   ]
  },
  {
   "cell_type": "code",
   "execution_count": 3,
   "id": "peaceful-action",
   "metadata": {
    "execution": {
     "iopub.execute_input": "2021-06-28T13:33:20.862058Z",
     "iopub.status.busy": "2021-06-28T13:33:20.861169Z",
     "iopub.status.idle": "2021-06-28T13:33:20.864100Z",
     "shell.execute_reply": "2021-06-28T13:33:20.864678Z",
     "shell.execute_reply.started": "2021-06-28T13:32:24.898492Z"
    },
    "papermill": {
     "duration": 0.036235,
     "end_time": "2021-06-28T13:33:20.864866",
     "exception": false,
     "start_time": "2021-06-28T13:33:20.828631",
     "status": "completed"
    },
    "tags": []
   },
   "outputs": [
    {
     "name": "stdout",
     "output_type": "stream",
     "text": [
      "<class 'pandas.core.frame.DataFrame'>\n",
      "RangeIndex: 28 entries, 0 to 27\n",
      "Data columns (total 2 columns):\n",
      " #   Column  Non-Null Count  Dtype  \n",
      "---  ------  --------------  -----  \n",
      " 0   Hours   28 non-null     float64\n",
      " 1   Scores  28 non-null     int64  \n",
      "dtypes: float64(1), int64(1)\n",
      "memory usage: 576.0 bytes\n"
     ]
    }
   ],
   "source": [
    "data.info()"
   ]
  },
  {
   "cell_type": "code",
   "execution_count": 4,
   "id": "intimate-correction",
   "metadata": {
    "execution": {
     "iopub.execute_input": "2021-06-28T13:33:20.903093Z",
     "iopub.status.busy": "2021-06-28T13:33:20.902447Z",
     "iopub.status.idle": "2021-06-28T13:33:20.906708Z",
     "shell.execute_reply": "2021-06-28T13:33:20.905692Z",
     "shell.execute_reply.started": "2021-06-28T13:32:24.939135Z"
    },
    "papermill": {
     "duration": 0.026452,
     "end_time": "2021-06-28T13:33:20.906969",
     "exception": false,
     "start_time": "2021-06-28T13:33:20.880517",
     "status": "completed"
    },
    "tags": []
   },
   "outputs": [
    {
     "data": {
      "text/plain": [
       "(28, 2)"
      ]
     },
     "execution_count": 4,
     "metadata": {},
     "output_type": "execute_result"
    }
   ],
   "source": [
    "# Structure of data\n",
    "data.shape"
   ]
  },
  {
   "cell_type": "code",
   "execution_count": 5,
   "id": "governmental-median",
   "metadata": {
    "execution": {
     "iopub.execute_input": "2021-06-28T13:33:20.948113Z",
     "iopub.status.busy": "2021-06-28T13:33:20.947513Z",
     "iopub.status.idle": "2021-06-28T13:33:20.966378Z",
     "shell.execute_reply": "2021-06-28T13:33:20.967411Z",
     "shell.execute_reply.started": "2021-06-28T13:32:24.950471Z"
    },
    "papermill": {
     "duration": 0.041094,
     "end_time": "2021-06-28T13:33:20.967605",
     "exception": false,
     "start_time": "2021-06-28T13:33:20.926511",
     "status": "completed"
    },
    "tags": []
   },
   "outputs": [
    {
     "data": {
      "text/html": [
       "<div>\n",
       "<style scoped>\n",
       "    .dataframe tbody tr th:only-of-type {\n",
       "        vertical-align: middle;\n",
       "    }\n",
       "\n",
       "    .dataframe tbody tr th {\n",
       "        vertical-align: top;\n",
       "    }\n",
       "\n",
       "    .dataframe thead th {\n",
       "        text-align: right;\n",
       "    }\n",
       "</style>\n",
       "<table border=\"1\" class=\"dataframe\">\n",
       "  <thead>\n",
       "    <tr style=\"text-align: right;\">\n",
       "      <th></th>\n",
       "      <th>count</th>\n",
       "      <th>mean</th>\n",
       "      <th>std</th>\n",
       "      <th>min</th>\n",
       "      <th>25%</th>\n",
       "      <th>50%</th>\n",
       "      <th>75%</th>\n",
       "      <th>max</th>\n",
       "    </tr>\n",
       "  </thead>\n",
       "  <tbody>\n",
       "    <tr>\n",
       "      <th>Hours</th>\n",
       "      <td>28.0</td>\n",
       "      <td>4.832143</td>\n",
       "      <td>2.530562</td>\n",
       "      <td>1.1</td>\n",
       "      <td>2.675</td>\n",
       "      <td>4.65</td>\n",
       "      <td>7.025</td>\n",
       "      <td>9.2</td>\n",
       "    </tr>\n",
       "    <tr>\n",
       "      <th>Scores</th>\n",
       "      <td>28.0</td>\n",
       "      <td>49.964286</td>\n",
       "      <td>25.041421</td>\n",
       "      <td>17.0</td>\n",
       "      <td>29.250</td>\n",
       "      <td>44.50</td>\n",
       "      <td>70.500</td>\n",
       "      <td>95.0</td>\n",
       "    </tr>\n",
       "  </tbody>\n",
       "</table>\n",
       "</div>"
      ],
      "text/plain": [
       "        count       mean        std   min     25%    50%     75%   max\n",
       "Hours    28.0   4.832143   2.530562   1.1   2.675   4.65   7.025   9.2\n",
       "Scores   28.0  49.964286  25.041421  17.0  29.250  44.50  70.500  95.0"
      ]
     },
     "execution_count": 5,
     "metadata": {},
     "output_type": "execute_result"
    }
   ],
   "source": [
    "# Detailed View of data\n",
    "data.describe().T"
   ]
  },
  {
   "cell_type": "code",
   "execution_count": 6,
   "id": "loaded-evidence",
   "metadata": {
    "execution": {
     "iopub.execute_input": "2021-06-28T13:33:21.002890Z",
     "iopub.status.busy": "2021-06-28T13:33:21.002130Z",
     "iopub.status.idle": "2021-06-28T13:33:21.494865Z",
     "shell.execute_reply": "2021-06-28T13:33:21.494429Z",
     "shell.execute_reply.started": "2021-06-28T13:32:24.979850Z"
    },
    "papermill": {
     "duration": 0.511513,
     "end_time": "2021-06-28T13:33:21.494999",
     "exception": false,
     "start_time": "2021-06-28T13:33:20.983486",
     "status": "completed"
    },
    "tags": []
   },
   "outputs": [
    {
     "data": {
      "image/png": "[encoded data removed]",
      "text/plain": [
       "<Figure size 432x432 with 3 Axes>"
      ]
     },
     "metadata": {
      "needs_background": "light"
     },
     "output_type": "display_data"
    }
   ],
   "source": [
    "sns.jointplot(data=data, s=200)\n",
    "plt.show()"
   ]
  },
  {
   "cell_type": "code",
   "execution_count": 7,
   "id": "recreational-writing",
   "metadata": {
    "execution": {
     "iopub.execute_input": "2021-06-28T13:33:21.532815Z",
     "iopub.status.busy": "2021-06-28T13:33:21.532206Z",
     "iopub.status.idle": "2021-06-28T13:33:21.610059Z",
     "shell.execute_reply": "2021-06-28T13:33:21.610565Z",
     "shell.execute_reply.started": "2021-06-28T13:32:25.486538Z"
    },
    "papermill": {
     "duration": 0.099887,
     "end_time": "2021-06-28T13:33:21.610750",
     "exception": false,
     "start_time": "2021-06-28T13:33:21.510863",
     "status": "completed"
    },
    "tags": []
   },
   "outputs": [
    {
     "data": {
      "image/png": "[encoded data removed]",
      "text/plain": [
       "<Figure size 360x360 with 1 Axes>"
      ]
     },
     "metadata": {
      "needs_background": "light"
     },
     "output_type": "display_data"
    }
   ],
   "source": [
    "# Correlation of data\n",
    "plt.figure(figsize=(5,5))\n",
    "sns.heatmap(data.corr(), cbar=False, annot=True, annot_kws={'fontsize':20})\n",
    "plt.show()"
   ]
  },
  {
   "cell_type": "code",
   "execution_count": 8,
   "id": "alike-stockholm",
   "metadata": {
    "execution": {
     "iopub.execute_input": "2021-06-28T13:33:21.669398Z",
     "iopub.status.busy": "2021-06-28T13:33:21.668534Z",
     "iopub.status.idle": "2021-06-28T13:33:22.396982Z",
     "shell.execute_reply": "2021-06-28T13:33:22.397415Z",
     "shell.execute_reply.started": "2021-06-28T13:32:25.590501Z"
    },
    "papermill": {
     "duration": 0.764208,
     "end_time": "2021-06-28T13:33:22.397605",
     "exception": false,
     "start_time": "2021-06-28T13:33:21.633397",
     "status": "completed"
    },
    "tags": []
   },
   "outputs": [
    {
     "data": {
      "image/png": "[encoded data removed]",
      "text/plain": [
       "<Figure size 360x360 with 6 Axes>"
      ]
     },
     "metadata": {
      "needs_background": "light"
     },
     "output_type": "display_data"
    }
   ],
   "source": [
    "sns.pairplot(data)\n",
    "plt.show()"
   ]
  },
  {
   "cell_type": "code",
   "execution_count": 9,
   "id": "returning-factory",
   "metadata": {
    "execution": {
     "iopub.execute_input": "2021-06-28T13:33:22.435752Z",
     "iopub.status.busy": "2021-06-28T13:33:22.435145Z",
     "iopub.status.idle": "2021-06-28T13:33:22.543928Z",
     "shell.execute_reply": "2021-06-28T13:33:22.544360Z",
     "shell.execute_reply.started": "2021-06-28T13:32:26.429170Z"
    },
    "papermill": {
     "duration": 0.129665,
     "end_time": "2021-06-28T13:33:22.544599",
     "exception": false,
     "start_time": "2021-06-28T13:33:22.414934",
     "status": "completed"
    },
    "tags": []
   },
   "outputs": [
    {
     "data": {
      "image/png": "[encoded data removed]",
      "text/plain": [
       "<Figure size 288x360 with 1 Axes>"
      ]
     },
     "metadata": {
      "needs_background": "light"
     },
     "output_type": "display_data"
    }
   ],
   "source": [
    "plt.figure(figsize=(4,5))\n",
    "sns.boxplot(data=data)\n",
    "sns.stripplot(data=data, s=7)\n",
    "plt.show()"
   ]
  },
  {
   "cell_type": "code",
   "execution_count": 10,
   "id": "absent-muscle",
   "metadata": {
    "execution": {
     "iopub.execute_input": "2021-06-28T13:33:22.584341Z",
     "iopub.status.busy": "2021-06-28T13:33:22.583749Z",
     "iopub.status.idle": "2021-06-28T13:33:22.751173Z",
     "shell.execute_reply": "2021-06-28T13:33:22.750720Z",
     "shell.execute_reply.started": "2021-06-28T13:32:26.565395Z"
    },
    "papermill": {
     "duration": 0.188442,
     "end_time": "2021-06-28T13:33:22.751330",
     "exception": false,
     "start_time": "2021-06-28T13:33:22.562888",
     "status": "completed"
    },
    "tags": []
   },
   "outputs": [
    {
     "data": {
      "image/png": "[encoded data removed]",
      "text/plain": [
       "<Figure size 720x360 with 1 Axes>"
      ]
     },
     "metadata": {
      "needs_background": "light"
     },
     "output_type": "display_data"
    }
   ],
   "source": [
    "# Plotting data distribution\n",
    "plt.figure(figsize=(10,5))\n",
    "plt.title('HOURS vs SCORE')\n",
    "plt.xlabel('Hours', fontsize=15)\n",
    "plt.ylabel('Score', fontsize=15)\n",
    "plt.scatter(data.Hours, data.Scores, s=100)\n",
    "plt.show()"
   ]
  },
  {
   "cell_type": "markdown",
   "id": "indonesian-charter",
   "metadata": {
    "papermill": {
     "duration": 0.018682,
     "end_time": "2021-06-28T13:33:22.788694",
     "exception": false,
     "start_time": "2021-06-28T13:33:22.770012",
     "status": "completed"
    },
    "tags": []
   },
   "source": [
    "## Simple Linear Regression"
   ]
  },
  {
   "cell_type": "code",
   "execution_count": 11,
   "id": "uniform-alpha",
   "metadata": {
    "execution": {
     "iopub.execute_input": "2021-06-28T13:33:22.830670Z",
     "iopub.status.busy": "2021-06-28T13:33:22.830015Z",
     "iopub.status.idle": "2021-06-28T13:33:23.280922Z",
     "shell.execute_reply": "2021-06-28T13:33:23.280242Z",
     "shell.execute_reply.started": "2021-06-28T13:32:26.741106Z"
    },
    "papermill": {
     "duration": 0.473829,
     "end_time": "2021-06-28T13:33:23.281063",
     "exception": false,
     "start_time": "2021-06-28T13:33:22.807234",
     "status": "completed"
    },
    "tags": []
   },
   "outputs": [],
   "source": [
    "# importing Libraries\n",
    "from sklearn.linear_model import LinearRegression\n",
    "from sklearn.model_selection import train_test_split"
   ]
  },
  {
   "cell_type": "code",
   "execution_count": 12,
   "id": "mediterranean-vintage",
   "metadata": {
    "execution": {
     "iopub.execute_input": "2021-06-28T13:33:23.325701Z",
     "iopub.status.busy": "2021-06-28T13:33:23.324803Z",
     "iopub.status.idle": "2021-06-28T13:33:23.332530Z",
     "shell.execute_reply": "2021-06-28T13:33:23.331952Z",
     "shell.execute_reply.started": "2021-06-28T13:32:26.747133Z"
    },
    "papermill": {
     "duration": 0.03263,
     "end_time": "2021-06-28T13:33:23.332674",
     "exception": false,
     "start_time": "2021-06-28T13:33:23.300044",
     "status": "completed"
    },
    "tags": []
   },
   "outputs": [
    {
     "name": "stdout",
     "output_type": "stream",
     "text": [
      "X: (28, 1)\n",
      "y: (28,)\n"
     ]
    }
   ],
   "source": [
    "# Predictor & Target\n",
    "X = data.iloc[:,:-1].values\n",
    "y = data.iloc[:,-1].values\n",
    "print('X:', X.shape)\n",
    "print('y:', y.shape)"
   ]
  },
  {
   "cell_type": "code",
   "execution_count": 13,
   "id": "balanced-macintosh",
   "metadata": {
    "execution": {
     "iopub.execute_input": "2021-06-28T13:33:23.375789Z",
     "iopub.status.busy": "2021-06-28T13:33:23.375129Z",
     "iopub.status.idle": "2021-06-28T13:33:23.377871Z",
     "shell.execute_reply": "2021-06-28T13:33:23.377314Z",
     "shell.execute_reply.started": "2021-06-28T13:32:26.762866Z"
    },
    "papermill": {
     "duration": 0.026666,
     "end_time": "2021-06-28T13:33:23.378001",
     "exception": false,
     "start_time": "2021-06-28T13:33:23.351335",
     "status": "completed"
    },
    "tags": []
   },
   "outputs": [],
   "source": [
    "# Spliting into training set and testing set\n",
    "X_train, X_test, y_train, y_test = train_test_split(X, y, test_size=0.2, random_state=0)"
   ]
  },
  {
   "cell_type": "code",
   "execution_count": 14,
   "id": "fitting-planet",
   "metadata": {
    "execution": {
     "iopub.execute_input": "2021-06-28T13:33:23.421167Z",
     "iopub.status.busy": "2021-06-28T13:33:23.420132Z",
     "iopub.status.idle": "2021-06-28T13:33:23.424794Z",
     "shell.execute_reply": "2021-06-28T13:33:23.425224Z",
     "shell.execute_reply.started": "2021-06-28T13:32:26.775368Z"
    },
    "papermill": {
     "duration": 0.028538,
     "end_time": "2021-06-28T13:33:23.425390",
     "exception": false,
     "start_time": "2021-06-28T13:33:23.396852",
     "status": "completed"
    },
    "tags": []
   },
   "outputs": [
    {
     "name": "stdout",
     "output_type": "stream",
     "text": [
      "X_train: (22, 1)\n",
      "X_test: (6, 1)\n",
      "y_train: (22,)\n",
      "y_test: (6,)\n"
     ]
    }
   ],
   "source": [
    "# Structure of each set in Train & Test data\n",
    "print('X_train:', X_train.shape)\n",
    "print('X_test:', X_test.shape)\n",
    "print('y_train:', y_train.shape)\n",
    "print('y_test:', y_test.shape)"
   ]
  },
  {
   "cell_type": "code",
   "execution_count": 15,
   "id": "three-mercy",
   "metadata": {
    "execution": {
     "iopub.execute_input": "2021-06-28T13:33:23.475464Z",
     "iopub.status.busy": "2021-06-28T13:33:23.474860Z",
     "iopub.status.idle": "2021-06-28T13:33:23.480393Z",
     "shell.execute_reply": "2021-06-28T13:33:23.479741Z",
     "shell.execute_reply.started": "2021-06-28T13:32:26.790873Z"
    },
    "papermill": {
     "duration": 0.03634,
     "end_time": "2021-06-28T13:33:23.480631",
     "exception": false,
     "start_time": "2021-06-28T13:33:23.444291",
     "status": "completed"
    },
    "tags": []
   },
   "outputs": [
    {
     "data": {
      "text/plain": [
       "LinearRegression()"
      ]
     },
     "execution_count": 15,
     "metadata": {},
     "output_type": "execute_result"
    }
   ],
   "source": [
    "# Modeling & Fitting\n",
    "lreg = LinearRegression()\n",
    "lreg.fit(X_train, y_train)"
   ]
  },
  {
   "cell_type": "code",
   "execution_count": 16,
   "id": "honest-thomson",
   "metadata": {
    "execution": {
     "iopub.execute_input": "2021-06-28T13:33:23.523781Z",
     "iopub.status.busy": "2021-06-28T13:33:23.523157Z",
     "iopub.status.idle": "2021-06-28T13:33:23.528122Z",
     "shell.execute_reply": "2021-06-28T13:33:23.527604Z",
     "shell.execute_reply.started": "2021-06-28T13:32:26.807235Z"
    },
    "papermill": {
     "duration": 0.028372,
     "end_time": "2021-06-28T13:33:23.528286",
     "exception": false,
     "start_time": "2021-06-28T13:33:23.499914",
     "status": "completed"
    },
    "tags": []
   },
   "outputs": [
    {
     "name": "stdout",
     "output_type": "stream",
     "text": [
      "Coefficient: [9.72743538]\n",
      "Intercept: 3.0516076458395958\n"
     ]
    }
   ],
   "source": [
    "# Coefficient & Intercept\n",
    "print('Coefficient:', lreg.coef_)\n",
    "print('Intercept:', lreg.intercept_)"
   ]
  },
  {
   "cell_type": "code",
   "execution_count": 17,
   "id": "negative-quantity",
   "metadata": {
    "execution": {
     "iopub.execute_input": "2021-06-28T13:33:23.572101Z",
     "iopub.status.busy": "2021-06-28T13:33:23.571268Z",
     "iopub.status.idle": "2021-06-28T13:33:23.574948Z",
     "shell.execute_reply": "2021-06-28T13:33:23.574312Z",
     "shell.execute_reply.started": "2021-06-28T13:32:26.817237Z"
    },
    "papermill": {
     "duration": 0.02738,
     "end_time": "2021-06-28T13:33:23.575103",
     "exception": false,
     "start_time": "2021-06-28T13:33:23.547723",
     "status": "completed"
    },
    "tags": []
   },
   "outputs": [],
   "source": [
    "# Making Predictions\n",
    "y_pred = lreg.predict(X_test).astype(int)"
   ]
  },
  {
   "cell_type": "code",
   "execution_count": 18,
   "id": "lucky-bronze",
   "metadata": {
    "execution": {
     "iopub.execute_input": "2021-06-28T13:33:23.642060Z",
     "iopub.status.busy": "2021-06-28T13:33:23.639609Z",
     "iopub.status.idle": "2021-06-28T13:33:23.822068Z",
     "shell.execute_reply": "2021-06-28T13:33:23.821584Z",
     "shell.execute_reply.started": "2021-06-28T13:32:26.830988Z"
    },
    "papermill": {
     "duration": 0.225911,
     "end_time": "2021-06-28T13:33:23.822229",
     "exception": false,
     "start_time": "2021-06-28T13:33:23.596318",
     "status": "completed"
    },
    "tags": []
   },
   "outputs": [
    {
     "data": {
      "image/png": "[encoded data removed]",
      "text/plain": [
       "<Figure size 720x360 with 1 Axes>"
      ]
     },
     "metadata": {
      "needs_background": "light"
     },
     "output_type": "display_data"
    }
   ],
   "source": [
    "# Plotting Regression Line \n",
    "plt.figure(figsize=(10, 5))\n",
    "plt.xlabel('Hours', fontsize=15)\n",
    "plt.ylabel('Score', fontsize=15)\n",
    "plt.scatter(X_train, y_train, s=100, color='blue')\n",
    "plt.scatter(X_test, y_test, s=100, color='green')\n",
    "plt.plot(X, lreg.predict(X), color='red')\n",
    "plt.legend(['Regression Line','Training Set', 'Testing Set'])\n",
    "plt.show()"
   ]
  },
  {
   "cell_type": "code",
   "execution_count": 19,
   "id": "amino-junction",
   "metadata": {
    "execution": {
     "iopub.execute_input": "2021-06-28T13:33:23.871665Z",
     "iopub.status.busy": "2021-06-28T13:33:23.870760Z",
     "iopub.status.idle": "2021-06-28T13:33:23.874495Z",
     "shell.execute_reply": "2021-06-28T13:33:23.874863Z",
     "shell.execute_reply.started": "2021-06-28T13:32:27.077759Z"
    },
    "papermill": {
     "duration": 0.032241,
     "end_time": "2021-06-28T13:33:23.875054",
     "exception": false,
     "start_time": "2021-06-28T13:33:23.842813",
     "status": "completed"
    },
    "tags": []
   },
   "outputs": [
    {
     "data": {
      "text/html": [
       "<div>\n",
       "<style scoped>\n",
       "    .dataframe tbody tr th:only-of-type {\n",
       "        vertical-align: middle;\n",
       "    }\n",
       "\n",
       "    .dataframe tbody tr th {\n",
       "        vertical-align: top;\n",
       "    }\n",
       "\n",
       "    .dataframe thead th {\n",
       "        text-align: right;\n",
       "    }\n",
       "</style>\n",
       "<table border=\"1\" class=\"dataframe\">\n",
       "  <thead>\n",
       "    <tr style=\"text-align: right;\">\n",
       "      <th></th>\n",
       "      <th>Actual Score</th>\n",
       "      <th>Predicted Score</th>\n",
       "    </tr>\n",
       "  </thead>\n",
       "  <tbody>\n",
       "    <tr>\n",
       "      <th>0</th>\n",
       "      <td>27</td>\n",
       "      <td>34</td>\n",
       "    </tr>\n",
       "    <tr>\n",
       "      <th>1</th>\n",
       "      <td>35</td>\n",
       "      <td>40</td>\n",
       "    </tr>\n",
       "    <tr>\n",
       "      <th>2</th>\n",
       "      <td>17</td>\n",
       "      <td>13</td>\n",
       "    </tr>\n",
       "    <tr>\n",
       "      <th>3</th>\n",
       "      <td>24</td>\n",
       "      <td>21</td>\n",
       "    </tr>\n",
       "    <tr>\n",
       "      <th>4</th>\n",
       "      <td>20</td>\n",
       "      <td>17</td>\n",
       "    </tr>\n",
       "    <tr>\n",
       "      <th>5</th>\n",
       "      <td>62</td>\n",
       "      <td>60</td>\n",
       "    </tr>\n",
       "  </tbody>\n",
       "</table>\n",
       "</div>"
      ],
      "text/plain": [
       "   Actual Score  Predicted Score\n",
       "0            27               34\n",
       "1            35               40\n",
       "2            17               13\n",
       "3            24               21\n",
       "4            20               17\n",
       "5            62               60"
      ]
     },
     "execution_count": 19,
     "metadata": {},
     "output_type": "execute_result"
    }
   ],
   "source": [
    "prediction = pd.DataFrame({'Actual Score': y_test, 'Predicted Score': y_pred})\n",
    "prediction"
   ]
  },
  {
   "cell_type": "code",
   "execution_count": 20,
   "id": "religious-cutting",
   "metadata": {
    "execution": {
     "iopub.execute_input": "2021-06-28T13:33:23.922022Z",
     "iopub.status.busy": "2021-06-28T13:33:23.921320Z",
     "iopub.status.idle": "2021-06-28T13:33:24.100007Z",
     "shell.execute_reply": "2021-06-28T13:33:24.099509Z",
     "shell.execute_reply.started": "2021-06-28T13:32:27.089448Z"
    },
    "papermill": {
     "duration": 0.203927,
     "end_time": "2021-06-28T13:33:24.100145",
     "exception": false,
     "start_time": "2021-06-28T13:33:23.896218",
     "status": "completed"
    },
    "tags": []
   },
   "outputs": [
    {
     "data": {
      "image/png": "[encoded data removed]",
      "text/plain": [
       "<Figure size 720x504 with 1 Axes>"
      ]
     },
     "metadata": {
      "needs_background": "light"
     },
     "output_type": "display_data"
    }
   ],
   "source": [
    "prediction.plot(kind='bar', figsize=(10,7))\n",
    "plt.title('Actual Score vs Predicted Score', fontsize=20)\n",
    "plt.xlabel('Index', fontsize=15)\n",
    "plt.ylabel('Score', fontsize=15)\n",
    "plt.show()"
   ]
  },
  {
   "cell_type": "code",
   "execution_count": 21,
   "id": "eight-sending",
   "metadata": {
    "execution": {
     "iopub.execute_input": "2021-06-28T13:33:24.148854Z",
     "iopub.status.busy": "2021-06-28T13:33:24.148297Z",
     "iopub.status.idle": "2021-06-28T13:33:24.151491Z",
     "shell.execute_reply": "2021-06-28T13:33:24.150886Z",
     "shell.execute_reply.started": "2021-06-28T13:32:27.489068Z"
    },
    "papermill": {
     "duration": 0.029543,
     "end_time": "2021-06-28T13:33:24.151622",
     "exception": false,
     "start_time": "2021-06-28T13:33:24.122079",
     "status": "completed"
    },
    "tags": []
   },
   "outputs": [
    {
     "name": "stdout",
     "output_type": "stream",
     "text": [
      "Mean Absolute Error(MAE): 4.0\n",
      "Residual Sum of Squares(MSE): 18.666666666666668\n",
      "R2-Score: 0.9175763522629707\n"
     ]
    }
   ],
   "source": [
    "# Evaluating the model\n",
    "from sklearn.metrics import mean_absolute_error, mean_squared_error, r2_score\n",
    "print(f'Mean Absolute Error(MAE): {mean_absolute_error(y_test, y_pred)}')\n",
    "print(f'Residual Sum of Squares(MSE): {mean_squared_error(y_test, y_pred)}')\n",
    "print(f'R2-Score: {r2_score(y_test, y_pred)}')"
   ]
  },
  {
   "cell_type": "markdown",
   "id": "thrown-proxy",
   "metadata": {
    "papermill": {
     "duration": 0.020831,
     "end_time": "2021-06-28T13:33:24.193626",
     "exception": false,
     "start_time": "2021-06-28T13:33:24.172795",
     "status": "completed"
    },
    "tags": []
   },
   "source": [
    "## Thank You!"
   ]
  }
 ],
 "metadata": {
  "kernelspec": {
   "display_name": "Python 3",
   "language": "python",
   "name": "python3"
  },
  "language_info": {
   "codemirror_mode": {
    "name": "ipython",
    "version": 3
   },
   "file_extension": ".py",
   "mimetype": "text/x-python",
   "name": "python",
   "nbconvert_exporter": "python",
   "pygments_lexer": "ipython3",
   "version": "3.7.9"
  },
  "papermill": {
   "default_parameters": {},
   "duration": 10.611732,
   "end_time": "2021-06-28T13:33:24.924325",
   "environment_variables": {},
   "exception": null,
   "input_path": "__notebook__.ipynb",
   "output_path": "__notebook__.ipynb",
   "parameters": {},
   "start_time": "2021-06-28T13:33:14.312593",
   "version": "2.3.2"
  }
 },
 "nbformat": 4,
 "nbformat_minor": 5
}
