{
 "cells": [
  {
   "cell_type": "code",
   "execution_count": 1,
   "id": "spread-combining",
   "metadata": {
    "execution": {
     "iopub.execute_input": "2021-06-06T16:28:52.212239Z",
     "iopub.status.busy": "2021-06-06T16:28:52.211689Z",
     "iopub.status.idle": "2021-06-06T16:28:52.215109Z",
     "shell.execute_reply": "2021-06-06T16:28:52.214566Z",
     "shell.execute_reply.started": "2021-06-06T16:27:13.424527Z"
    },
    "papermill": {
     "duration": 0.020246,
     "end_time": "2021-06-06T16:28:52.215258",
     "exception": false,
     "start_time": "2021-06-06T16:28:52.195012",
     "status": "completed"
    },
    "tags": []
   },
   "outputs": [],
   "source": [
    "# Importing Libraries\n",
    "import pandas as pd\n",
    "import numpy as np\n",
    "import matplotlib.pyplot as plt\n",
    "import warnings\n",
    "warnings.filterwarnings('ignore')\n",
    "plt.style.use('ggplot')"
   ]
  },
  {
   "cell_type": "code",
   "execution_count": 2,
   "id": "convertible-salon",
   "metadata": {
    "execution": {
     "iopub.execute_input": "2021-06-06T16:28:52.239664Z",
     "iopub.status.busy": "2021-06-06T16:28:52.239090Z",
     "iopub.status.idle": "2021-06-06T16:28:52.276979Z",
     "shell.execute_reply": "2021-06-06T16:28:52.276389Z",
     "shell.execute_reply.started": "2021-06-06T16:27:13.432481Z"
    },
    "papermill": {
     "duration": 0.051829,
     "end_time": "2021-06-06T16:28:52.277118",
     "exception": false,
     "start_time": "2021-06-06T16:28:52.225289",
     "status": "completed"
    },
    "tags": []
   },
   "outputs": [
    {
     "data": {
      "text/html": [
       "<div>\n",
       "<style scoped>\n",
       "    .dataframe tbody tr th:only-of-type {\n",
       "        vertical-align: middle;\n",
       "    }\n",
       "\n",
       "    .dataframe tbody tr th {\n",
       "        vertical-align: top;\n",
       "    }\n",
       "\n",
       "    .dataframe thead th {\n",
       "        text-align: right;\n",
       "    }\n",
       "</style>\n",
       "<table border=\"1\" class=\"dataframe\">\n",
       "  <thead>\n",
       "    <tr style=\"text-align: right;\">\n",
       "      <th></th>\n",
       "      <th>SAT</th>\n",
       "      <th>GPA</th>\n",
       "    </tr>\n",
       "  </thead>\n",
       "  <tbody>\n",
       "    <tr>\n",
       "      <th>0</th>\n",
       "      <td>1714</td>\n",
       "      <td>2.40</td>\n",
       "    </tr>\n",
       "    <tr>\n",
       "      <th>1</th>\n",
       "      <td>1664</td>\n",
       "      <td>2.52</td>\n",
       "    </tr>\n",
       "    <tr>\n",
       "      <th>2</th>\n",
       "      <td>1760</td>\n",
       "      <td>2.54</td>\n",
       "    </tr>\n",
       "    <tr>\n",
       "      <th>3</th>\n",
       "      <td>1685</td>\n",
       "      <td>2.74</td>\n",
       "    </tr>\n",
       "    <tr>\n",
       "      <th>4</th>\n",
       "      <td>1693</td>\n",
       "      <td>2.83</td>\n",
       "    </tr>\n",
       "    <tr>\n",
       "      <th>...</th>\n",
       "      <td>...</td>\n",
       "      <td>...</td>\n",
       "    </tr>\n",
       "    <tr>\n",
       "      <th>79</th>\n",
       "      <td>1936</td>\n",
       "      <td>3.71</td>\n",
       "    </tr>\n",
       "    <tr>\n",
       "      <th>80</th>\n",
       "      <td>1810</td>\n",
       "      <td>3.71</td>\n",
       "    </tr>\n",
       "    <tr>\n",
       "      <th>81</th>\n",
       "      <td>1987</td>\n",
       "      <td>3.73</td>\n",
       "    </tr>\n",
       "    <tr>\n",
       "      <th>82</th>\n",
       "      <td>1962</td>\n",
       "      <td>3.76</td>\n",
       "    </tr>\n",
       "    <tr>\n",
       "      <th>83</th>\n",
       "      <td>2050</td>\n",
       "      <td>3.81</td>\n",
       "    </tr>\n",
       "  </tbody>\n",
       "</table>\n",
       "<p>84 rows × 2 columns</p>\n",
       "</div>"
      ],
      "text/plain": [
       "     SAT   GPA\n",
       "0   1714  2.40\n",
       "1   1664  2.52\n",
       "2   1760  2.54\n",
       "3   1685  2.74\n",
       "4   1693  2.83\n",
       "..   ...   ...\n",
       "79  1936  3.71\n",
       "80  1810  3.71\n",
       "81  1987  3.73\n",
       "82  1962  3.76\n",
       "83  2050  3.81\n",
       "\n",
       "[84 rows x 2 columns]"
      ]
     },
     "execution_count": 2,
     "metadata": {},
     "output_type": "execute_result"
    }
   ],
   "source": [
    "# Loading Data\n",
    "data = pd.read_csv('../input/101-simple-linear-regressioncsv/1.01. Simple linear regression.csv')\n",
    "data"
   ]
  },
  {
   "cell_type": "code",
   "execution_count": 3,
   "id": "adjustable-patent",
   "metadata": {
    "execution": {
     "iopub.execute_input": "2021-06-06T16:28:52.314281Z",
     "iopub.status.busy": "2021-06-06T16:28:52.313733Z",
     "iopub.status.idle": "2021-06-06T16:28:52.318645Z",
     "shell.execute_reply": "2021-06-06T16:28:52.317895Z",
     "shell.execute_reply.started": "2021-06-06T16:27:13.460741Z"
    },
    "papermill": {
     "duration": 0.031044,
     "end_time": "2021-06-06T16:28:52.318870",
     "exception": false,
     "start_time": "2021-06-06T16:28:52.287826",
     "status": "completed"
    },
    "tags": []
   },
   "outputs": [
    {
     "name": "stdout",
     "output_type": "stream",
     "text": [
      "<class 'pandas.core.frame.DataFrame'>\n",
      "RangeIndex: 84 entries, 0 to 83\n",
      "Data columns (total 2 columns):\n",
      " #   Column  Non-Null Count  Dtype  \n",
      "---  ------  --------------  -----  \n",
      " 0   SAT     84 non-null     int64  \n",
      " 1   GPA     84 non-null     float64\n",
      "dtypes: float64(1), int64(1)\n",
      "memory usage: 1.4 KB\n"
     ]
    }
   ],
   "source": [
    "data.info()"
   ]
  },
  {
   "cell_type": "code",
   "execution_count": 4,
   "id": "clear-floor",
   "metadata": {
    "execution": {
     "iopub.execute_input": "2021-06-06T16:28:52.348154Z",
     "iopub.status.busy": "2021-06-06T16:28:52.347177Z",
     "iopub.status.idle": "2021-06-06T16:28:52.359953Z",
     "shell.execute_reply": "2021-06-06T16:28:52.359490Z",
     "shell.execute_reply.started": "2021-06-06T16:27:13.476728Z"
    },
    "papermill": {
     "duration": 0.02998,
     "end_time": "2021-06-06T16:28:52.360086",
     "exception": false,
     "start_time": "2021-06-06T16:28:52.330106",
     "status": "completed"
    },
    "tags": []
   },
   "outputs": [
    {
     "data": {
      "text/html": [
       "<div>\n",
       "<style scoped>\n",
       "    .dataframe tbody tr th:only-of-type {\n",
       "        vertical-align: middle;\n",
       "    }\n",
       "\n",
       "    .dataframe tbody tr th {\n",
       "        vertical-align: top;\n",
       "    }\n",
       "\n",
       "    .dataframe thead th {\n",
       "        text-align: right;\n",
       "    }\n",
       "</style>\n",
       "<table border=\"1\" class=\"dataframe\">\n",
       "  <thead>\n",
       "    <tr style=\"text-align: right;\">\n",
       "      <th></th>\n",
       "      <th>SAT</th>\n",
       "      <th>GPA</th>\n",
       "    </tr>\n",
       "  </thead>\n",
       "  <tbody>\n",
       "    <tr>\n",
       "      <th>count</th>\n",
       "      <td>84.000000</td>\n",
       "      <td>84.000000</td>\n",
       "    </tr>\n",
       "    <tr>\n",
       "      <th>mean</th>\n",
       "      <td>1845.273810</td>\n",
       "      <td>3.330238</td>\n",
       "    </tr>\n",
       "    <tr>\n",
       "      <th>std</th>\n",
       "      <td>104.530661</td>\n",
       "      <td>0.271617</td>\n",
       "    </tr>\n",
       "    <tr>\n",
       "      <th>min</th>\n",
       "      <td>1634.000000</td>\n",
       "      <td>2.400000</td>\n",
       "    </tr>\n",
       "    <tr>\n",
       "      <th>25%</th>\n",
       "      <td>1772.000000</td>\n",
       "      <td>3.190000</td>\n",
       "    </tr>\n",
       "    <tr>\n",
       "      <th>50%</th>\n",
       "      <td>1846.000000</td>\n",
       "      <td>3.380000</td>\n",
       "    </tr>\n",
       "    <tr>\n",
       "      <th>75%</th>\n",
       "      <td>1934.000000</td>\n",
       "      <td>3.502500</td>\n",
       "    </tr>\n",
       "    <tr>\n",
       "      <th>max</th>\n",
       "      <td>2050.000000</td>\n",
       "      <td>3.810000</td>\n",
       "    </tr>\n",
       "  </tbody>\n",
       "</table>\n",
       "</div>"
      ],
      "text/plain": [
       "               SAT        GPA\n",
       "count    84.000000  84.000000\n",
       "mean   1845.273810   3.330238\n",
       "std     104.530661   0.271617\n",
       "min    1634.000000   2.400000\n",
       "25%    1772.000000   3.190000\n",
       "50%    1846.000000   3.380000\n",
       "75%    1934.000000   3.502500\n",
       "max    2050.000000   3.810000"
      ]
     },
     "execution_count": 4,
     "metadata": {},
     "output_type": "execute_result"
    }
   ],
   "source": [
    "data.describe()"
   ]
  },
  {
   "cell_type": "code",
   "execution_count": 5,
   "id": "herbal-psychology",
   "metadata": {
    "execution": {
     "iopub.execute_input": "2021-06-06T16:28:52.392462Z",
     "iopub.status.busy": "2021-06-06T16:28:52.391508Z",
     "iopub.status.idle": "2021-06-06T16:28:52.395714Z",
     "shell.execute_reply": "2021-06-06T16:28:52.395186Z",
     "shell.execute_reply.started": "2021-06-06T16:27:13.506715Z"
    },
    "papermill": {
     "duration": 0.024976,
     "end_time": "2021-06-06T16:28:52.395843",
     "exception": false,
     "start_time": "2021-06-06T16:28:52.370867",
     "status": "completed"
    },
    "tags": []
   },
   "outputs": [
    {
     "data": {
      "text/html": [
       "<div>\n",
       "<style scoped>\n",
       "    .dataframe tbody tr th:only-of-type {\n",
       "        vertical-align: middle;\n",
       "    }\n",
       "\n",
       "    .dataframe tbody tr th {\n",
       "        vertical-align: top;\n",
       "    }\n",
       "\n",
       "    .dataframe thead th {\n",
       "        text-align: right;\n",
       "    }\n",
       "</style>\n",
       "<table border=\"1\" class=\"dataframe\">\n",
       "  <thead>\n",
       "    <tr style=\"text-align: right;\">\n",
       "      <th></th>\n",
       "      <th>SAT</th>\n",
       "      <th>GPA</th>\n",
       "    </tr>\n",
       "  </thead>\n",
       "  <tbody>\n",
       "    <tr>\n",
       "      <th>SAT</th>\n",
       "      <td>1.000000</td>\n",
       "      <td>0.637184</td>\n",
       "    </tr>\n",
       "    <tr>\n",
       "      <th>GPA</th>\n",
       "      <td>0.637184</td>\n",
       "      <td>1.000000</td>\n",
       "    </tr>\n",
       "  </tbody>\n",
       "</table>\n",
       "</div>"
      ],
      "text/plain": [
       "          SAT       GPA\n",
       "SAT  1.000000  0.637184\n",
       "GPA  0.637184  1.000000"
      ]
     },
     "execution_count": 5,
     "metadata": {},
     "output_type": "execute_result"
    }
   ],
   "source": [
    "data.corr()"
   ]
  },
  {
   "cell_type": "code",
   "execution_count": 6,
   "id": "fewer-bangkok",
   "metadata": {
    "execution": {
     "iopub.execute_input": "2021-06-06T16:28:52.423608Z",
     "iopub.status.busy": "2021-06-06T16:28:52.422685Z",
     "iopub.status.idle": "2021-06-06T16:28:52.608184Z",
     "shell.execute_reply": "2021-06-06T16:28:52.607251Z",
     "shell.execute_reply.started": "2021-06-06T16:27:13.524125Z"
    },
    "papermill": {
     "duration": 0.201564,
     "end_time": "2021-06-06T16:28:52.608325",
     "exception": false,
     "start_time": "2021-06-06T16:28:52.406761",
     "status": "completed"
    },
    "tags": []
   },
   "outputs": [
    {
     "data": {
      "image/png": "[encoded data removed]",
      "text/plain": [
       "<Figure size 720x360 with 1 Axes>"
      ]
     },
     "metadata": {},
     "output_type": "display_data"
    }
   ],
   "source": [
    "# Plotting the distribution of Data\n",
    "plt.figure(figsize=(10,5))\n",
    "plt.title('SAT Score vs GPA', fontsize=13)\n",
    "plt.xlabel('SAT', fontsize=12)\n",
    "plt.ylabel('GPA', fontsize=12)\n",
    "plt.scatter(data.SAT, data.GPA, s=75, color='black')\n",
    "plt.show()"
   ]
  },
  {
   "cell_type": "code",
   "execution_count": 7,
   "id": "responsible-champagne",
   "metadata": {
    "execution": {
     "iopub.execute_input": "2021-06-06T16:28:52.638772Z",
     "iopub.status.busy": "2021-06-06T16:28:52.638152Z",
     "iopub.status.idle": "2021-06-06T16:28:53.823504Z",
     "shell.execute_reply": "2021-06-06T16:28:53.822565Z",
     "shell.execute_reply.started": "2021-06-06T16:27:13.839244Z"
    },
    "papermill": {
     "duration": 1.201415,
     "end_time": "2021-06-06T16:28:53.823762",
     "exception": false,
     "start_time": "2021-06-06T16:28:52.622347",
     "status": "completed"
    },
    "tags": []
   },
   "outputs": [],
   "source": [
    "from sklearn.model_selection import train_test_split \n",
    "from sklearn.linear_model import LinearRegression \n",
    "from sklearn import metrics"
   ]
  },
  {
   "cell_type": "code",
   "execution_count": 8,
   "id": "revolutionary-climate",
   "metadata": {
    "execution": {
     "iopub.execute_input": "2021-06-06T16:28:53.860181Z",
     "iopub.status.busy": "2021-06-06T16:28:53.859603Z",
     "iopub.status.idle": "2021-06-06T16:28:53.863516Z",
     "shell.execute_reply": "2021-06-06T16:28:53.864139Z",
     "shell.execute_reply.started": "2021-06-06T16:27:13.847963Z"
    },
    "papermill": {
     "duration": 0.021904,
     "end_time": "2021-06-06T16:28:53.864297",
     "exception": false,
     "start_time": "2021-06-06T16:28:53.842393",
     "status": "completed"
    },
    "tags": []
   },
   "outputs": [],
   "source": [
    "X = data.iloc[:, :-1].values\n",
    "y = data.iloc[:, -1].values\n",
    "X_train, X_test, y_train, y_test = train_test_split(X, y, test_size=0.1, random_state=0)"
   ]
  },
  {
   "cell_type": "code",
   "execution_count": 9,
   "id": "liquid-series",
   "metadata": {
    "execution": {
     "iopub.execute_input": "2021-06-06T16:28:53.892344Z",
     "iopub.status.busy": "2021-06-06T16:28:53.891787Z",
     "iopub.status.idle": "2021-06-06T16:28:53.897490Z",
     "shell.execute_reply": "2021-06-06T16:28:53.898212Z",
     "shell.execute_reply.started": "2021-06-06T16:27:13.858625Z"
    },
    "papermill": {
     "duration": 0.021537,
     "end_time": "2021-06-06T16:28:53.898421",
     "exception": false,
     "start_time": "2021-06-06T16:28:53.876884",
     "status": "completed"
    },
    "tags": []
   },
   "outputs": [
    {
     "name": "stdout",
     "output_type": "stream",
     "text": [
      "X_train: (75, 1)\n",
      "X_test: (9, 1)\n",
      "y_train: (75,)\n",
      "y_test: (9,)\n"
     ]
    }
   ],
   "source": [
    "print(f'X_train: {X_train.shape}\\nX_test: {X_test.shape}\\ny_train: {y_train.shape}\\ny_test: {y_test.shape}')"
   ]
  },
  {
   "cell_type": "code",
   "execution_count": 10,
   "id": "clinical-stock",
   "metadata": {
    "execution": {
     "iopub.execute_input": "2021-06-06T16:28:53.935666Z",
     "iopub.status.busy": "2021-06-06T16:28:53.934987Z",
     "iopub.status.idle": "2021-06-06T16:28:53.950553Z",
     "shell.execute_reply": "2021-06-06T16:28:53.951101Z",
     "shell.execute_reply.started": "2021-06-06T16:27:13.870640Z"
    },
    "papermill": {
     "duration": 0.039721,
     "end_time": "2021-06-06T16:28:53.951275",
     "exception": false,
     "start_time": "2021-06-06T16:28:53.911554",
     "status": "completed"
    },
    "tags": []
   },
   "outputs": [
    {
     "data": {
      "text/plain": [
       "LinearRegression()"
      ]
     },
     "execution_count": 10,
     "metadata": {},
     "output_type": "execute_result"
    }
   ],
   "source": [
    "# Modeling & Fitting \n",
    "model = LinearRegression()\n",
    "model.fit(X_train, y_train)"
   ]
  },
  {
   "cell_type": "code",
   "execution_count": 11,
   "id": "mounted-vector",
   "metadata": {
    "execution": {
     "iopub.execute_input": "2021-06-06T16:28:53.980341Z",
     "iopub.status.busy": "2021-06-06T16:28:53.979523Z",
     "iopub.status.idle": "2021-06-06T16:28:53.986001Z",
     "shell.execute_reply": "2021-06-06T16:28:53.985582Z",
     "shell.execute_reply.started": "2021-06-06T16:27:13.886192Z"
    },
    "papermill": {
     "duration": 0.021521,
     "end_time": "2021-06-06T16:28:53.986129",
     "exception": false,
     "start_time": "2021-06-06T16:28:53.964608",
     "status": "completed"
    },
    "tags": []
   },
   "outputs": [
    {
     "name": "stdout",
     "output_type": "stream",
     "text": [
      "Coefficients: [0.00174641]\n",
      "Intercepts: 0.10038821971624712\n"
     ]
    }
   ],
   "source": [
    "print(f'Coefficients: {model.coef_}')\n",
    "print(f'Intercepts: {model.intercept_}')"
   ]
  },
  {
   "cell_type": "code",
   "execution_count": 12,
   "id": "sunset-gentleman",
   "metadata": {
    "execution": {
     "iopub.execute_input": "2021-06-06T16:28:54.014992Z",
     "iopub.status.busy": "2021-06-06T16:28:54.014416Z",
     "iopub.status.idle": "2021-06-06T16:28:54.168291Z",
     "shell.execute_reply": "2021-06-06T16:28:54.166947Z",
     "shell.execute_reply.started": "2021-06-06T16:27:13.897833Z"
    },
    "papermill": {
     "duration": 0.169805,
     "end_time": "2021-06-06T16:28:54.168497",
     "exception": false,
     "start_time": "2021-06-06T16:28:53.998692",
     "status": "completed"
    },
    "tags": []
   },
   "outputs": [
    {
     "data": {
      "image/png": "[encoded data removed]",
      "text/plain": [
       "<Figure size 720x360 with 1 Axes>"
      ]
     },
     "metadata": {},
     "output_type": "display_data"
    }
   ],
   "source": [
    "plt.figure(figsize=(10,5))\n",
    "plt.title('Regression Line on Training Set', fontsize=15)\n",
    "plt.scatter(X_train, y_train, s=75, color='blue')\n",
    "plt.plot(X_train, model.predict(X_train), color='black')\n",
    "plt.xlabel('SAT')\n",
    "plt.ylabel('GPA')\n",
    "plt.show()"
   ]
  },
  {
   "cell_type": "code",
   "execution_count": 13,
   "id": "noticed-nelson",
   "metadata": {
    "execution": {
     "iopub.execute_input": "2021-06-06T16:28:54.220963Z",
     "iopub.status.busy": "2021-06-06T16:28:54.219295Z",
     "iopub.status.idle": "2021-06-06T16:28:54.224076Z",
     "shell.execute_reply": "2021-06-06T16:28:54.224860Z",
     "shell.execute_reply.started": "2021-06-06T16:27:14.071893Z"
    },
    "papermill": {
     "duration": 0.034331,
     "end_time": "2021-06-06T16:28:54.225091",
     "exception": false,
     "start_time": "2021-06-06T16:28:54.190760",
     "status": "completed"
    },
    "tags": []
   },
   "outputs": [
    {
     "data": {
      "text/html": [
       "<div>\n",
       "<style scoped>\n",
       "    .dataframe tbody tr th:only-of-type {\n",
       "        vertical-align: middle;\n",
       "    }\n",
       "\n",
       "    .dataframe tbody tr th {\n",
       "        vertical-align: top;\n",
       "    }\n",
       "\n",
       "    .dataframe thead th {\n",
       "        text-align: right;\n",
       "    }\n",
       "</style>\n",
       "<table border=\"1\" class=\"dataframe\">\n",
       "  <thead>\n",
       "    <tr style=\"text-align: right;\">\n",
       "      <th></th>\n",
       "      <th>SAT Score</th>\n",
       "      <th>Actual GPA</th>\n",
       "      <th>Predicted GPA</th>\n",
       "    </tr>\n",
       "  </thead>\n",
       "  <tbody>\n",
       "    <tr>\n",
       "      <th>0</th>\n",
       "      <td>1769</td>\n",
       "      <td>3.28</td>\n",
       "      <td>3.19</td>\n",
       "    </tr>\n",
       "    <tr>\n",
       "      <th>1</th>\n",
       "      <td>1865</td>\n",
       "      <td>3.37</td>\n",
       "      <td>3.36</td>\n",
       "    </tr>\n",
       "    <tr>\n",
       "      <th>2</th>\n",
       "      <td>1702</td>\n",
       "      <td>3.39</td>\n",
       "      <td>3.07</td>\n",
       "    </tr>\n",
       "    <tr>\n",
       "      <th>3</th>\n",
       "      <td>1802</td>\n",
       "      <td>3.41</td>\n",
       "      <td>3.25</td>\n",
       "    </tr>\n",
       "    <tr>\n",
       "      <th>4</th>\n",
       "      <td>1663</td>\n",
       "      <td>3.20</td>\n",
       "      <td>3.00</td>\n",
       "    </tr>\n",
       "    <tr>\n",
       "      <th>5</th>\n",
       "      <td>1879</td>\n",
       "      <td>3.44</td>\n",
       "      <td>3.38</td>\n",
       "    </tr>\n",
       "    <tr>\n",
       "      <th>6</th>\n",
       "      <td>1760</td>\n",
       "      <td>2.54</td>\n",
       "      <td>3.17</td>\n",
       "    </tr>\n",
       "    <tr>\n",
       "      <th>7</th>\n",
       "      <td>1730</td>\n",
       "      <td>3.47</td>\n",
       "      <td>3.12</td>\n",
       "    </tr>\n",
       "    <tr>\n",
       "      <th>8</th>\n",
       "      <td>1787</td>\n",
       "      <td>3.28</td>\n",
       "      <td>3.22</td>\n",
       "    </tr>\n",
       "  </tbody>\n",
       "</table>\n",
       "</div>"
      ],
      "text/plain": [
       "   SAT Score  Actual GPA  Predicted GPA\n",
       "0       1769        3.28           3.19\n",
       "1       1865        3.37           3.36\n",
       "2       1702        3.39           3.07\n",
       "3       1802        3.41           3.25\n",
       "4       1663        3.20           3.00\n",
       "5       1879        3.44           3.38\n",
       "6       1760        2.54           3.17\n",
       "7       1730        3.47           3.12\n",
       "8       1787        3.28           3.22"
      ]
     },
     "execution_count": 13,
     "metadata": {},
     "output_type": "execute_result"
    }
   ],
   "source": [
    "y_pred = np.round(model.predict(X_test), decimals=2)\n",
    "pd.DataFrame({'SAT Score': X_test[:, 0], 'Actual GPA': y_test, 'Predicted GPA': y_pred})"
   ]
  },
  {
   "cell_type": "code",
   "execution_count": 14,
   "id": "incoming-ethernet",
   "metadata": {
    "execution": {
     "iopub.execute_input": "2021-06-06T16:28:54.268696Z",
     "iopub.status.busy": "2021-06-06T16:28:54.268085Z",
     "iopub.status.idle": "2021-06-06T16:28:54.395265Z",
     "shell.execute_reply": "2021-06-06T16:28:54.394740Z",
     "shell.execute_reply.started": "2021-06-06T16:27:14.088803Z"
    },
    "papermill": {
     "duration": 0.153282,
     "end_time": "2021-06-06T16:28:54.395401",
     "exception": false,
     "start_time": "2021-06-06T16:28:54.242119",
     "status": "completed"
    },
    "tags": []
   },
   "outputs": [
    {
     "data": {
      "image/png": "[encoded data removed]",
      "text/plain": [
       "<Figure size 720x360 with 1 Axes>"
      ]
     },
     "metadata": {},
     "output_type": "display_data"
    }
   ],
   "source": [
    "plt.figure(figsize=(10,5))\n",
    "plt.title('Regression Line on Testing Set', fontsize=15)\n",
    "plt.scatter(X_test, y_test, s=75, color='black')\n",
    "plt.plot(X_train, model.predict(X_train), color='blue')\n",
    "plt.xlabel('SAT')\n",
    "plt.ylabel('GPA')\n",
    "plt.show()"
   ]
  },
  {
   "cell_type": "code",
   "execution_count": 15,
   "id": "elementary-american",
   "metadata": {
    "execution": {
     "iopub.execute_input": "2021-06-06T16:28:54.430616Z",
     "iopub.status.busy": "2021-06-06T16:28:54.429885Z",
     "iopub.status.idle": "2021-06-06T16:28:54.433590Z",
     "shell.execute_reply": "2021-06-06T16:28:54.432817Z",
     "shell.execute_reply.started": "2021-06-06T16:27:14.250480Z"
    },
    "papermill": {
     "duration": 0.023429,
     "end_time": "2021-06-06T16:28:54.433760",
     "exception": false,
     "start_time": "2021-06-06T16:28:54.410331",
     "status": "completed"
    },
    "tags": []
   },
   "outputs": [
    {
     "name": "stdout",
     "output_type": "stream",
     "text": [
      "Mean Absolute Error(MAE): 0.20888888888888893\n"
     ]
    }
   ],
   "source": [
    "print(f'Mean Absolute Error(MAE): {metrics.mean_absolute_error(y_test, y_pred)}')"
   ]
  },
  {
   "cell_type": "markdown",
   "id": "average-heritage",
   "metadata": {
    "papermill": {
     "duration": 0.014539,
     "end_time": "2021-06-06T16:28:54.464522",
     "exception": false,
     "start_time": "2021-06-06T16:28:54.449983",
     "status": "completed"
    },
    "tags": []
   },
   "source": [
    "## Thank You!"
   ]
  }
 ],
 "metadata": {
  "kernelspec": {
   "display_name": "Python 3",
   "language": "python",
   "name": "python3"
  },
  "language_info": {
   "codemirror_mode": {
    "name": "ipython",
    "version": 3
   },
   "file_extension": ".py",
   "mimetype": "text/x-python",
   "name": "python",
   "nbconvert_exporter": "python",
   "pygments_lexer": "ipython3",
   "version": "3.7.9"
  },
  "papermill": {
   "default_parameters": {},
   "duration": 8.25046,
   "end_time": "2021-06-06T16:28:55.087974",
   "environment_variables": {},
   "exception": null,
   "input_path": "__notebook__.ipynb",
   "output_path": "__notebook__.ipynb",
   "parameters": {},
   "start_time": "2021-06-06T16:28:46.837514",
   "version": "2.3.2"
  }
 },
 "nbformat": 4,
 "nbformat_minor": 5
}
